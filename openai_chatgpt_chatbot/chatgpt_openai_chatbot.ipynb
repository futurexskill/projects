{
  "nbformat": 4,
  "nbformat_minor": 0,
  "metadata": {
    "colab": {
      "provenance": []
    },
    "kernelspec": {
      "name": "python3",
      "display_name": "Python 3"
    },
    "language_info": {
      "name": "python"
    }
  },
  "cells": [
    {
      "cell_type": "code",
      "execution_count": null,
      "metadata": {
        "colab": {
          "base_uri": "https://localhost:8080/"
        },
        "id": "Q56MUQfdrHy6",
        "outputId": "dba41e1d-bc18-4206-a4d8-600070c25ba5"
      },
      "outputs": [
        {
          "output_type": "stream",
          "name": "stdout",
          "text": [
            "Collecting openai\n",
            "  Downloading openai-1.3.5-py3-none-any.whl (220 kB)\n",
            "\u001b[?25l     \u001b[90m━━━━━━━━━━━━━━━━━━━━━━━━━━━━━━━━━━━━━━━━\u001b[0m \u001b[32m0.0/220.8 kB\u001b[0m \u001b[31m?\u001b[0m eta \u001b[36m-:--:--\u001b[0m\r\u001b[2K     \u001b[91m━━━━━━━━━━━━\u001b[0m\u001b[91m╸\u001b[0m\u001b[90m━━━━━━━━━━━━━━━━━━━━━━━━━━━\u001b[0m \u001b[32m71.7/220.8 kB\u001b[0m \u001b[31m1.9 MB/s\u001b[0m eta \u001b[36m0:00:01\u001b[0m\r\u001b[2K     \u001b[90m━━━━━━━━━━━━━━━━━━━━━━━━━━━━━━━━━━━━━━━━\u001b[0m \u001b[32m220.8/220.8 kB\u001b[0m \u001b[31m3.5 MB/s\u001b[0m eta \u001b[36m0:00:00\u001b[0m\n",
            "\u001b[?25hRequirement already satisfied: anyio<4,>=3.5.0 in /usr/local/lib/python3.10/dist-packages (from openai) (3.7.1)\n",
            "Requirement already satisfied: distro<2,>=1.7.0 in /usr/lib/python3/dist-packages (from openai) (1.7.0)\n",
            "Collecting httpx<1,>=0.23.0 (from openai)\n",
            "  Downloading httpx-0.25.2-py3-none-any.whl (74 kB)\n",
            "\u001b[2K     \u001b[90m━━━━━━━━━━━━━━━━━━━━━━━━━━━━━━━━━━━━━━━━\u001b[0m \u001b[32m75.0/75.0 kB\u001b[0m \u001b[31m9.2 MB/s\u001b[0m eta \u001b[36m0:00:00\u001b[0m\n",
            "\u001b[?25hRequirement already satisfied: pydantic<3,>=1.9.0 in /usr/local/lib/python3.10/dist-packages (from openai) (1.10.13)\n",
            "Requirement already satisfied: tqdm>4 in /usr/local/lib/python3.10/dist-packages (from openai) (4.66.1)\n",
            "Requirement already satisfied: typing-extensions<5,>=4.5 in /usr/local/lib/python3.10/dist-packages (from openai) (4.5.0)\n",
            "Requirement already satisfied: idna>=2.8 in /usr/local/lib/python3.10/dist-packages (from anyio<4,>=3.5.0->openai) (3.4)\n",
            "Requirement already satisfied: sniffio>=1.1 in /usr/local/lib/python3.10/dist-packages (from anyio<4,>=3.5.0->openai) (1.3.0)\n",
            "Requirement already satisfied: exceptiongroup in /usr/local/lib/python3.10/dist-packages (from anyio<4,>=3.5.0->openai) (1.1.3)\n",
            "Requirement already satisfied: certifi in /usr/local/lib/python3.10/dist-packages (from httpx<1,>=0.23.0->openai) (2023.7.22)\n",
            "Collecting httpcore==1.* (from httpx<1,>=0.23.0->openai)\n",
            "  Downloading httpcore-1.0.2-py3-none-any.whl (76 kB)\n",
            "\u001b[2K     \u001b[90m━━━━━━━━━━━━━━━━━━━━━━━━━━━━━━━━━━━━━━━━\u001b[0m \u001b[32m76.9/76.9 kB\u001b[0m \u001b[31m10.0 MB/s\u001b[0m eta \u001b[36m0:00:00\u001b[0m\n",
            "\u001b[?25hCollecting h11<0.15,>=0.13 (from httpcore==1.*->httpx<1,>=0.23.0->openai)\n",
            "  Downloading h11-0.14.0-py3-none-any.whl (58 kB)\n",
            "\u001b[2K     \u001b[90m━━━━━━━━━━━━━━━━━━━━━━━━━━━━━━━━━━━━━━━━\u001b[0m \u001b[32m58.3/58.3 kB\u001b[0m \u001b[31m6.9 MB/s\u001b[0m eta \u001b[36m0:00:00\u001b[0m\n",
            "\u001b[?25hInstalling collected packages: h11, httpcore, httpx, openai\n",
            "\u001b[31mERROR: pip's dependency resolver does not currently take into account all the packages that are installed. This behaviour is the source of the following dependency conflicts.\n",
            "llmx 0.0.15a0 requires cohere, which is not installed.\n",
            "llmx 0.0.15a0 requires tiktoken, which is not installed.\u001b[0m\u001b[31m\n",
            "\u001b[0mSuccessfully installed h11-0.14.0 httpcore-1.0.2 httpx-0.25.2 openai-1.3.5\n"
          ]
        }
      ],
      "source": [
        "!pip install openai"
      ]
    },
    {
      "cell_type": "code",
      "source": [
        "from openai import OpenAI\n",
        "\n",
        "client = OpenAI(\n",
        "    # defaults to os.environ.get(\"OPENAI_API_KEY\")\n",
        "    api_key=\"sk-replace-with-your-own-key\",\n",
        ")"
      ],
      "metadata": {
        "id": "bptOFiVArJ53"
      },
      "execution_count": null,
      "outputs": []
    },
    {
      "cell_type": "code",
      "source": [
        "def display_chat_history(messages):\n",
        "    for message in messages:\n",
        "        print(f\"{message['role'].capitalize()}: {message['content']}\")"
      ],
      "metadata": {
        "id": "VGsLjv1ArZjb"
      },
      "execution_count": null,
      "outputs": []
    },
    {
      "cell_type": "code",
      "source": [
        "def get_assistant_response(messages):\n",
        "    r = client.chat.completions.create(\n",
        "        model=\"gpt-3.5-turbo\",\n",
        "        messages=[{\"role\": m[\"role\"], \"content\": m[\"content\"]} for m in messages],\n",
        "    )\n",
        "    response = r.choices[0].message.content\n",
        "    return response\n"
      ],
      "metadata": {
        "id": "L6BMp-JErmIb"
      },
      "execution_count": null,
      "outputs": []
    },
    {
      "cell_type": "code",
      "source": [
        "messages = [{\"role\": \"assistant\", \"content\": \"How can I help?\"}]\n"
      ],
      "metadata": {
        "id": "JLXVs_gesCfb"
      },
      "execution_count": null,
      "outputs": []
    },
    {
      "cell_type": "code",
      "source": [
        "while True:\n",
        "    display_chat_history(messages)\n",
        "\n",
        "    user_input = input(\"User: \")\n",
        "    messages.append({\"role\": \"user\", \"content\": user_input})\n",
        "\n",
        "    assistant_response = get_assistant_response(messages)\n",
        "    messages.append({\"role\": \"assistant\", \"content\": assistant_response})"
      ],
      "metadata": {
        "colab": {
          "base_uri": "https://localhost:8080/"
        },
        "id": "0cVqg0lUsjOW",
        "outputId": "b342f4a7-cc89-4145-8888-c8bc30cb4c9e"
      },
      "execution_count": null,
      "outputs": [
        {
          "metadata": {
            "tags": null
          },
          "name": "stdout",
          "output_type": "stream",
          "text": [
            "Assistant: How can I help?\n",
            "Assistant: How can I help?\n",
            "User: who won the cricket world cup in 2019\n",
            "Assistant: The cricket team of England won the Cricket World Cup in 2019. They defeated New Zealand in the final, which took place on July 14, 2019.\n",
            "Assistant: How can I help?\n",
            "User: who won the cricket world cup in 2019\n",
            "Assistant: The cricket team of England won the Cricket World Cup in 2019. They defeated New Zealand in the final, which took place on July 14, 2019.\n",
            "User: who was the man of the match in the final\n",
            "Assistant: The man of the match in the final of the Cricket World Cup 2019 was Ben Stokes from the England cricket team.\n",
            "Assistant: How can I help?\n",
            "User: who won the cricket world cup in 2019\n",
            "Assistant: The cricket team of England won the Cricket World Cup in 2019. They defeated New Zealand in the final, which took place on July 14, 2019.\n",
            "User: who was the man of the match in the final\n",
            "Assistant: The man of the match in the final of the Cricket World Cup 2019 was Ben Stokes from the England cricket team.\n",
            "User: who was the man of the series\n",
            "Assistant: The man of the series in the Cricket World Cup 2019 was Kane Williamson from the New Zealand cricket team.\n",
            "Assistant: How can I help?\n",
            "User: who won the cricket world cup in 2019\n",
            "Assistant: The cricket team of England won the Cricket World Cup in 2019. They defeated New Zealand in the final, which took place on July 14, 2019.\n",
            "User: who was the man of the match in the final\n",
            "Assistant: The man of the match in the final of the Cricket World Cup 2019 was Ben Stokes from the England cricket team.\n",
            "User: who was the man of the series\n",
            "Assistant: The man of the series in the Cricket World Cup 2019 was Kane Williamson from the New Zealand cricket team.\n",
            "User: who took maximum number of wickets\n",
            "Assistant: The highest number of wickets in the Cricket World Cup 2019 were taken by Mitchell Starc from Australia. He took a total of 27 wickets throughout the tournament.\n"
          ]
        }
      ]
    },
    {
      "cell_type": "code",
      "source": [],
      "metadata": {
        "id": "itTyxeGDsz0o"
      },
      "execution_count": null,
      "outputs": []
    }
  ]
}