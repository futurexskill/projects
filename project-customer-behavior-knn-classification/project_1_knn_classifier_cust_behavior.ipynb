{
  "nbformat": 4,
  "nbformat_minor": 0,
  "metadata": {
    "colab": {
      "provenance": []
    },
    "kernelspec": {
      "name": "python3",
      "display_name": "Python 3"
    },
    "language_info": {
      "name": "python"
    }
  },
  "cells": [
    {
      "cell_type": "code",
      "execution_count": 1,
      "metadata": {
        "id": "5KIupeonHwwe"
      },
      "outputs": [],
      "source": [
        "import pandas as pd\n",
        "import numpy as np"
      ]
    },
    {
      "cell_type": "code",
      "source": [
        "df = pd.read_csv(\"https://raw.githubusercontent.com/data-es-institute/projects/main/project-1-customer-purchase-behavior-knn/purchase_history.csv\")"
      ],
      "metadata": {
        "id": "dW6c_dwAInk3"
      },
      "execution_count": 2,
      "outputs": []
    },
    {
      "cell_type": "code",
      "source": [
        "df.head()"
      ],
      "metadata": {
        "colab": {
          "base_uri": "https://localhost:8080/",
          "height": 206
        },
        "id": "vb-VGJrYlH52",
        "outputId": "70084956-5895-4645-9924-7de188399130"
      },
      "execution_count": 3,
      "outputs": [
        {
          "output_type": "execute_result",
          "data": {
            "text/plain": [
              "   Customer ID  Gender  Age  Salary Product ID  Price  Purchased\n",
              "0            1  Female   49   61000        P01   2000          1\n",
              "1            2    Male   36   30000        P02   2000          1\n",
              "2            3  Female   26   81000        P02   3500          1\n",
              "3            4  Female   32   74000        P01   7000          0\n",
              "4            5  Female   42   56000        P01   5000          0"
            ],
            "text/html": [
              "\n",
              "  <div id=\"df-1b59753d-2240-4250-8c8f-62f0d9a8a1fe\">\n",
              "    <div class=\"colab-df-container\">\n",
              "      <div>\n",
              "<style scoped>\n",
              "    .dataframe tbody tr th:only-of-type {\n",
              "        vertical-align: middle;\n",
              "    }\n",
              "\n",
              "    .dataframe tbody tr th {\n",
              "        vertical-align: top;\n",
              "    }\n",
              "\n",
              "    .dataframe thead th {\n",
              "        text-align: right;\n",
              "    }\n",
              "</style>\n",
              "<table border=\"1\" class=\"dataframe\">\n",
              "  <thead>\n",
              "    <tr style=\"text-align: right;\">\n",
              "      <th></th>\n",
              "      <th>Customer ID</th>\n",
              "      <th>Gender</th>\n",
              "      <th>Age</th>\n",
              "      <th>Salary</th>\n",
              "      <th>Product ID</th>\n",
              "      <th>Price</th>\n",
              "      <th>Purchased</th>\n",
              "    </tr>\n",
              "  </thead>\n",
              "  <tbody>\n",
              "    <tr>\n",
              "      <th>0</th>\n",
              "      <td>1</td>\n",
              "      <td>Female</td>\n",
              "      <td>49</td>\n",
              "      <td>61000</td>\n",
              "      <td>P01</td>\n",
              "      <td>2000</td>\n",
              "      <td>1</td>\n",
              "    </tr>\n",
              "    <tr>\n",
              "      <th>1</th>\n",
              "      <td>2</td>\n",
              "      <td>Male</td>\n",
              "      <td>36</td>\n",
              "      <td>30000</td>\n",
              "      <td>P02</td>\n",
              "      <td>2000</td>\n",
              "      <td>1</td>\n",
              "    </tr>\n",
              "    <tr>\n",
              "      <th>2</th>\n",
              "      <td>3</td>\n",
              "      <td>Female</td>\n",
              "      <td>26</td>\n",
              "      <td>81000</td>\n",
              "      <td>P02</td>\n",
              "      <td>3500</td>\n",
              "      <td>1</td>\n",
              "    </tr>\n",
              "    <tr>\n",
              "      <th>3</th>\n",
              "      <td>4</td>\n",
              "      <td>Female</td>\n",
              "      <td>32</td>\n",
              "      <td>74000</td>\n",
              "      <td>P01</td>\n",
              "      <td>7000</td>\n",
              "      <td>0</td>\n",
              "    </tr>\n",
              "    <tr>\n",
              "      <th>4</th>\n",
              "      <td>5</td>\n",
              "      <td>Female</td>\n",
              "      <td>42</td>\n",
              "      <td>56000</td>\n",
              "      <td>P01</td>\n",
              "      <td>5000</td>\n",
              "      <td>0</td>\n",
              "    </tr>\n",
              "  </tbody>\n",
              "</table>\n",
              "</div>\n",
              "      <button class=\"colab-df-convert\" onclick=\"convertToInteractive('df-1b59753d-2240-4250-8c8f-62f0d9a8a1fe')\"\n",
              "              title=\"Convert this dataframe to an interactive table.\"\n",
              "              style=\"display:none;\">\n",
              "        \n",
              "  <svg xmlns=\"http://www.w3.org/2000/svg\" height=\"24px\"viewBox=\"0 0 24 24\"\n",
              "       width=\"24px\">\n",
              "    <path d=\"M0 0h24v24H0V0z\" fill=\"none\"/>\n",
              "    <path d=\"M18.56 5.44l.94 2.06.94-2.06 2.06-.94-2.06-.94-.94-2.06-.94 2.06-2.06.94zm-11 1L8.5 8.5l.94-2.06 2.06-.94-2.06-.94L8.5 2.5l-.94 2.06-2.06.94zm10 10l.94 2.06.94-2.06 2.06-.94-2.06-.94-.94-2.06-.94 2.06-2.06.94z\"/><path d=\"M17.41 7.96l-1.37-1.37c-.4-.4-.92-.59-1.43-.59-.52 0-1.04.2-1.43.59L10.3 9.45l-7.72 7.72c-.78.78-.78 2.05 0 2.83L4 21.41c.39.39.9.59 1.41.59.51 0 1.02-.2 1.41-.59l7.78-7.78 2.81-2.81c.8-.78.8-2.07 0-2.86zM5.41 20L4 18.59l7.72-7.72 1.47 1.35L5.41 20z\"/>\n",
              "  </svg>\n",
              "      </button>\n",
              "      \n",
              "  <style>\n",
              "    .colab-df-container {\n",
              "      display:flex;\n",
              "      flex-wrap:wrap;\n",
              "      gap: 12px;\n",
              "    }\n",
              "\n",
              "    .colab-df-convert {\n",
              "      background-color: #E8F0FE;\n",
              "      border: none;\n",
              "      border-radius: 50%;\n",
              "      cursor: pointer;\n",
              "      display: none;\n",
              "      fill: #1967D2;\n",
              "      height: 32px;\n",
              "      padding: 0 0 0 0;\n",
              "      width: 32px;\n",
              "    }\n",
              "\n",
              "    .colab-df-convert:hover {\n",
              "      background-color: #E2EBFA;\n",
              "      box-shadow: 0px 1px 2px rgba(60, 64, 67, 0.3), 0px 1px 3px 1px rgba(60, 64, 67, 0.15);\n",
              "      fill: #174EA6;\n",
              "    }\n",
              "\n",
              "    [theme=dark] .colab-df-convert {\n",
              "      background-color: #3B4455;\n",
              "      fill: #D2E3FC;\n",
              "    }\n",
              "\n",
              "    [theme=dark] .colab-df-convert:hover {\n",
              "      background-color: #434B5C;\n",
              "      box-shadow: 0px 1px 3px 1px rgba(0, 0, 0, 0.15);\n",
              "      filter: drop-shadow(0px 1px 2px rgba(0, 0, 0, 0.3));\n",
              "      fill: #FFFFFF;\n",
              "    }\n",
              "  </style>\n",
              "\n",
              "      <script>\n",
              "        const buttonEl =\n",
              "          document.querySelector('#df-1b59753d-2240-4250-8c8f-62f0d9a8a1fe button.colab-df-convert');\n",
              "        buttonEl.style.display =\n",
              "          google.colab.kernel.accessAllowed ? 'block' : 'none';\n",
              "\n",
              "        async function convertToInteractive(key) {\n",
              "          const element = document.querySelector('#df-1b59753d-2240-4250-8c8f-62f0d9a8a1fe');\n",
              "          const dataTable =\n",
              "            await google.colab.kernel.invokeFunction('convertToInteractive',\n",
              "                                                     [key], {});\n",
              "          if (!dataTable) return;\n",
              "\n",
              "          const docLinkHtml = 'Like what you see? Visit the ' +\n",
              "            '<a target=\"_blank\" href=https://colab.research.google.com/notebooks/data_table.ipynb>data table notebook</a>'\n",
              "            + ' to learn more about interactive tables.';\n",
              "          element.innerHTML = '';\n",
              "          dataTable['output_type'] = 'display_data';\n",
              "          await google.colab.output.renderOutput(dataTable, element);\n",
              "          const docLink = document.createElement('div');\n",
              "          docLink.innerHTML = docLinkHtml;\n",
              "          element.appendChild(docLink);\n",
              "        }\n",
              "      </script>\n",
              "    </div>\n",
              "  </div>\n",
              "  "
            ]
          },
          "metadata": {},
          "execution_count": 3
        }
      ]
    },
    {
      "cell_type": "code",
      "source": [
        "df.count()"
      ],
      "metadata": {
        "colab": {
          "base_uri": "https://localhost:8080/"
        },
        "id": "Jnuw8fkZlej5",
        "outputId": "57ae8f0f-e47b-4351-862c-79b3a68064ad"
      },
      "execution_count": 4,
      "outputs": [
        {
          "output_type": "execute_result",
          "data": {
            "text/plain": [
              "Customer ID    1000\n",
              "Gender         1000\n",
              "Age            1000\n",
              "Salary         1000\n",
              "Product ID     1000\n",
              "Price          1000\n",
              "Purchased      1000\n",
              "dtype: int64"
            ]
          },
          "metadata": {},
          "execution_count": 4
        }
      ]
    },
    {
      "cell_type": "code",
      "source": [
        "len(df)"
      ],
      "metadata": {
        "colab": {
          "base_uri": "https://localhost:8080/"
        },
        "id": "hoOGLJN4lhS_",
        "outputId": "f1779741-f0e5-4a30-cbbb-55171f56dcb6"
      },
      "execution_count": 5,
      "outputs": [
        {
          "output_type": "execute_result",
          "data": {
            "text/plain": [
              "1000"
            ]
          },
          "metadata": {},
          "execution_count": 5
        }
      ]
    },
    {
      "cell_type": "code",
      "source": [
        "gender_encoded = pd.get_dummies(df['Gender'])"
      ],
      "metadata": {
        "id": "ZNlAMRPIli-y"
      },
      "execution_count": 6,
      "outputs": []
    },
    {
      "cell_type": "code",
      "source": [
        "gender_encoded"
      ],
      "metadata": {
        "colab": {
          "base_uri": "https://localhost:8080/",
          "height": 424
        },
        "id": "SNcq2bhHpZVx",
        "outputId": "59712b07-fd37-4534-9a37-ddc52db52170"
      },
      "execution_count": 7,
      "outputs": [
        {
          "output_type": "execute_result",
          "data": {
            "text/plain": [
              "     Female  Male\n",
              "0         1     0\n",
              "1         0     1\n",
              "2         1     0\n",
              "3         1     0\n",
              "4         1     0\n",
              "..      ...   ...\n",
              "995       0     1\n",
              "996       0     1\n",
              "997       1     0\n",
              "998       0     1\n",
              "999       1     0\n",
              "\n",
              "[1000 rows x 2 columns]"
            ],
            "text/html": [
              "\n",
              "  <div id=\"df-afc96421-4e12-41e3-b5d2-9f8045835e03\">\n",
              "    <div class=\"colab-df-container\">\n",
              "      <div>\n",
              "<style scoped>\n",
              "    .dataframe tbody tr th:only-of-type {\n",
              "        vertical-align: middle;\n",
              "    }\n",
              "\n",
              "    .dataframe tbody tr th {\n",
              "        vertical-align: top;\n",
              "    }\n",
              "\n",
              "    .dataframe thead th {\n",
              "        text-align: right;\n",
              "    }\n",
              "</style>\n",
              "<table border=\"1\" class=\"dataframe\">\n",
              "  <thead>\n",
              "    <tr style=\"text-align: right;\">\n",
              "      <th></th>\n",
              "      <th>Female</th>\n",
              "      <th>Male</th>\n",
              "    </tr>\n",
              "  </thead>\n",
              "  <tbody>\n",
              "    <tr>\n",
              "      <th>0</th>\n",
              "      <td>1</td>\n",
              "      <td>0</td>\n",
              "    </tr>\n",
              "    <tr>\n",
              "      <th>1</th>\n",
              "      <td>0</td>\n",
              "      <td>1</td>\n",
              "    </tr>\n",
              "    <tr>\n",
              "      <th>2</th>\n",
              "      <td>1</td>\n",
              "      <td>0</td>\n",
              "    </tr>\n",
              "    <tr>\n",
              "      <th>3</th>\n",
              "      <td>1</td>\n",
              "      <td>0</td>\n",
              "    </tr>\n",
              "    <tr>\n",
              "      <th>4</th>\n",
              "      <td>1</td>\n",
              "      <td>0</td>\n",
              "    </tr>\n",
              "    <tr>\n",
              "      <th>...</th>\n",
              "      <td>...</td>\n",
              "      <td>...</td>\n",
              "    </tr>\n",
              "    <tr>\n",
              "      <th>995</th>\n",
              "      <td>0</td>\n",
              "      <td>1</td>\n",
              "    </tr>\n",
              "    <tr>\n",
              "      <th>996</th>\n",
              "      <td>0</td>\n",
              "      <td>1</td>\n",
              "    </tr>\n",
              "    <tr>\n",
              "      <th>997</th>\n",
              "      <td>1</td>\n",
              "      <td>0</td>\n",
              "    </tr>\n",
              "    <tr>\n",
              "      <th>998</th>\n",
              "      <td>0</td>\n",
              "      <td>1</td>\n",
              "    </tr>\n",
              "    <tr>\n",
              "      <th>999</th>\n",
              "      <td>1</td>\n",
              "      <td>0</td>\n",
              "    </tr>\n",
              "  </tbody>\n",
              "</table>\n",
              "<p>1000 rows × 2 columns</p>\n",
              "</div>\n",
              "      <button class=\"colab-df-convert\" onclick=\"convertToInteractive('df-afc96421-4e12-41e3-b5d2-9f8045835e03')\"\n",
              "              title=\"Convert this dataframe to an interactive table.\"\n",
              "              style=\"display:none;\">\n",
              "        \n",
              "  <svg xmlns=\"http://www.w3.org/2000/svg\" height=\"24px\"viewBox=\"0 0 24 24\"\n",
              "       width=\"24px\">\n",
              "    <path d=\"M0 0h24v24H0V0z\" fill=\"none\"/>\n",
              "    <path d=\"M18.56 5.44l.94 2.06.94-2.06 2.06-.94-2.06-.94-.94-2.06-.94 2.06-2.06.94zm-11 1L8.5 8.5l.94-2.06 2.06-.94-2.06-.94L8.5 2.5l-.94 2.06-2.06.94zm10 10l.94 2.06.94-2.06 2.06-.94-2.06-.94-.94-2.06-.94 2.06-2.06.94z\"/><path d=\"M17.41 7.96l-1.37-1.37c-.4-.4-.92-.59-1.43-.59-.52 0-1.04.2-1.43.59L10.3 9.45l-7.72 7.72c-.78.78-.78 2.05 0 2.83L4 21.41c.39.39.9.59 1.41.59.51 0 1.02-.2 1.41-.59l7.78-7.78 2.81-2.81c.8-.78.8-2.07 0-2.86zM5.41 20L4 18.59l7.72-7.72 1.47 1.35L5.41 20z\"/>\n",
              "  </svg>\n",
              "      </button>\n",
              "      \n",
              "  <style>\n",
              "    .colab-df-container {\n",
              "      display:flex;\n",
              "      flex-wrap:wrap;\n",
              "      gap: 12px;\n",
              "    }\n",
              "\n",
              "    .colab-df-convert {\n",
              "      background-color: #E8F0FE;\n",
              "      border: none;\n",
              "      border-radius: 50%;\n",
              "      cursor: pointer;\n",
              "      display: none;\n",
              "      fill: #1967D2;\n",
              "      height: 32px;\n",
              "      padding: 0 0 0 0;\n",
              "      width: 32px;\n",
              "    }\n",
              "\n",
              "    .colab-df-convert:hover {\n",
              "      background-color: #E2EBFA;\n",
              "      box-shadow: 0px 1px 2px rgba(60, 64, 67, 0.3), 0px 1px 3px 1px rgba(60, 64, 67, 0.15);\n",
              "      fill: #174EA6;\n",
              "    }\n",
              "\n",
              "    [theme=dark] .colab-df-convert {\n",
              "      background-color: #3B4455;\n",
              "      fill: #D2E3FC;\n",
              "    }\n",
              "\n",
              "    [theme=dark] .colab-df-convert:hover {\n",
              "      background-color: #434B5C;\n",
              "      box-shadow: 0px 1px 3px 1px rgba(0, 0, 0, 0.15);\n",
              "      filter: drop-shadow(0px 1px 2px rgba(0, 0, 0, 0.3));\n",
              "      fill: #FFFFFF;\n",
              "    }\n",
              "  </style>\n",
              "\n",
              "      <script>\n",
              "        const buttonEl =\n",
              "          document.querySelector('#df-afc96421-4e12-41e3-b5d2-9f8045835e03 button.colab-df-convert');\n",
              "        buttonEl.style.display =\n",
              "          google.colab.kernel.accessAllowed ? 'block' : 'none';\n",
              "\n",
              "        async function convertToInteractive(key) {\n",
              "          const element = document.querySelector('#df-afc96421-4e12-41e3-b5d2-9f8045835e03');\n",
              "          const dataTable =\n",
              "            await google.colab.kernel.invokeFunction('convertToInteractive',\n",
              "                                                     [key], {});\n",
              "          if (!dataTable) return;\n",
              "\n",
              "          const docLinkHtml = 'Like what you see? Visit the ' +\n",
              "            '<a target=\"_blank\" href=https://colab.research.google.com/notebooks/data_table.ipynb>data table notebook</a>'\n",
              "            + ' to learn more about interactive tables.';\n",
              "          element.innerHTML = '';\n",
              "          dataTable['output_type'] = 'display_data';\n",
              "          await google.colab.output.renderOutput(dataTable, element);\n",
              "          const docLink = document.createElement('div');\n",
              "          docLink.innerHTML = docLinkHtml;\n",
              "          element.appendChild(docLink);\n",
              "        }\n",
              "      </script>\n",
              "    </div>\n",
              "  </div>\n",
              "  "
            ]
          },
          "metadata": {},
          "execution_count": 7
        }
      ]
    },
    {
      "cell_type": "code",
      "source": [
        "gender_encoded = pd.get_dummies(df['Gender'],drop_first=True)"
      ],
      "metadata": {
        "id": "Ph4mU7jmqHOq"
      },
      "execution_count": 8,
      "outputs": []
    },
    {
      "cell_type": "code",
      "source": [
        "gender_encoded"
      ],
      "metadata": {
        "colab": {
          "base_uri": "https://localhost:8080/",
          "height": 424
        },
        "id": "cDNl4Zm1wjmM",
        "outputId": "a1d4b137-ecf2-4502-ed6a-376505b362d4"
      },
      "execution_count": 9,
      "outputs": [
        {
          "output_type": "execute_result",
          "data": {
            "text/plain": [
              "     Male\n",
              "0       0\n",
              "1       1\n",
              "2       0\n",
              "3       0\n",
              "4       0\n",
              "..    ...\n",
              "995     1\n",
              "996     1\n",
              "997     0\n",
              "998     1\n",
              "999     0\n",
              "\n",
              "[1000 rows x 1 columns]"
            ],
            "text/html": [
              "\n",
              "  <div id=\"df-74be8440-b34e-440f-9298-f39739c3cf65\">\n",
              "    <div class=\"colab-df-container\">\n",
              "      <div>\n",
              "<style scoped>\n",
              "    .dataframe tbody tr th:only-of-type {\n",
              "        vertical-align: middle;\n",
              "    }\n",
              "\n",
              "    .dataframe tbody tr th {\n",
              "        vertical-align: top;\n",
              "    }\n",
              "\n",
              "    .dataframe thead th {\n",
              "        text-align: right;\n",
              "    }\n",
              "</style>\n",
              "<table border=\"1\" class=\"dataframe\">\n",
              "  <thead>\n",
              "    <tr style=\"text-align: right;\">\n",
              "      <th></th>\n",
              "      <th>Male</th>\n",
              "    </tr>\n",
              "  </thead>\n",
              "  <tbody>\n",
              "    <tr>\n",
              "      <th>0</th>\n",
              "      <td>0</td>\n",
              "    </tr>\n",
              "    <tr>\n",
              "      <th>1</th>\n",
              "      <td>1</td>\n",
              "    </tr>\n",
              "    <tr>\n",
              "      <th>2</th>\n",
              "      <td>0</td>\n",
              "    </tr>\n",
              "    <tr>\n",
              "      <th>3</th>\n",
              "      <td>0</td>\n",
              "    </tr>\n",
              "    <tr>\n",
              "      <th>4</th>\n",
              "      <td>0</td>\n",
              "    </tr>\n",
              "    <tr>\n",
              "      <th>...</th>\n",
              "      <td>...</td>\n",
              "    </tr>\n",
              "    <tr>\n",
              "      <th>995</th>\n",
              "      <td>1</td>\n",
              "    </tr>\n",
              "    <tr>\n",
              "      <th>996</th>\n",
              "      <td>1</td>\n",
              "    </tr>\n",
              "    <tr>\n",
              "      <th>997</th>\n",
              "      <td>0</td>\n",
              "    </tr>\n",
              "    <tr>\n",
              "      <th>998</th>\n",
              "      <td>1</td>\n",
              "    </tr>\n",
              "    <tr>\n",
              "      <th>999</th>\n",
              "      <td>0</td>\n",
              "    </tr>\n",
              "  </tbody>\n",
              "</table>\n",
              "<p>1000 rows × 1 columns</p>\n",
              "</div>\n",
              "      <button class=\"colab-df-convert\" onclick=\"convertToInteractive('df-74be8440-b34e-440f-9298-f39739c3cf65')\"\n",
              "              title=\"Convert this dataframe to an interactive table.\"\n",
              "              style=\"display:none;\">\n",
              "        \n",
              "  <svg xmlns=\"http://www.w3.org/2000/svg\" height=\"24px\"viewBox=\"0 0 24 24\"\n",
              "       width=\"24px\">\n",
              "    <path d=\"M0 0h24v24H0V0z\" fill=\"none\"/>\n",
              "    <path d=\"M18.56 5.44l.94 2.06.94-2.06 2.06-.94-2.06-.94-.94-2.06-.94 2.06-2.06.94zm-11 1L8.5 8.5l.94-2.06 2.06-.94-2.06-.94L8.5 2.5l-.94 2.06-2.06.94zm10 10l.94 2.06.94-2.06 2.06-.94-2.06-.94-.94-2.06-.94 2.06-2.06.94z\"/><path d=\"M17.41 7.96l-1.37-1.37c-.4-.4-.92-.59-1.43-.59-.52 0-1.04.2-1.43.59L10.3 9.45l-7.72 7.72c-.78.78-.78 2.05 0 2.83L4 21.41c.39.39.9.59 1.41.59.51 0 1.02-.2 1.41-.59l7.78-7.78 2.81-2.81c.8-.78.8-2.07 0-2.86zM5.41 20L4 18.59l7.72-7.72 1.47 1.35L5.41 20z\"/>\n",
              "  </svg>\n",
              "      </button>\n",
              "      \n",
              "  <style>\n",
              "    .colab-df-container {\n",
              "      display:flex;\n",
              "      flex-wrap:wrap;\n",
              "      gap: 12px;\n",
              "    }\n",
              "\n",
              "    .colab-df-convert {\n",
              "      background-color: #E8F0FE;\n",
              "      border: none;\n",
              "      border-radius: 50%;\n",
              "      cursor: pointer;\n",
              "      display: none;\n",
              "      fill: #1967D2;\n",
              "      height: 32px;\n",
              "      padding: 0 0 0 0;\n",
              "      width: 32px;\n",
              "    }\n",
              "\n",
              "    .colab-df-convert:hover {\n",
              "      background-color: #E2EBFA;\n",
              "      box-shadow: 0px 1px 2px rgba(60, 64, 67, 0.3), 0px 1px 3px 1px rgba(60, 64, 67, 0.15);\n",
              "      fill: #174EA6;\n",
              "    }\n",
              "\n",
              "    [theme=dark] .colab-df-convert {\n",
              "      background-color: #3B4455;\n",
              "      fill: #D2E3FC;\n",
              "    }\n",
              "\n",
              "    [theme=dark] .colab-df-convert:hover {\n",
              "      background-color: #434B5C;\n",
              "      box-shadow: 0px 1px 3px 1px rgba(0, 0, 0, 0.15);\n",
              "      filter: drop-shadow(0px 1px 2px rgba(0, 0, 0, 0.3));\n",
              "      fill: #FFFFFF;\n",
              "    }\n",
              "  </style>\n",
              "\n",
              "      <script>\n",
              "        const buttonEl =\n",
              "          document.querySelector('#df-74be8440-b34e-440f-9298-f39739c3cf65 button.colab-df-convert');\n",
              "        buttonEl.style.display =\n",
              "          google.colab.kernel.accessAllowed ? 'block' : 'none';\n",
              "\n",
              "        async function convertToInteractive(key) {\n",
              "          const element = document.querySelector('#df-74be8440-b34e-440f-9298-f39739c3cf65');\n",
              "          const dataTable =\n",
              "            await google.colab.kernel.invokeFunction('convertToInteractive',\n",
              "                                                     [key], {});\n",
              "          if (!dataTable) return;\n",
              "\n",
              "          const docLinkHtml = 'Like what you see? Visit the ' +\n",
              "            '<a target=\"_blank\" href=https://colab.research.google.com/notebooks/data_table.ipynb>data table notebook</a>'\n",
              "            + ' to learn more about interactive tables.';\n",
              "          element.innerHTML = '';\n",
              "          dataTable['output_type'] = 'display_data';\n",
              "          await google.colab.output.renderOutput(dataTable, element);\n",
              "          const docLink = document.createElement('div');\n",
              "          docLink.innerHTML = docLinkHtml;\n",
              "          element.appendChild(docLink);\n",
              "        }\n",
              "      </script>\n",
              "    </div>\n",
              "  </div>\n",
              "  "
            ]
          },
          "metadata": {},
          "execution_count": 9
        }
      ]
    },
    {
      "cell_type": "code",
      "source": [
        "df = pd.concat([df,gender_encoded],axis=1)"
      ],
      "metadata": {
        "id": "MIGyCSwPwu8G"
      },
      "execution_count": 10,
      "outputs": []
    },
    {
      "cell_type": "code",
      "source": [
        "df"
      ],
      "metadata": {
        "colab": {
          "base_uri": "https://localhost:8080/",
          "height": 424
        },
        "id": "x4dQLqtqy6is",
        "outputId": "fd00710a-cb91-4147-e724-c53d650b5b76"
      },
      "execution_count": 11,
      "outputs": [
        {
          "output_type": "execute_result",
          "data": {
            "text/plain": [
              "     Customer ID  Gender  Age  Salary Product ID  Price  Purchased  Male\n",
              "0              1  Female   49   61000        P01   2000          1     0\n",
              "1              2    Male   36   30000        P02   2000          1     1\n",
              "2              3  Female   26   81000        P02   3500          1     0\n",
              "3              4  Female   32   74000        P01   7000          0     0\n",
              "4              5  Female   42   56000        P01   5000          0     0\n",
              "..           ...     ...  ...     ...        ...    ...        ...   ...\n",
              "995          996    Male   21   73000        P02   5000          1     1\n",
              "996          997    Male   62   54000        P01   5000          0     1\n",
              "997          998  Female   41   20000        P03   2000          0     0\n",
              "998          999    Male   22   29000        P03   5000          0     1\n",
              "999         1000  Female   49   36000        P03   3500          0     0\n",
              "\n",
              "[1000 rows x 8 columns]"
            ],
            "text/html": [
              "\n",
              "  <div id=\"df-e9d22db4-2e54-441d-bd39-66586228b67a\">\n",
              "    <div class=\"colab-df-container\">\n",
              "      <div>\n",
              "<style scoped>\n",
              "    .dataframe tbody tr th:only-of-type {\n",
              "        vertical-align: middle;\n",
              "    }\n",
              "\n",
              "    .dataframe tbody tr th {\n",
              "        vertical-align: top;\n",
              "    }\n",
              "\n",
              "    .dataframe thead th {\n",
              "        text-align: right;\n",
              "    }\n",
              "</style>\n",
              "<table border=\"1\" class=\"dataframe\">\n",
              "  <thead>\n",
              "    <tr style=\"text-align: right;\">\n",
              "      <th></th>\n",
              "      <th>Customer ID</th>\n",
              "      <th>Gender</th>\n",
              "      <th>Age</th>\n",
              "      <th>Salary</th>\n",
              "      <th>Product ID</th>\n",
              "      <th>Price</th>\n",
              "      <th>Purchased</th>\n",
              "      <th>Male</th>\n",
              "    </tr>\n",
              "  </thead>\n",
              "  <tbody>\n",
              "    <tr>\n",
              "      <th>0</th>\n",
              "      <td>1</td>\n",
              "      <td>Female</td>\n",
              "      <td>49</td>\n",
              "      <td>61000</td>\n",
              "      <td>P01</td>\n",
              "      <td>2000</td>\n",
              "      <td>1</td>\n",
              "      <td>0</td>\n",
              "    </tr>\n",
              "    <tr>\n",
              "      <th>1</th>\n",
              "      <td>2</td>\n",
              "      <td>Male</td>\n",
              "      <td>36</td>\n",
              "      <td>30000</td>\n",
              "      <td>P02</td>\n",
              "      <td>2000</td>\n",
              "      <td>1</td>\n",
              "      <td>1</td>\n",
              "    </tr>\n",
              "    <tr>\n",
              "      <th>2</th>\n",
              "      <td>3</td>\n",
              "      <td>Female</td>\n",
              "      <td>26</td>\n",
              "      <td>81000</td>\n",
              "      <td>P02</td>\n",
              "      <td>3500</td>\n",
              "      <td>1</td>\n",
              "      <td>0</td>\n",
              "    </tr>\n",
              "    <tr>\n",
              "      <th>3</th>\n",
              "      <td>4</td>\n",
              "      <td>Female</td>\n",
              "      <td>32</td>\n",
              "      <td>74000</td>\n",
              "      <td>P01</td>\n",
              "      <td>7000</td>\n",
              "      <td>0</td>\n",
              "      <td>0</td>\n",
              "    </tr>\n",
              "    <tr>\n",
              "      <th>4</th>\n",
              "      <td>5</td>\n",
              "      <td>Female</td>\n",
              "      <td>42</td>\n",
              "      <td>56000</td>\n",
              "      <td>P01</td>\n",
              "      <td>5000</td>\n",
              "      <td>0</td>\n",
              "      <td>0</td>\n",
              "    </tr>\n",
              "    <tr>\n",
              "      <th>...</th>\n",
              "      <td>...</td>\n",
              "      <td>...</td>\n",
              "      <td>...</td>\n",
              "      <td>...</td>\n",
              "      <td>...</td>\n",
              "      <td>...</td>\n",
              "      <td>...</td>\n",
              "      <td>...</td>\n",
              "    </tr>\n",
              "    <tr>\n",
              "      <th>995</th>\n",
              "      <td>996</td>\n",
              "      <td>Male</td>\n",
              "      <td>21</td>\n",
              "      <td>73000</td>\n",
              "      <td>P02</td>\n",
              "      <td>5000</td>\n",
              "      <td>1</td>\n",
              "      <td>1</td>\n",
              "    </tr>\n",
              "    <tr>\n",
              "      <th>996</th>\n",
              "      <td>997</td>\n",
              "      <td>Male</td>\n",
              "      <td>62</td>\n",
              "      <td>54000</td>\n",
              "      <td>P01</td>\n",
              "      <td>5000</td>\n",
              "      <td>0</td>\n",
              "      <td>1</td>\n",
              "    </tr>\n",
              "    <tr>\n",
              "      <th>997</th>\n",
              "      <td>998</td>\n",
              "      <td>Female</td>\n",
              "      <td>41</td>\n",
              "      <td>20000</td>\n",
              "      <td>P03</td>\n",
              "      <td>2000</td>\n",
              "      <td>0</td>\n",
              "      <td>0</td>\n",
              "    </tr>\n",
              "    <tr>\n",
              "      <th>998</th>\n",
              "      <td>999</td>\n",
              "      <td>Male</td>\n",
              "      <td>22</td>\n",
              "      <td>29000</td>\n",
              "      <td>P03</td>\n",
              "      <td>5000</td>\n",
              "      <td>0</td>\n",
              "      <td>1</td>\n",
              "    </tr>\n",
              "    <tr>\n",
              "      <th>999</th>\n",
              "      <td>1000</td>\n",
              "      <td>Female</td>\n",
              "      <td>49</td>\n",
              "      <td>36000</td>\n",
              "      <td>P03</td>\n",
              "      <td>3500</td>\n",
              "      <td>0</td>\n",
              "      <td>0</td>\n",
              "    </tr>\n",
              "  </tbody>\n",
              "</table>\n",
              "<p>1000 rows × 8 columns</p>\n",
              "</div>\n",
              "      <button class=\"colab-df-convert\" onclick=\"convertToInteractive('df-e9d22db4-2e54-441d-bd39-66586228b67a')\"\n",
              "              title=\"Convert this dataframe to an interactive table.\"\n",
              "              style=\"display:none;\">\n",
              "        \n",
              "  <svg xmlns=\"http://www.w3.org/2000/svg\" height=\"24px\"viewBox=\"0 0 24 24\"\n",
              "       width=\"24px\">\n",
              "    <path d=\"M0 0h24v24H0V0z\" fill=\"none\"/>\n",
              "    <path d=\"M18.56 5.44l.94 2.06.94-2.06 2.06-.94-2.06-.94-.94-2.06-.94 2.06-2.06.94zm-11 1L8.5 8.5l.94-2.06 2.06-.94-2.06-.94L8.5 2.5l-.94 2.06-2.06.94zm10 10l.94 2.06.94-2.06 2.06-.94-2.06-.94-.94-2.06-.94 2.06-2.06.94z\"/><path d=\"M17.41 7.96l-1.37-1.37c-.4-.4-.92-.59-1.43-.59-.52 0-1.04.2-1.43.59L10.3 9.45l-7.72 7.72c-.78.78-.78 2.05 0 2.83L4 21.41c.39.39.9.59 1.41.59.51 0 1.02-.2 1.41-.59l7.78-7.78 2.81-2.81c.8-.78.8-2.07 0-2.86zM5.41 20L4 18.59l7.72-7.72 1.47 1.35L5.41 20z\"/>\n",
              "  </svg>\n",
              "      </button>\n",
              "      \n",
              "  <style>\n",
              "    .colab-df-container {\n",
              "      display:flex;\n",
              "      flex-wrap:wrap;\n",
              "      gap: 12px;\n",
              "    }\n",
              "\n",
              "    .colab-df-convert {\n",
              "      background-color: #E8F0FE;\n",
              "      border: none;\n",
              "      border-radius: 50%;\n",
              "      cursor: pointer;\n",
              "      display: none;\n",
              "      fill: #1967D2;\n",
              "      height: 32px;\n",
              "      padding: 0 0 0 0;\n",
              "      width: 32px;\n",
              "    }\n",
              "\n",
              "    .colab-df-convert:hover {\n",
              "      background-color: #E2EBFA;\n",
              "      box-shadow: 0px 1px 2px rgba(60, 64, 67, 0.3), 0px 1px 3px 1px rgba(60, 64, 67, 0.15);\n",
              "      fill: #174EA6;\n",
              "    }\n",
              "\n",
              "    [theme=dark] .colab-df-convert {\n",
              "      background-color: #3B4455;\n",
              "      fill: #D2E3FC;\n",
              "    }\n",
              "\n",
              "    [theme=dark] .colab-df-convert:hover {\n",
              "      background-color: #434B5C;\n",
              "      box-shadow: 0px 1px 3px 1px rgba(0, 0, 0, 0.15);\n",
              "      filter: drop-shadow(0px 1px 2px rgba(0, 0, 0, 0.3));\n",
              "      fill: #FFFFFF;\n",
              "    }\n",
              "  </style>\n",
              "\n",
              "      <script>\n",
              "        const buttonEl =\n",
              "          document.querySelector('#df-e9d22db4-2e54-441d-bd39-66586228b67a button.colab-df-convert');\n",
              "        buttonEl.style.display =\n",
              "          google.colab.kernel.accessAllowed ? 'block' : 'none';\n",
              "\n",
              "        async function convertToInteractive(key) {\n",
              "          const element = document.querySelector('#df-e9d22db4-2e54-441d-bd39-66586228b67a');\n",
              "          const dataTable =\n",
              "            await google.colab.kernel.invokeFunction('convertToInteractive',\n",
              "                                                     [key], {});\n",
              "          if (!dataTable) return;\n",
              "\n",
              "          const docLinkHtml = 'Like what you see? Visit the ' +\n",
              "            '<a target=\"_blank\" href=https://colab.research.google.com/notebooks/data_table.ipynb>data table notebook</a>'\n",
              "            + ' to learn more about interactive tables.';\n",
              "          element.innerHTML = '';\n",
              "          dataTable['output_type'] = 'display_data';\n",
              "          await google.colab.output.renderOutput(dataTable, element);\n",
              "          const docLink = document.createElement('div');\n",
              "          docLink.innerHTML = docLinkHtml;\n",
              "          element.appendChild(docLink);\n",
              "        }\n",
              "      </script>\n",
              "    </div>\n",
              "  </div>\n",
              "  "
            ]
          },
          "metadata": {},
          "execution_count": 11
        }
      ]
    },
    {
      "cell_type": "code",
      "source": [
        "x = df[['Male','Age','Salary','Price']].to_numpy()"
      ],
      "metadata": {
        "id": "mm-vLlb5y7MH"
      },
      "execution_count": 12,
      "outputs": []
    },
    {
      "cell_type": "code",
      "source": [
        "x"
      ],
      "metadata": {
        "colab": {
          "base_uri": "https://localhost:8080/"
        },
        "id": "bqeU8k-sz55-",
        "outputId": "494376a2-7546-415c-abf7-2884c5b5ed2a"
      },
      "execution_count": 13,
      "outputs": [
        {
          "output_type": "execute_result",
          "data": {
            "text/plain": [
              "array([[    0,    49, 61000,  2000],\n",
              "       [    1,    36, 30000,  2000],\n",
              "       [    0,    26, 81000,  3500],\n",
              "       ...,\n",
              "       [    0,    41, 20000,  2000],\n",
              "       [    1,    22, 29000,  5000],\n",
              "       [    0,    49, 36000,  3500]])"
            ]
          },
          "metadata": {},
          "execution_count": 13
        }
      ]
    },
    {
      "cell_type": "code",
      "source": [
        "y = df['Purchased'].to_numpy()"
      ],
      "metadata": {
        "id": "15YUE7Rmz62j"
      },
      "execution_count": 14,
      "outputs": []
    },
    {
      "cell_type": "code",
      "source": [
        "y"
      ],
      "metadata": {
        "colab": {
          "base_uri": "https://localhost:8080/"
        },
        "id": "hjCCau1Z6BUb",
        "outputId": "d43aebb0-aca9-41a5-b484-4d2056a33aff"
      },
      "execution_count": 15,
      "outputs": [
        {
          "output_type": "execute_result",
          "data": {
            "text/plain": [
              "array([1, 1, 1, 0, 0, 1, 0, 0, 0, 1, 1, 0, 0, 1, 0, 1, 0, 0, 0, 0, 0, 1,\n",
              "       0, 1, 0, 0, 0, 0, 1, 0, 1, 0, 0, 0, 1, 1, 0, 1, 0, 0, 0, 1, 1, 0,\n",
              "       0, 1, 0, 0, 0, 1, 1, 1, 0, 0, 0, 0, 0, 0, 1, 1, 0, 0, 1, 0, 0, 0,\n",
              "       1, 1, 1, 1, 1, 0, 0, 1, 1, 1, 0, 1, 0, 1, 1, 0, 1, 1, 0, 1, 1, 0,\n",
              "       0, 0, 0, 1, 1, 1, 1, 1, 0, 0, 1, 0, 0, 0, 1, 0, 0, 0, 0, 1, 0, 0,\n",
              "       0, 0, 0, 0, 0, 0, 0, 0, 1, 0, 1, 1, 0, 0, 0, 1, 0, 0, 0, 1, 1, 1,\n",
              "       0, 1, 0, 1, 0, 1, 1, 1, 0, 0, 0, 0, 1, 1, 0, 0, 0, 1, 0, 0, 0, 0,\n",
              "       0, 0, 1, 1, 0, 1, 0, 0, 1, 0, 1, 0, 0, 1, 1, 1, 0, 0, 1, 1, 0, 1,\n",
              "       0, 1, 0, 1, 1, 0, 0, 0, 1, 0, 0, 0, 1, 1, 1, 0, 1, 1, 0, 0, 0, 1,\n",
              "       0, 1, 1, 1, 1, 1, 1, 1, 0, 0, 0, 1, 0, 1, 1, 0, 0, 0, 1, 1, 0, 0,\n",
              "       0, 0, 0, 0, 0, 1, 0, 1, 0, 0, 1, 1, 0, 0, 1, 0, 1, 0, 1, 0, 0, 1,\n",
              "       0, 1, 1, 1, 1, 1, 0, 1, 1, 0, 0, 1, 0, 0, 1, 0, 0, 1, 0, 1, 1, 1,\n",
              "       0, 0, 0, 0, 1, 0, 0, 0, 0, 0, 0, 0, 1, 1, 0, 0, 0, 0, 0, 0, 1, 0,\n",
              "       1, 1, 1, 0, 0, 1, 0, 1, 0, 0, 1, 0, 0, 0, 0, 0, 1, 0, 0, 1, 1, 1,\n",
              "       1, 0, 0, 1, 1, 1, 1, 0, 0, 1, 1, 1, 0, 1, 0, 1, 1, 0, 0, 0, 0, 0,\n",
              "       0, 0, 1, 0, 0, 1, 0, 1, 0, 0, 0, 0, 1, 1, 1, 0, 0, 1, 0, 1, 0, 0,\n",
              "       0, 0, 0, 1, 0, 0, 0, 1, 1, 0, 1, 1, 1, 1, 0, 1, 0, 0, 0, 1, 0, 1,\n",
              "       0, 0, 0, 0, 0, 1, 1, 1, 0, 0, 0, 0, 1, 1, 0, 1, 0, 1, 1, 1, 0, 0,\n",
              "       0, 0, 1, 1, 1, 0, 1, 0, 1, 0, 1, 0, 0, 0, 0, 1, 0, 1, 1, 1, 0, 0,\n",
              "       1, 0, 0, 1, 0, 1, 1, 0, 1, 1, 1, 0, 0, 0, 0, 0, 0, 1, 1, 1, 0, 0,\n",
              "       0, 1, 1, 1, 1, 0, 1, 0, 0, 1, 1, 0, 1, 1, 0, 0, 0, 1, 1, 1, 1, 1,\n",
              "       0, 0, 1, 1, 0, 0, 0, 1, 0, 1, 0, 0, 1, 1, 0, 1, 0, 1, 0, 0, 1, 1,\n",
              "       0, 0, 0, 1, 1, 0, 1, 0, 1, 1, 0, 1, 1, 1, 0, 0, 0, 0, 0, 0, 1, 1,\n",
              "       0, 0, 0, 0, 1, 0, 0, 0, 0, 0, 0, 0, 0, 1, 1, 0, 1, 0, 0, 1, 0, 0,\n",
              "       0, 0, 0, 1, 0, 1, 0, 0, 0, 0, 0, 0, 0, 0, 1, 0, 0, 1, 0, 0, 1, 0,\n",
              "       0, 0, 1, 1, 0, 0, 1, 0, 0, 1, 0, 0, 1, 0, 1, 1, 0, 1, 0, 1, 0, 0,\n",
              "       0, 1, 1, 0, 1, 1, 1, 0, 1, 0, 0, 1, 1, 1, 0, 0, 1, 1, 0, 1, 0, 0,\n",
              "       0, 0, 1, 0, 1, 1, 1, 1, 1, 0, 0, 0, 1, 0, 0, 1, 0, 0, 0, 0, 0, 0,\n",
              "       1, 1, 1, 1, 0, 1, 0, 0, 0, 0, 0, 0, 0, 1, 0, 0, 0, 1, 0, 0, 0, 1,\n",
              "       0, 1, 0, 1, 0, 1, 1, 1, 0, 0, 1, 1, 0, 1, 1, 0, 1, 0, 0, 0, 1, 1,\n",
              "       0, 0, 1, 0, 1, 1, 0, 0, 0, 1, 0, 0, 0, 0, 0, 0, 0, 0, 0, 1, 0, 1,\n",
              "       0, 0, 1, 1, 0, 1, 1, 1, 0, 0, 1, 1, 1, 0, 0, 0, 0, 1, 0, 1, 1, 0,\n",
              "       1, 0, 0, 1, 1, 0, 1, 1, 1, 1, 0, 0, 0, 0, 0, 1, 0, 0, 1, 1, 0, 1,\n",
              "       0, 0, 0, 0, 0, 1, 0, 1, 0, 0, 0, 0, 0, 1, 1, 0, 1, 1, 1, 1, 1, 1,\n",
              "       0, 0, 1, 0, 0, 1, 1, 1, 0, 1, 0, 0, 1, 0, 0, 0, 1, 0, 1, 0, 0, 1,\n",
              "       0, 0, 0, 0, 0, 1, 0, 0, 1, 1, 0, 0, 0, 0, 0, 0, 0, 1, 0, 1, 0, 1,\n",
              "       1, 1, 0, 0, 0, 1, 1, 0, 0, 0, 0, 0, 1, 1, 1, 0, 0, 0, 0, 0, 0, 0,\n",
              "       0, 0, 0, 1, 1, 0, 0, 1, 0, 0, 0, 0, 1, 0, 1, 1, 0, 0, 0, 0, 1, 0,\n",
              "       1, 0, 1, 1, 1, 0, 1, 0, 1, 0, 1, 0, 0, 1, 0, 0, 1, 0, 0, 0, 1, 1,\n",
              "       1, 0, 1, 1, 0, 0, 0, 0, 1, 0, 0, 1, 1, 1, 0, 0, 1, 0, 0, 0, 1, 0,\n",
              "       1, 1, 1, 0, 0, 0, 1, 0, 0, 0, 0, 0, 0, 0, 0, 1, 0, 1, 0, 1, 0, 0,\n",
              "       0, 1, 0, 1, 0, 0, 0, 1, 1, 0, 1, 1, 0, 0, 1, 0, 0, 0, 1, 0, 0, 1,\n",
              "       0, 0, 0, 0, 1, 0, 1, 1, 0, 0, 1, 0, 1, 1, 1, 0, 0, 0, 1, 0, 0, 0,\n",
              "       0, 1, 1, 0, 0, 0, 1, 0, 1, 0, 1, 1, 0, 0, 1, 0, 1, 1, 1, 1, 0, 1,\n",
              "       1, 0, 0, 0, 0, 1, 0, 0, 0, 1, 0, 1, 0, 0, 0, 0, 0, 0, 0, 0, 1, 1,\n",
              "       1, 1, 1, 0, 0, 1, 0, 0, 0, 0])"
            ]
          },
          "metadata": {},
          "execution_count": 15
        }
      ]
    },
    {
      "cell_type": "code",
      "source": [
        "from sklearn.model_selection import train_test_split"
      ],
      "metadata": {
        "id": "rHN2_bE96DAB"
      },
      "execution_count": 16,
      "outputs": []
    },
    {
      "cell_type": "code",
      "source": [
        "x_train , x_test , y_train , y_test = train_test_split(x,y, test_size=0.2, random_state=42)"
      ],
      "metadata": {
        "id": "McPUgYGK-ExB"
      },
      "execution_count": 17,
      "outputs": []
    },
    {
      "cell_type": "code",
      "source": [
        "x_train"
      ],
      "metadata": {
        "colab": {
          "base_uri": "https://localhost:8080/"
        },
        "id": "hNpEwXYnAcml",
        "outputId": "e611fcd5-2ba4-4bc7-d25f-97c72fed628a"
      },
      "execution_count": 18,
      "outputs": [
        {
          "output_type": "execute_result",
          "data": {
            "text/plain": [
              "array([[    1,    26, 28000,  5000],\n",
              "       [    1,    54, 21000,  7000],\n",
              "       [    0,    42, 22000,  5000],\n",
              "       ...,\n",
              "       [    0,    59, 91000,  2000],\n",
              "       [    0,    31, 82000,  2000],\n",
              "       [    0,    20, 34000,  5000]])"
            ]
          },
          "metadata": {},
          "execution_count": 18
        }
      ]
    },
    {
      "cell_type": "code",
      "source": [
        "x_test"
      ],
      "metadata": {
        "colab": {
          "base_uri": "https://localhost:8080/"
        },
        "id": "jLdTuqB9AdqS",
        "outputId": "285c11dd-904c-4a4b-e5b4-a81f2ab60b0f"
      },
      "execution_count": 19,
      "outputs": [
        {
          "output_type": "execute_result",
          "data": {
            "text/plain": [
              "array([[     1,     54,  36000,   5000],\n",
              "       [     0,     54,  60000,   7000],\n",
              "       [     1,     25,  39000,   2000],\n",
              "       [     0,     39,  38000,   7000],\n",
              "       [     1,     28,  37000,   5000],\n",
              "       [     1,     52,  42000,   2000],\n",
              "       [     0,     43,  25000,   7000],\n",
              "       [     0,     40,  22000,   5000],\n",
              "       [     0,     18,  23000,   3500],\n",
              "       [     1,     62,  40000,   5000],\n",
              "       [     1,     53,  66000,   5000],\n",
              "       [     0,     50,  38000,   7000],\n",
              "       [     0,     49,  59000,   7000],\n",
              "       [     0,     56,  97000,   2000],\n",
              "       [     1,     41,  44000,   3500],\n",
              "       [     1,     37,  74000,   2000],\n",
              "       [     0,     51,  23000,   5000],\n",
              "       [     1,     54,  29000,   2000],\n",
              "       [     1,     30,  48000,   3500],\n",
              "       [     1,     56,  87000,   3500],\n",
              "       [     0,     61,  75000,   7000],\n",
              "       [     1,     52,  49000,   7000],\n",
              "       [     0,     38, 100000,   2000],\n",
              "       [     0,     40,  79000,   5000],\n",
              "       [     1,     39,  45000,   2000],\n",
              "       [     0,     61,  79000,   7000],\n",
              "       [     1,     38,  94000,   7000],\n",
              "       [     0,     24,  23000,   7000],\n",
              "       [     1,     59,  62000,   5000],\n",
              "       [     1,     61,  67000,   3500],\n",
              "       [     1,     40,  31000,   7000],\n",
              "       [     0,     20,  98000,   3500],\n",
              "       [     0,     61,  88000,   5000],\n",
              "       [     0,     46,  77000,   7000],\n",
              "       [     1,     40,  70000,   2000],\n",
              "       [     1,     56,  79000,   2000],\n",
              "       [     1,     23,  40000,   2000],\n",
              "       [     0,     60,  80000,   3500],\n",
              "       [     1,     18,  47000,   2000],\n",
              "       [     1,     53,  53000,   2000],\n",
              "       [     0,     58,  49000,   7000],\n",
              "       [     1,     20,  63000,   5000],\n",
              "       [     1,     32,  42000,   2000],\n",
              "       [     1,     54,  59000,   7000],\n",
              "       [     0,     38,  39000,   5000],\n",
              "       [     0,     19,  34000,   3500],\n",
              "       [     0,     56,  45000,   3500],\n",
              "       [     1,     23,  86000,   5000],\n",
              "       [     1,     38,  30000,   7000],\n",
              "       [     0,     46,  53000,   5000],\n",
              "       [     1,     60,  59000,   7000],\n",
              "       [     0,     52,  24000,   5000],\n",
              "       [     1,     60,  98000,   5000],\n",
              "       [     0,     56,  59000,   5000],\n",
              "       [     1,     25,  51000,   3500],\n",
              "       [     0,     22,  70000,   2000],\n",
              "       [     1,     19,  80000,   5000],\n",
              "       [     0,     31,  40000,   5000],\n",
              "       [     0,     61,  75000,   2000],\n",
              "       [     0,     29,  88000,   7000],\n",
              "       [     0,     39,  76000,   3500],\n",
              "       [     1,     58,  39000,   2000],\n",
              "       [     1,     33,  35000,   3500],\n",
              "       [     0,     51,  65000,   5000],\n",
              "       [     1,     53,  21000,   3500],\n",
              "       [     0,     59,  32000,   3500],\n",
              "       [     0,     35,  74000,   3500],\n",
              "       [     1,     63,  62000,   5000],\n",
              "       [     0,     35,  73000,   5000],\n",
              "       [     0,     26,  55000,   7000],\n",
              "       [     0,     39,  59000,   3500],\n",
              "       [     0,     18,  52000,   2000],\n",
              "       [     0,     23,  74000,   7000],\n",
              "       [     1,     40,  27000,   7000],\n",
              "       [     1,     42,  40000,   2000],\n",
              "       [     0,     36,  90000,   7000],\n",
              "       [     1,     20,  92000,   3500],\n",
              "       [     1,     30,  36000,   3500],\n",
              "       [     0,     50,  48000,   2000],\n",
              "       [     1,     30,  82000,   5000],\n",
              "       [     1,     26,  64000,   2000],\n",
              "       [     1,     63,  61000,   5000],\n",
              "       [     0,     60,  45000,   7000],\n",
              "       [     0,     50,  33000,   2000],\n",
              "       [     1,     58,  47000,   2000],\n",
              "       [     1,     59,  65000,   2000],\n",
              "       [     1,     22,  29000,   5000],\n",
              "       [     0,     31,  36000,   2000],\n",
              "       [     1,     24,  30000,   5000],\n",
              "       [     0,     22,  87000,   7000],\n",
              "       [     1,     60,  51000,   7000],\n",
              "       [     1,     43,  20000,   7000],\n",
              "       [     1,     64,  69000,   3500],\n",
              "       [     1,     30,  40000,   7000],\n",
              "       [     1,     59,  46000,   2000],\n",
              "       [     1,     19,  43000,   2000],\n",
              "       [     1,     26,  84000,   3500],\n",
              "       [     1,     49,  62000,   3500],\n",
              "       [     0,     43,  46000,   3500],\n",
              "       [     1,     33,  75000,   2000],\n",
              "       [     1,     56,  52000,   5000],\n",
              "       [     1,     46,  60000,   5000],\n",
              "       [     0,     64,  93000,   2000],\n",
              "       [     1,     56,  97000,   3500],\n",
              "       [     1,     55,  54000,   5000],\n",
              "       [     1,     57,  61000,   3500],\n",
              "       [     1,     53,  43000,   3500],\n",
              "       [     0,     40,  92000,   7000],\n",
              "       [     0,     22,  87000,   2000],\n",
              "       [     1,     21,  38000,   7000],\n",
              "       [     0,     29,  41000,   3500],\n",
              "       [     1,     26,  56000,   7000],\n",
              "       [     0,     35,  43000,   2000],\n",
              "       [     1,     47,  39000,   3500],\n",
              "       [     1,     44,  72000,   3500],\n",
              "       [     1,     55,  25000,   2000],\n",
              "       [     0,     23,  79000,   3500],\n",
              "       [     1,     25,  76000,   3500],\n",
              "       [     1,     62,  67000,   7000],\n",
              "       [     1,     24,  68000,   5000],\n",
              "       [     0,     56,  37000,   7000],\n",
              "       [     0,     62,  86000,   7000],\n",
              "       [     1,     38,  82000,   2000],\n",
              "       [     1,     60,  50000,   7000],\n",
              "       [     1,     49,  78000,   7000],\n",
              "       [     1,     40,  82000,   5000],\n",
              "       [     0,     33,  94000,   5000],\n",
              "       [     0,     60,  81000,   7000],\n",
              "       [     0,     63,  37000,   3500],\n",
              "       [     0,     55,  90000,   7000],\n",
              "       [     0,     64,  60000,   3500],\n",
              "       [     0,     19,  88000,   5000],\n",
              "       [     0,     39,  31000,   7000],\n",
              "       [     1,     21,  73000,   5000],\n",
              "       [     0,     46,  28000,   2000],\n",
              "       [     1,     54,  24000,   2000],\n",
              "       [     0,     21,  39000,   5000],\n",
              "       [     1,     54,  32000,   2000],\n",
              "       [     0,     53,  23000,   2000],\n",
              "       [     0,     45,  67000,   7000],\n",
              "       [     1,     60,  31000,   7000],\n",
              "       [     1,     24,  90000,   3500],\n",
              "       [     1,     45,  55000,   7000],\n",
              "       [     0,     21,  21000,   7000],\n",
              "       [     0,     35,  33000,   7000],\n",
              "       [     0,     34,  28000,   3500],\n",
              "       [     0,     21,  57000,   7000],\n",
              "       [     0,     22,  98000,   3500],\n",
              "       [     1,     31,  71000,   5000],\n",
              "       [     1,     22,  96000,   3500],\n",
              "       [     1,     50,  89000,   2000],\n",
              "       [     1,     42,  70000,   3500],\n",
              "       [     1,     24,  87000,   2000],\n",
              "       [     0,     35,  20000,   5000],\n",
              "       [     0,     63,  70000,   3500],\n",
              "       [     1,     42,  68000,   7000],\n",
              "       [     0,     52,  47000,   5000],\n",
              "       [     1,     43,  64000,   7000],\n",
              "       [     0,     36,  64000,   2000],\n",
              "       [     1,     18,  62000,   5000],\n",
              "       [     0,     29,  27000,   5000],\n",
              "       [     1,     48,  54000,   5000],\n",
              "       [     1,     64,  30000,   5000],\n",
              "       [     0,     61,  75000,   2000],\n",
              "       [     0,     20,  20000,   7000],\n",
              "       [     0,     62,  29000,   5000],\n",
              "       [     0,     43,  28000,   2000],\n",
              "       [     0,     43, 100000,   3500],\n",
              "       [     0,     45,  37000,   2000],\n",
              "       [     1,     21,  24000,   7000],\n",
              "       [     1,     24,  95000,   7000],\n",
              "       [     1,     28,  82000,   3500],\n",
              "       [     1,     40,  20000,   5000],\n",
              "       [     0,     38,  40000,   2000],\n",
              "       [     1,     30,  43000,   2000],\n",
              "       [     0,     53,  94000,   5000],\n",
              "       [     0,     63,  99000,   7000],\n",
              "       [     1,     64,  92000,   3500],\n",
              "       [     1,     33,  42000,   3500],\n",
              "       [     1,     40,  30000,   7000],\n",
              "       [     1,     21,  60000,   3500],\n",
              "       [     1,     42,  56000,   7000],\n",
              "       [     1,     18,  50000,   2000],\n",
              "       [     1,     25,  91000,   7000],\n",
              "       [     0,     40,  58000,   7000],\n",
              "       [     0,     26,  41000,   2000],\n",
              "       [     0,     54,  93000,   2000],\n",
              "       [     1,     59,  56000,   2000],\n",
              "       [     0,     56,  86000,   5000],\n",
              "       [     0,     27,  79000,   7000],\n",
              "       [     1,     59,  92000,   2000],\n",
              "       [     1,     51,  94000,   3500],\n",
              "       [     0,     28,  22000,   5000],\n",
              "       [     1,     32, 100000,   5000],\n",
              "       [     1,     33,  27000,   5000],\n",
              "       [     1,     57,  37000,   3500],\n",
              "       [     0,     45,  68000,   2000],\n",
              "       [     0,     58,  95000,   7000],\n",
              "       [     1,     36,  23000,   5000],\n",
              "       [     1,     61,  47000,   2000]])"
            ]
          },
          "metadata": {},
          "execution_count": 19
        }
      ]
    },
    {
      "cell_type": "code",
      "source": [
        "y_train"
      ],
      "metadata": {
        "colab": {
          "base_uri": "https://localhost:8080/"
        },
        "id": "Y9oSjDdcAfSg",
        "outputId": "a03a78c4-fc9a-471a-df2e-96851f89f69b"
      },
      "execution_count": 20,
      "outputs": [
        {
          "output_type": "execute_result",
          "data": {
            "text/plain": [
              "array([0, 0, 0, 0, 1, 1, 0, 0, 1, 0, 0, 0, 0, 0, 0, 0, 1, 1, 0, 1, 1, 0,\n",
              "       0, 1, 0, 1, 0, 0, 0, 0, 1, 0, 0, 0, 0, 0, 1, 1, 1, 0, 0, 1, 0, 0,\n",
              "       1, 0, 0, 1, 0, 1, 1, 1, 1, 0, 1, 1, 1, 1, 0, 1, 1, 1, 0, 0, 0, 0,\n",
              "       1, 1, 0, 1, 1, 1, 0, 1, 0, 1, 0, 0, 0, 0, 0, 1, 0, 0, 1, 0, 1, 1,\n",
              "       1, 0, 0, 0, 0, 1, 1, 0, 0, 1, 0, 0, 0, 0, 1, 0, 1, 0, 0, 1, 1, 1,\n",
              "       0, 0, 0, 1, 0, 1, 0, 0, 0, 1, 1, 0, 1, 0, 0, 0, 1, 0, 1, 1, 0, 1,\n",
              "       1, 1, 1, 0, 0, 0, 0, 0, 1, 1, 1, 1, 0, 0, 1, 1, 0, 0, 0, 0, 1, 1,\n",
              "       1, 1, 0, 1, 0, 1, 1, 1, 1, 1, 1, 1, 0, 1, 0, 1, 1, 0, 0, 1, 0, 1,\n",
              "       0, 1, 1, 0, 1, 1, 1, 1, 0, 1, 0, 0, 1, 0, 0, 1, 0, 0, 1, 0, 0, 1,\n",
              "       1, 0, 0, 0, 0, 1, 1, 1, 0, 0, 1, 0, 0, 1, 0, 0, 1, 1, 0, 0, 0, 0,\n",
              "       0, 0, 1, 0, 0, 1, 1, 0, 0, 0, 0, 1, 0, 0, 0, 0, 0, 0, 1, 0, 0, 0,\n",
              "       0, 0, 1, 0, 1, 0, 1, 0, 1, 0, 1, 0, 0, 0, 0, 1, 0, 0, 1, 0, 1, 0,\n",
              "       0, 0, 0, 0, 1, 1, 0, 1, 1, 0, 0, 1, 0, 0, 0, 0, 0, 1, 0, 0, 1, 0,\n",
              "       1, 0, 1, 1, 0, 0, 0, 0, 1, 0, 1, 0, 1, 1, 0, 1, 0, 0, 1, 1, 1, 0,\n",
              "       1, 0, 0, 0, 1, 1, 1, 0, 0, 1, 0, 0, 0, 0, 1, 0, 0, 0, 0, 1, 0, 1,\n",
              "       0, 1, 0, 1, 1, 0, 0, 1, 0, 1, 1, 0, 1, 1, 0, 0, 0, 0, 1, 0, 0, 0,\n",
              "       1, 0, 0, 1, 0, 1, 0, 1, 0, 0, 1, 0, 1, 1, 0, 0, 0, 0, 1, 0, 0, 1,\n",
              "       0, 0, 0, 0, 1, 0, 0, 0, 0, 0, 0, 0, 0, 0, 0, 1, 1, 1, 0, 1, 1, 0,\n",
              "       1, 1, 1, 1, 0, 0, 0, 0, 0, 1, 1, 0, 1, 1, 1, 0, 0, 1, 1, 1, 1, 0,\n",
              "       0, 1, 1, 1, 0, 0, 0, 0, 0, 0, 0, 0, 1, 0, 0, 0, 0, 1, 0, 1, 1, 0,\n",
              "       1, 0, 1, 1, 0, 1, 1, 0, 1, 0, 0, 0, 0, 0, 0, 0, 0, 1, 1, 0, 0, 0,\n",
              "       0, 1, 0, 0, 1, 0, 1, 0, 1, 0, 0, 0, 0, 0, 0, 0, 0, 0, 1, 0, 0, 0,\n",
              "       0, 0, 1, 1, 1, 0, 1, 0, 0, 0, 0, 1, 0, 0, 1, 0, 0, 0, 0, 0, 1, 1,\n",
              "       0, 0, 0, 1, 1, 1, 0, 0, 0, 0, 0, 0, 0, 0, 0, 1, 1, 0, 1, 1, 0, 0,\n",
              "       1, 0, 1, 1, 0, 0, 0, 0, 0, 1, 1, 1, 0, 0, 0, 1, 0, 1, 0, 0, 1, 0,\n",
              "       0, 1, 1, 1, 0, 0, 0, 0, 1, 1, 0, 0, 0, 1, 0, 0, 1, 0, 1, 0, 0, 0,\n",
              "       1, 1, 0, 0, 0, 0, 0, 1, 0, 0, 0, 0, 0, 0, 0, 0, 0, 1, 1, 1, 0, 1,\n",
              "       1, 1, 0, 0, 1, 1, 1, 1, 1, 0, 1, 0, 0, 1, 0, 1, 0, 0, 1, 0, 1, 0,\n",
              "       0, 1, 1, 0, 0, 1, 1, 0, 1, 1, 0, 0, 1, 0, 0, 1, 0, 1, 0, 0, 0, 0,\n",
              "       0, 0, 0, 1, 0, 1, 1, 0, 1, 1, 0, 0, 0, 1, 1, 1, 0, 0, 1, 1, 0, 0,\n",
              "       0, 1, 1, 0, 1, 0, 0, 1, 1, 1, 0, 0, 0, 1, 1, 1, 0, 0, 0, 1, 0, 1,\n",
              "       1, 0, 0, 1, 1, 0, 1, 1, 0, 1, 0, 0, 1, 0, 0, 1, 0, 0, 0, 0, 0, 1,\n",
              "       0, 0, 0, 0, 1, 0, 1, 0, 0, 1, 1, 1, 1, 0, 0, 1, 1, 1, 1, 0, 1, 0,\n",
              "       0, 1, 0, 1, 1, 0, 0, 1, 1, 0, 1, 1, 0, 0, 1, 1, 0, 1, 0, 0, 1, 0,\n",
              "       1, 0, 0, 1, 0, 1, 0, 1, 1, 1, 1, 1, 1, 0, 1, 1, 0, 1, 1, 1, 0, 1,\n",
              "       0, 0, 0, 1, 1, 0, 1, 1, 1, 0, 1, 0, 1, 0, 0, 0, 1, 0, 0, 0, 1, 0,\n",
              "       0, 0, 0, 0, 0, 1, 1, 1])"
            ]
          },
          "metadata": {},
          "execution_count": 20
        }
      ]
    },
    {
      "cell_type": "code",
      "source": [
        "y_test"
      ],
      "metadata": {
        "colab": {
          "base_uri": "https://localhost:8080/"
        },
        "id": "KgrK4LjwAizs",
        "outputId": "ed0cf15c-bea1-4e34-c65b-06c727a0146a"
      },
      "execution_count": 21,
      "outputs": [
        {
          "output_type": "execute_result",
          "data": {
            "text/plain": [
              "array([0, 0, 1, 0, 1, 0, 0, 0, 0, 0, 0, 0, 0, 1, 1, 1, 0, 0, 0, 1, 0, 0,\n",
              "       1, 0, 0, 0, 0, 0, 0, 1, 0, 1, 1, 0, 0, 0, 1, 1, 0, 1, 0, 0, 1, 0,\n",
              "       0, 1, 0, 1, 0, 0, 0, 0, 1, 1, 1, 1, 1, 1, 0, 0, 1, 0, 1, 1, 0, 1,\n",
              "       1, 1, 1, 0, 1, 1, 0, 0, 0, 0, 1, 0, 1, 1, 1, 1, 0, 1, 1, 1, 0, 0,\n",
              "       1, 0, 0, 0, 1, 0, 1, 1, 1, 0, 0, 1, 0, 0, 1, 1, 0, 1, 0, 0, 1, 0,\n",
              "       0, 0, 0, 0, 1, 0, 1, 0, 0, 0, 0, 0, 1, 0, 0, 1, 1, 0, 0, 0, 1, 1,\n",
              "       0, 1, 0, 0, 1, 0, 0, 0, 0, 1, 0, 0, 0, 0, 0, 1, 0, 1, 1, 0, 1, 0,\n",
              "       0, 0, 0, 0, 0, 0, 0, 0, 1, 0, 0, 0, 0, 1, 1, 0, 0, 1, 0, 1, 0, 1,\n",
              "       0, 1, 0, 0, 0, 0, 0, 0, 0, 1, 1, 1, 1, 0, 1, 1, 0, 1, 0, 0, 1, 0,\n",
              "       0, 0])"
            ]
          },
          "metadata": {},
          "execution_count": 21
        }
      ]
    },
    {
      "cell_type": "code",
      "source": [
        "len(x_train)"
      ],
      "metadata": {
        "colab": {
          "base_uri": "https://localhost:8080/"
        },
        "id": "MbbsS3lSAk33",
        "outputId": "1d21d8a2-f426-499a-8fa3-5910639a7988"
      },
      "execution_count": 22,
      "outputs": [
        {
          "output_type": "execute_result",
          "data": {
            "text/plain": [
              "800"
            ]
          },
          "metadata": {},
          "execution_count": 22
        }
      ]
    },
    {
      "cell_type": "code",
      "source": [
        "len(x_test)"
      ],
      "metadata": {
        "colab": {
          "base_uri": "https://localhost:8080/"
        },
        "id": "QGudRNXaAm00",
        "outputId": "b47c992e-0a6d-4de0-cc3d-266ddf171692"
      },
      "execution_count": 23,
      "outputs": [
        {
          "output_type": "execute_result",
          "data": {
            "text/plain": [
              "200"
            ]
          },
          "metadata": {},
          "execution_count": 23
        }
      ]
    },
    {
      "cell_type": "code",
      "source": [
        "len(y_train)"
      ],
      "metadata": {
        "colab": {
          "base_uri": "https://localhost:8080/"
        },
        "id": "KukIMHq4ApDH",
        "outputId": "fd73ca5c-3f8e-4416-8d21-e37edad0754d"
      },
      "execution_count": 24,
      "outputs": [
        {
          "output_type": "execute_result",
          "data": {
            "text/plain": [
              "800"
            ]
          },
          "metadata": {},
          "execution_count": 24
        }
      ]
    },
    {
      "cell_type": "code",
      "source": [
        "len(y_test)"
      ],
      "metadata": {
        "colab": {
          "base_uri": "https://localhost:8080/"
        },
        "id": "xbINgnHOBLty",
        "outputId": "141c262d-0dfe-4a20-b617-dfa6db5f63dc"
      },
      "execution_count": 25,
      "outputs": [
        {
          "output_type": "execute_result",
          "data": {
            "text/plain": [
              "200"
            ]
          },
          "metadata": {},
          "execution_count": 25
        }
      ]
    },
    {
      "cell_type": "code",
      "source": [
        "from sklearn.preprocessing import StandardScaler"
      ],
      "metadata": {
        "id": "dSwV9FIQBMxz"
      },
      "execution_count": 26,
      "outputs": []
    },
    {
      "cell_type": "code",
      "source": [
        "scaler = StandardScaler()\n",
        "\n",
        "x_train = scaler.fit_transform(x_train)\n",
        "x_test = scaler.fit_transform(x_test)"
      ],
      "metadata": {
        "id": "mXQuDYvnHwXV"
      },
      "execution_count": 27,
      "outputs": []
    },
    {
      "cell_type": "code",
      "source": [
        "x_train"
      ],
      "metadata": {
        "colab": {
          "base_uri": "https://localhost:8080/"
        },
        "id": "P46n2RawJNEl",
        "outputId": "3c5f3daf-f63c-454b-deab-428354bd9ac8"
      },
      "execution_count": 28,
      "outputs": [
        {
          "output_type": "execute_result",
          "data": {
            "text/plain": [
              "array([[ 1.08347268, -1.09076887, -1.30749141,  0.30934614],\n",
              "       [ 1.08347268,  0.97668947, -1.60377078,  1.39955279],\n",
              "       [-0.92295821,  0.0906359 , -1.56144515,  0.30934614],\n",
              "       ...,\n",
              "       [-0.92295821,  1.34587846,  1.35902286, -1.32596384],\n",
              "       [-0.92295821, -0.72157988,  0.97809225, -1.32596384],\n",
              "       [-0.92295821, -1.53379565, -1.05353767,  0.30934614]])"
            ]
          },
          "metadata": {},
          "execution_count": 28
        }
      ]
    },
    {
      "cell_type": "code",
      "source": [
        "x_test"
      ],
      "metadata": {
        "colab": {
          "base_uri": "https://localhost:8080/"
        },
        "id": "OG6wsLXLJOev",
        "outputId": "a62bd8bb-36a4-4d28-c1b6-7a862981669a"
      },
      "execution_count": 29,
      "outputs": [
        {
          "output_type": "execute_result",
          "data": {
            "text/plain": [
              "array([[ 0.91370804,  0.84165121, -0.92674628,  0.29135523],\n",
              "       [-1.0944415 ,  0.84165121,  0.09493083,  1.3460348 ],\n",
              "       [ 0.91370804, -1.16805526, -0.79903664, -1.29066412],\n",
              "       [-1.0944415 , -0.19785214, -0.84160652,  1.3460348 ],\n",
              "       [ 0.91370804, -0.96015459, -0.8841764 ,  0.29135523],\n",
              "       [ 0.91370804,  0.70305076, -0.671327  , -1.29066412],\n",
              "       [-1.0944415 ,  0.07934876, -1.39501496,  1.3460348 ],\n",
              "       [-1.0944415 , -0.12855191, -1.5227246 ,  0.29135523],\n",
              "       [-1.0944415 , -1.65315683, -1.48015472, -0.49965444],\n",
              "       [ 0.91370804,  1.396053  , -0.75646676,  0.29135523],\n",
              "       [ 0.91370804,  0.77235099,  0.35035011,  0.29135523],\n",
              "       [-1.0944415 ,  0.56445032, -0.84160652,  1.3460348 ],\n",
              "       [-1.0944415 ,  0.49515009,  0.05236095,  1.3460348 ],\n",
              "       [-1.0944415 ,  0.98025166,  1.67001638, -1.29066412],\n",
              "       [ 0.91370804, -0.05925169, -0.58618724, -0.49965444],\n",
              "       [ 0.91370804, -0.33645258,  0.69090915, -1.29066412],\n",
              "       [-1.0944415 ,  0.63375054, -1.48015472,  0.29135523],\n",
              "       [ 0.91370804,  0.84165121, -1.22473544, -1.29066412],\n",
              "       [ 0.91370804, -0.82155415, -0.41590772, -0.49965444],\n",
              "       [ 0.91370804,  0.98025166,  1.24431758, -0.49965444],\n",
              "       [-1.0944415 ,  1.32675277,  0.73347903,  1.3460348 ],\n",
              "       [ 0.91370804,  0.70305076, -0.37333784,  1.3460348 ],\n",
              "       [-1.0944415 , -0.26715236,  1.79772602, -1.29066412],\n",
              "       [-1.0944415 , -0.12855191,  0.90375855,  0.29135523],\n",
              "       [ 0.91370804, -0.19785214, -0.54361736, -1.29066412],\n",
              "       [-1.0944415 ,  1.32675277,  0.90375855,  1.3460348 ],\n",
              "       [ 0.91370804, -0.26715236,  1.54230674,  1.3460348 ],\n",
              "       [-1.0944415 , -1.23735549, -1.48015472,  1.3460348 ],\n",
              "       [ 0.91370804,  1.18815233,  0.18007059,  0.29135523],\n",
              "       [ 0.91370804,  1.32675277,  0.39291999, -0.49965444],\n",
              "       [ 0.91370804, -0.12855191, -1.13959568,  1.3460348 ],\n",
              "       [-1.0944415 , -1.51455638,  1.71258626, -0.49965444],\n",
              "       [-1.0944415 ,  1.32675277,  1.28688746,  0.29135523],\n",
              "       [-1.0944415 ,  0.28724943,  0.81861879,  1.3460348 ],\n",
              "       [ 0.91370804, -0.12855191,  0.52062963, -1.29066412],\n",
              "       [ 0.91370804,  0.98025166,  0.90375855, -1.29066412],\n",
              "       [ 0.91370804, -1.30665571, -0.75646676, -1.29066412],\n",
              "       [-1.0944415 ,  1.25745255,  0.94632843, -0.49965444],\n",
              "       [ 0.91370804, -1.65315683, -0.4584776 , -1.29066412],\n",
              "       [ 0.91370804,  0.77235099, -0.20305833, -1.29066412],\n",
              "       [-1.0944415 ,  1.1188521 , -0.37333784,  1.3460348 ],\n",
              "       [ 0.91370804, -1.51455638,  0.22264047,  0.29135523],\n",
              "       [ 0.91370804, -0.6829537 , -0.671327  , -1.29066412],\n",
              "       [ 0.91370804,  0.84165121,  0.05236095,  1.3460348 ],\n",
              "       [-1.0944415 , -0.26715236, -0.79903664,  0.29135523],\n",
              "       [-1.0944415 , -1.5838566 , -1.01188604, -0.49965444],\n",
              "       [-1.0944415 ,  0.98025166, -0.54361736, -0.49965444],\n",
              "       [ 0.91370804, -1.30665571,  1.2017477 ,  0.29135523],\n",
              "       [ 0.91370804, -0.26715236, -1.18216556,  1.3460348 ],\n",
              "       [-1.0944415 ,  0.28724943, -0.20305833,  0.29135523],\n",
              "       [ 0.91370804,  1.25745255,  0.05236095,  1.3460348 ],\n",
              "       [-1.0944415 ,  0.70305076, -1.43758484,  0.29135523],\n",
              "       [ 0.91370804,  1.25745255,  1.71258626,  0.29135523],\n",
              "       [-1.0944415 ,  0.98025166,  0.05236095,  0.29135523],\n",
              "       [ 0.91370804, -1.16805526, -0.28819809, -0.49965444],\n",
              "       [-1.0944415 , -1.37595593,  0.52062963, -1.29066412],\n",
              "       [ 0.91370804, -1.5838566 ,  0.94632843,  0.29135523],\n",
              "       [-1.0944415 , -0.75225392, -0.75646676,  0.29135523],\n",
              "       [-1.0944415 ,  1.32675277,  0.73347903, -1.29066412],\n",
              "       [-1.0944415 , -0.89085437,  1.28688746,  1.3460348 ],\n",
              "       [-1.0944415 , -0.19785214,  0.77604891, -0.49965444],\n",
              "       [ 0.91370804,  1.1188521 , -0.79903664, -1.29066412],\n",
              "       [ 0.91370804, -0.61365348, -0.96931616, -0.49965444],\n",
              "       [-1.0944415 ,  0.63375054,  0.30778023,  0.29135523],\n",
              "       [ 0.91370804,  0.77235099, -1.56529448, -0.49965444],\n",
              "       [-1.0944415 ,  1.18815233, -1.0970258 , -0.49965444],\n",
              "       [-1.0944415 , -0.47505303,  0.69090915, -0.49965444],\n",
              "       [ 0.91370804,  1.46535322,  0.18007059,  0.29135523],\n",
              "       [-1.0944415 , -0.47505303,  0.64833927,  0.29135523],\n",
              "       [-1.0944415 , -1.09875504, -0.11791857,  1.3460348 ],\n",
              "       [-1.0944415 , -0.19785214,  0.05236095, -0.49965444],\n",
              "       [-1.0944415 , -1.65315683, -0.24562821, -1.29066412],\n",
              "       [-1.0944415 , -1.30665571,  0.69090915,  1.3460348 ],\n",
              "       [ 0.91370804, -0.12855191, -1.3098752 ,  1.3460348 ],\n",
              "       [ 0.91370804,  0.01004853, -0.75646676, -1.29066412],\n",
              "       [-1.0944415 , -0.40575281,  1.37202722,  1.3460348 ],\n",
              "       [ 0.91370804, -1.51455638,  1.45716698, -0.49965444],\n",
              "       [ 0.91370804, -0.82155415, -0.92674628, -0.49965444],\n",
              "       [-1.0944415 ,  0.56445032, -0.41590772, -1.29066412],\n",
              "       [ 0.91370804, -0.82155415,  1.03146818,  0.29135523],\n",
              "       [ 0.91370804, -1.09875504,  0.26521035, -1.29066412],\n",
              "       [ 0.91370804,  1.46535322,  0.13750071,  0.29135523],\n",
              "       [-1.0944415 ,  1.25745255, -0.54361736,  1.3460348 ],\n",
              "       [-1.0944415 ,  0.56445032, -1.05445592, -1.29066412],\n",
              "       [ 0.91370804,  1.1188521 , -0.4584776 , -1.29066412],\n",
              "       [ 0.91370804,  1.18815233,  0.30778023, -1.29066412],\n",
              "       [ 0.91370804, -1.37595593, -1.22473544,  0.29135523],\n",
              "       [-1.0944415 , -0.75225392, -0.92674628, -1.29066412],\n",
              "       [ 0.91370804, -1.23735549, -1.18216556,  0.29135523],\n",
              "       [-1.0944415 , -1.37595593,  1.24431758,  1.3460348 ],\n",
              "       [ 0.91370804,  1.25745255, -0.28819809,  1.3460348 ],\n",
              "       [ 0.91370804,  0.07934876, -1.60786436,  1.3460348 ],\n",
              "       [ 0.91370804,  1.53465344,  0.47805975, -0.49965444],\n",
              "       [ 0.91370804, -0.82155415, -0.75646676,  1.3460348 ],\n",
              "       [ 0.91370804,  1.18815233, -0.50104748, -1.29066412],\n",
              "       [ 0.91370804, -1.5838566 , -0.62875712, -1.29066412],\n",
              "       [ 0.91370804, -1.09875504,  1.11660794, -0.49965444],\n",
              "       [ 0.91370804,  0.49515009,  0.18007059, -0.49965444],\n",
              "       [-1.0944415 ,  0.07934876, -0.50104748, -0.49965444],\n",
              "       [ 0.91370804, -0.61365348,  0.73347903, -1.29066412],\n",
              "       [ 0.91370804,  0.98025166, -0.24562821,  0.29135523],\n",
              "       [ 0.91370804,  0.28724943,  0.09493083,  0.29135523],\n",
              "       [-1.0944415 ,  1.53465344,  1.49973686, -1.29066412],\n",
              "       [ 0.91370804,  0.98025166,  1.67001638, -0.49965444],\n",
              "       [ 0.91370804,  0.91095143, -0.16048845,  0.29135523],\n",
              "       [ 0.91370804,  1.04955188,  0.13750071, -0.49965444],\n",
              "       [ 0.91370804,  0.77235099, -0.62875712, -0.49965444],\n",
              "       [-1.0944415 , -0.12855191,  1.45716698,  1.3460348 ],\n",
              "       [-1.0944415 , -1.37595593,  1.24431758, -1.29066412],\n",
              "       [ 0.91370804, -1.44525616, -0.84160652,  1.3460348 ],\n",
              "       [-1.0944415 , -0.89085437, -0.71389688, -0.49965444],\n",
              "       [ 0.91370804, -1.09875504, -0.07534869,  1.3460348 ],\n",
              "       [-1.0944415 , -0.47505303, -0.62875712, -1.29066412],\n",
              "       [ 0.91370804,  0.35654965, -0.79903664, -0.49965444],\n",
              "       [ 0.91370804,  0.14864898,  0.60576939, -0.49965444],\n",
              "       [ 0.91370804,  0.91095143, -1.39501496, -1.29066412],\n",
              "       [-1.0944415 , -1.30665571,  0.90375855, -0.49965444],\n",
              "       [ 0.91370804, -1.16805526,  0.77604891, -0.49965444],\n",
              "       [ 0.91370804,  1.396053  ,  0.39291999,  1.3460348 ],\n",
              "       [ 0.91370804, -1.23735549,  0.43548987,  0.29135523],\n",
              "       [-1.0944415 ,  0.98025166, -0.8841764 ,  1.3460348 ],\n",
              "       [-1.0944415 ,  1.396053  ,  1.2017477 ,  1.3460348 ],\n",
              "       [ 0.91370804, -0.26715236,  1.03146818, -1.29066412],\n",
              "       [ 0.91370804,  1.25745255, -0.33076797,  1.3460348 ],\n",
              "       [ 0.91370804,  0.49515009,  0.86118867,  1.3460348 ],\n",
              "       [ 0.91370804, -0.12855191,  1.03146818,  0.29135523],\n",
              "       [-1.0944415 , -0.61365348,  1.54230674,  0.29135523],\n",
              "       [-1.0944415 ,  1.25745255,  0.98889831,  1.3460348 ],\n",
              "       [-1.0944415 ,  1.46535322, -0.8841764 , -0.49965444],\n",
              "       [-1.0944415 ,  0.91095143,  1.37202722,  1.3460348 ],\n",
              "       [-1.0944415 ,  1.53465344,  0.09493083, -0.49965444],\n",
              "       [-1.0944415 , -1.5838566 ,  1.28688746,  0.29135523],\n",
              "       [-1.0944415 , -0.19785214, -1.13959568,  1.3460348 ],\n",
              "       [ 0.91370804, -1.44525616,  0.64833927,  0.29135523],\n",
              "       [-1.0944415 ,  0.28724943, -1.26730532, -1.29066412],\n",
              "       [ 0.91370804,  0.84165121, -1.43758484, -1.29066412],\n",
              "       [-1.0944415 , -1.44525616, -0.79903664,  0.29135523],\n",
              "       [ 0.91370804,  0.84165121, -1.0970258 , -1.29066412],\n",
              "       [-1.0944415 ,  0.77235099, -1.48015472, -1.29066412],\n",
              "       [-1.0944415 ,  0.2179492 ,  0.39291999,  1.3460348 ],\n",
              "       [ 0.91370804,  1.25745255, -1.13959568,  1.3460348 ],\n",
              "       [ 0.91370804, -1.23735549,  1.37202722, -0.49965444],\n",
              "       [ 0.91370804,  0.2179492 , -0.11791857,  1.3460348 ],\n",
              "       [-1.0944415 , -1.44525616, -1.56529448,  1.3460348 ],\n",
              "       [-1.0944415 , -0.47505303, -1.05445592,  1.3460348 ],\n",
              "       [-1.0944415 , -0.54435325, -1.26730532, -0.49965444],\n",
              "       [-1.0944415 , -1.44525616, -0.03277881,  1.3460348 ],\n",
              "       [-1.0944415 , -1.37595593,  1.71258626, -0.49965444],\n",
              "       [ 0.91370804, -0.75225392,  0.56319951,  0.29135523],\n",
              "       [ 0.91370804, -1.37595593,  1.6274465 , -0.49965444],\n",
              "       [ 0.91370804,  0.56445032,  1.32945734, -1.29066412],\n",
              "       [ 0.91370804,  0.01004853,  0.52062963, -0.49965444],\n",
              "       [ 0.91370804, -1.23735549,  1.24431758, -1.29066412],\n",
              "       [-1.0944415 , -0.47505303, -1.60786436,  0.29135523],\n",
              "       [-1.0944415 ,  1.46535322,  0.52062963, -0.49965444],\n",
              "       [ 0.91370804,  0.01004853,  0.43548987,  1.3460348 ],\n",
              "       [-1.0944415 ,  0.70305076, -0.4584776 ,  0.29135523],\n",
              "       [ 0.91370804,  0.07934876,  0.26521035,  1.3460348 ],\n",
              "       [-1.0944415 , -0.40575281,  0.26521035, -1.29066412],\n",
              "       [ 0.91370804, -1.65315683,  0.18007059,  0.29135523],\n",
              "       [-1.0944415 , -0.89085437, -1.3098752 ,  0.29135523],\n",
              "       [ 0.91370804,  0.42584987, -0.16048845,  0.29135523],\n",
              "       [ 0.91370804,  1.53465344, -1.18216556,  0.29135523],\n",
              "       [-1.0944415 ,  1.32675277,  0.73347903, -1.29066412],\n",
              "       [-1.0944415 , -1.51455638, -1.60786436,  1.3460348 ],\n",
              "       [-1.0944415 ,  1.396053  , -1.22473544,  0.29135523],\n",
              "       [-1.0944415 ,  0.07934876, -1.26730532, -1.29066412],\n",
              "       [-1.0944415 ,  0.07934876,  1.79772602, -0.49965444],\n",
              "       [-1.0944415 ,  0.2179492 , -0.8841764 , -1.29066412],\n",
              "       [ 0.91370804, -1.44525616, -1.43758484,  1.3460348 ],\n",
              "       [ 0.91370804, -1.23735549,  1.58487662,  1.3460348 ],\n",
              "       [ 0.91370804, -0.96015459,  1.03146818, -0.49965444],\n",
              "       [ 0.91370804, -0.12855191, -1.60786436,  0.29135523],\n",
              "       [-1.0944415 , -0.26715236, -0.75646676, -1.29066412],\n",
              "       [ 0.91370804, -0.82155415, -0.62875712, -1.29066412],\n",
              "       [-1.0944415 ,  0.77235099,  1.54230674,  0.29135523],\n",
              "       [-1.0944415 ,  1.46535322,  1.75515614,  1.3460348 ],\n",
              "       [ 0.91370804,  1.53465344,  1.45716698, -0.49965444],\n",
              "       [ 0.91370804, -0.61365348, -0.671327  , -0.49965444],\n",
              "       [ 0.91370804, -0.12855191, -1.18216556,  1.3460348 ],\n",
              "       [ 0.91370804, -1.44525616,  0.09493083, -0.49965444],\n",
              "       [ 0.91370804,  0.01004853, -0.07534869,  1.3460348 ],\n",
              "       [ 0.91370804, -1.65315683, -0.33076797, -1.29066412],\n",
              "       [ 0.91370804, -1.16805526,  1.4145971 ,  1.3460348 ],\n",
              "       [-1.0944415 , -0.12855191,  0.00979107,  1.3460348 ],\n",
              "       [-1.0944415 , -1.09875504, -0.71389688, -1.29066412],\n",
              "       [-1.0944415 ,  0.84165121,  1.49973686, -1.29066412],\n",
              "       [ 0.91370804,  1.18815233, -0.07534869, -1.29066412],\n",
              "       [-1.0944415 ,  0.98025166,  1.2017477 ,  0.29135523],\n",
              "       [-1.0944415 , -1.02945482,  0.90375855,  1.3460348 ],\n",
              "       [ 0.91370804,  1.18815233,  1.45716698, -1.29066412],\n",
              "       [ 0.91370804,  0.63375054,  1.54230674, -0.49965444],\n",
              "       [-1.0944415 , -0.96015459, -1.5227246 ,  0.29135523],\n",
              "       [ 0.91370804, -0.6829537 ,  1.79772602,  0.29135523],\n",
              "       [ 0.91370804, -0.61365348, -1.3098752 ,  0.29135523],\n",
              "       [ 0.91370804,  1.04955188, -0.8841764 , -0.49965444],\n",
              "       [-1.0944415 ,  0.2179492 ,  0.43548987, -1.29066412],\n",
              "       [-1.0944415 ,  1.1188521 ,  1.58487662,  1.3460348 ],\n",
              "       [ 0.91370804, -0.40575281, -1.48015472,  0.29135523],\n",
              "       [ 0.91370804,  1.32675277, -0.4584776 , -1.29066412]])"
            ]
          },
          "metadata": {},
          "execution_count": 29
        }
      ]
    },
    {
      "cell_type": "code",
      "source": [
        "from sklearn.neighbors import KNeighborsClassifier"
      ],
      "metadata": {
        "id": "cqBtnLy3JQPm"
      },
      "execution_count": 30,
      "outputs": []
    },
    {
      "cell_type": "code",
      "source": [
        "k= 5\n",
        "knn = KNeighborsClassifier(n_neighbors=k)"
      ],
      "metadata": {
        "id": "QHedUkeS_Cdo"
      },
      "execution_count": 31,
      "outputs": []
    },
    {
      "cell_type": "code",
      "source": [
        "knn.fit(x_train,y_train)"
      ],
      "metadata": {
        "colab": {
          "base_uri": "https://localhost:8080/"
        },
        "id": "B2DffN4u_wMt",
        "outputId": "1fb144ed-14f2-48c5-bf3b-7582b27def8a"
      },
      "execution_count": 32,
      "outputs": [
        {
          "output_type": "execute_result",
          "data": {
            "text/plain": [
              "KNeighborsClassifier()"
            ]
          },
          "metadata": {},
          "execution_count": 32
        }
      ]
    },
    {
      "cell_type": "code",
      "source": [
        "y_pred = knn.predict(x_test)"
      ],
      "metadata": {
        "id": "spiR2DZAAxUd"
      },
      "execution_count": 33,
      "outputs": []
    },
    {
      "cell_type": "code",
      "source": [
        "y_pred"
      ],
      "metadata": {
        "colab": {
          "base_uri": "https://localhost:8080/"
        },
        "id": "pofniUGxE9Xk",
        "outputId": "b6fd60b2-5724-4151-f550-4797eed021b8"
      },
      "execution_count": 34,
      "outputs": [
        {
          "output_type": "execute_result",
          "data": {
            "text/plain": [
              "array([1, 0, 0, 0, 0, 1, 0, 0, 0, 0, 0, 0, 0, 1, 1, 1, 0, 0, 0, 1, 0, 0,\n",
              "       1, 1, 0, 0, 0, 0, 1, 1, 0, 1, 1, 0, 1, 1, 0, 1, 1, 1, 0, 0, 0, 0,\n",
              "       0, 0, 0, 1, 0, 0, 0, 0, 1, 0, 0, 0, 1, 0, 1, 0, 1, 1, 1, 1, 0, 0,\n",
              "       1, 1, 1, 0, 1, 1, 0, 0, 0, 0, 1, 0, 0, 1, 0, 1, 0, 1, 1, 0, 0, 0,\n",
              "       0, 0, 0, 0, 1, 0, 1, 0, 1, 1, 1, 1, 1, 1, 1, 1, 1, 1, 0, 0, 1, 0,\n",
              "       1, 0, 1, 1, 1, 0, 1, 1, 0, 1, 0, 0, 1, 0, 0, 1, 1, 0, 0, 0, 1, 1,\n",
              "       0, 1, 0, 0, 1, 1, 1, 0, 0, 1, 0, 0, 0, 1, 0, 1, 1, 1, 1, 1, 1, 0,\n",
              "       1, 0, 0, 0, 0, 0, 0, 1, 0, 1, 0, 1, 0, 1, 1, 0, 0, 1, 0, 1, 0, 1,\n",
              "       0, 1, 1, 0, 1, 0, 0, 0, 0, 1, 1, 0, 1, 0, 1, 1, 0, 1, 0, 0, 1, 0,\n",
              "       0, 0])"
            ]
          },
          "metadata": {},
          "execution_count": 34
        }
      ]
    },
    {
      "cell_type": "code",
      "source": [
        "y_test"
      ],
      "metadata": {
        "colab": {
          "base_uri": "https://localhost:8080/"
        },
        "id": "EY1_chb9E-x4",
        "outputId": "703e4655-93ac-48e2-bf22-24d1bdb3de61"
      },
      "execution_count": 35,
      "outputs": [
        {
          "output_type": "execute_result",
          "data": {
            "text/plain": [
              "array([0, 0, 1, 0, 1, 0, 0, 0, 0, 0, 0, 0, 0, 1, 1, 1, 0, 0, 0, 1, 0, 0,\n",
              "       1, 0, 0, 0, 0, 0, 0, 1, 0, 1, 1, 0, 0, 0, 1, 1, 0, 1, 0, 0, 1, 0,\n",
              "       0, 1, 0, 1, 0, 0, 0, 0, 1, 1, 1, 1, 1, 1, 0, 0, 1, 0, 1, 1, 0, 1,\n",
              "       1, 1, 1, 0, 1, 1, 0, 0, 0, 0, 1, 0, 1, 1, 1, 1, 0, 1, 1, 1, 0, 0,\n",
              "       1, 0, 0, 0, 1, 0, 1, 1, 1, 0, 0, 1, 0, 0, 1, 1, 0, 1, 0, 0, 1, 0,\n",
              "       0, 0, 0, 0, 1, 0, 1, 0, 0, 0, 0, 0, 1, 0, 0, 1, 1, 0, 0, 0, 1, 1,\n",
              "       0, 1, 0, 0, 1, 0, 0, 0, 0, 1, 0, 0, 0, 0, 0, 1, 0, 1, 1, 0, 1, 0,\n",
              "       0, 0, 0, 0, 0, 0, 0, 0, 1, 0, 0, 0, 0, 1, 1, 0, 0, 1, 0, 1, 0, 1,\n",
              "       0, 1, 0, 0, 0, 0, 0, 0, 0, 1, 1, 1, 1, 0, 1, 1, 0, 1, 0, 0, 1, 0,\n",
              "       0, 0])"
            ]
          },
          "metadata": {},
          "execution_count": 35
        }
      ]
    },
    {
      "cell_type": "code",
      "source": [
        "from sklearn.metrics import accuracy_score"
      ],
      "metadata": {
        "id": "997oBcxUFe3a"
      },
      "execution_count": 36,
      "outputs": []
    },
    {
      "cell_type": "code",
      "source": [
        "accuracy = accuracy_score(y_test, y_pred)\n",
        "accuracy"
      ],
      "metadata": {
        "colab": {
          "base_uri": "https://localhost:8080/"
        },
        "id": "eV6leCNnGos1",
        "outputId": "87c497de-0874-44d7-f4b4-387cab20b48e"
      },
      "execution_count": 37,
      "outputs": [
        {
          "output_type": "execute_result",
          "data": {
            "text/plain": [
              "0.765"
            ]
          },
          "metadata": {},
          "execution_count": 37
        }
      ]
    },
    {
      "cell_type": "code",
      "source": [
        "import pickle\n"
      ],
      "metadata": {
        "id": "e1hbIoA0G5k0"
      },
      "execution_count": 42,
      "outputs": []
    },
    {
      "cell_type": "code",
      "source": [
        "with open('knn_model.pickle','wb') as f:\n",
        "  pickle.dump(knn,f)"
      ],
      "metadata": {
        "id": "RXHcV6pHjrY1"
      },
      "execution_count": 43,
      "outputs": []
    },
    {
      "cell_type": "code",
      "source": [
        "with open('scaler.pickle','wb') as f:\n",
        "  pickle.dump(scaler,f)"
      ],
      "metadata": {
        "id": "zzp_xF7KkjyJ"
      },
      "execution_count": 46,
      "outputs": []
    },
    {
      "cell_type": "code",
      "source": [
        "!ls"
      ],
      "metadata": {
        "colab": {
          "base_uri": "https://localhost:8080/"
        },
        "id": "p2sxdq73kyYM",
        "outputId": "cda09f43-3b46-488f-c119-2933a8ec46dc"
      },
      "execution_count": 47,
      "outputs": [
        {
          "output_type": "stream",
          "name": "stdout",
          "text": [
            "knn_model.pickle  sample_data  scaler.pickle\n"
          ]
        }
      ]
    },
    {
      "cell_type": "code",
      "source": [],
      "metadata": {
        "id": "7ZxXdUfClGTN"
      },
      "execution_count": null,
      "outputs": []
    }
  ]
}