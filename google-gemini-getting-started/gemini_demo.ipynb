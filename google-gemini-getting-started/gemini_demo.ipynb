{
  "nbformat": 4,
  "nbformat_minor": 0,
  "metadata": {
    "colab": {
      "provenance": []
    },
    "kernelspec": {
      "name": "python3",
      "display_name": "Python 3"
    },
    "language_info": {
      "name": "python"
    }
  },
  "cells": [
    {
      "cell_type": "code",
      "execution_count": null,
      "metadata": {
        "id": "qm43wqPski3_"
      },
      "outputs": [],
      "source": [
        "!pip install -q -U google-generativeai\n"
      ]
    },
    {
      "cell_type": "code",
      "source": [
        "import google.generativeai as genai\n"
      ],
      "metadata": {
        "id": "Z9mPaSjbkrtl"
      },
      "execution_count": null,
      "outputs": []
    },
    {
      "cell_type": "code",
      "source": [
        "from google.colab import userdata\n",
        "\n",
        "GOOGLE_API_KEY=userdata.get('GOOGLE_API_KEY')\n",
        "\n",
        "\n",
        "genai.configure(api_key=GOOGLE_API_KEY)"
      ],
      "metadata": {
        "id": "UaZu54dyk3Sw"
      },
      "execution_count": null,
      "outputs": []
    },
    {
      "cell_type": "code",
      "source": [
        "model = genai.GenerativeModel('gemini-pro')\n"
      ],
      "metadata": {
        "id": "0OLpS3iJlTUA"
      },
      "execution_count": null,
      "outputs": []
    },
    {
      "cell_type": "code",
      "source": [
        "response = model.generate_content(\"Summarize last week's world stock market performance \")\n",
        "print(response.text)"
      ],
      "metadata": {
        "colab": {
          "base_uri": "https://localhost:8080/",
          "height": 398
        },
        "id": "gsEQoIp8lZ6Z",
        "outputId": "a5d49941-121e-4565-c240-7bd94bf4a2b5"
      },
      "execution_count": null,
      "outputs": [
        {
          "output_type": "stream",
          "name": "stderr",
          "text": [
            "WARNING:tornado.access:400 POST /v1beta/models/gemini-pro:generateContent?%24alt=json%3Benum-encoding%3Dint (127.0.0.1) 884.54ms\n"
          ]
        },
        {
          "output_type": "error",
          "ename": "BadRequest",
          "evalue": "400 POST https://generativelanguage.googleapis.com/v1beta/models/gemini-pro:generateContent?%24alt=json%3Benum-encoding%3Dint: API Key not found. Please pass a valid API key.",
          "traceback": [
            "\u001b[0;31m---------------------------------------------------------------------------\u001b[0m",
            "\u001b[0;31mBadRequest\u001b[0m                                Traceback (most recent call last)",
            "\u001b[0;32m<ipython-input-33-ab3d45a9c2d1>\u001b[0m in \u001b[0;36m<cell line: 1>\u001b[0;34m()\u001b[0m\n\u001b[0;32m----> 1\u001b[0;31m \u001b[0mresponse\u001b[0m \u001b[0;34m=\u001b[0m \u001b[0mmodel\u001b[0m\u001b[0;34m.\u001b[0m\u001b[0mgenerate_content\u001b[0m\u001b[0;34m(\u001b[0m\u001b[0;34m\"Summarize last week's world stock market performance \"\u001b[0m\u001b[0;34m)\u001b[0m\u001b[0;34m\u001b[0m\u001b[0;34m\u001b[0m\u001b[0m\n\u001b[0m\u001b[1;32m      2\u001b[0m \u001b[0mprint\u001b[0m\u001b[0;34m(\u001b[0m\u001b[0mresponse\u001b[0m\u001b[0;34m.\u001b[0m\u001b[0mtext\u001b[0m\u001b[0;34m)\u001b[0m\u001b[0;34m\u001b[0m\u001b[0;34m\u001b[0m\u001b[0m\n",
            "\u001b[0;32m/usr/local/lib/python3.10/dist-packages/google/generativeai/generative_models.py\u001b[0m in \u001b[0;36mgenerate_content\u001b[0;34m(self, contents, generation_config, safety_settings, stream, tools, tool_config, request_options)\u001b[0m\n\u001b[1;32m    260\u001b[0m                 \u001b[0;32mreturn\u001b[0m \u001b[0mgeneration_types\u001b[0m\u001b[0;34m.\u001b[0m\u001b[0mGenerateContentResponse\u001b[0m\u001b[0;34m.\u001b[0m\u001b[0mfrom_iterator\u001b[0m\u001b[0;34m(\u001b[0m\u001b[0miterator\u001b[0m\u001b[0;34m)\u001b[0m\u001b[0;34m\u001b[0m\u001b[0;34m\u001b[0m\u001b[0m\n\u001b[1;32m    261\u001b[0m             \u001b[0;32melse\u001b[0m\u001b[0;34m:\u001b[0m\u001b[0;34m\u001b[0m\u001b[0;34m\u001b[0m\u001b[0m\n\u001b[0;32m--> 262\u001b[0;31m                 response = self._client.generate_content(\n\u001b[0m\u001b[1;32m    263\u001b[0m                     \u001b[0mrequest\u001b[0m\u001b[0;34m,\u001b[0m\u001b[0;34m\u001b[0m\u001b[0;34m\u001b[0m\u001b[0m\n\u001b[1;32m    264\u001b[0m                     \u001b[0;34m**\u001b[0m\u001b[0mrequest_options\u001b[0m\u001b[0;34m,\u001b[0m\u001b[0;34m\u001b[0m\u001b[0;34m\u001b[0m\u001b[0m\n",
            "\u001b[0;32m/usr/local/lib/python3.10/dist-packages/google/ai/generativelanguage_v1beta/services/generative_service/client.py\u001b[0m in \u001b[0;36mgenerate_content\u001b[0;34m(self, request, model, contents, retry, timeout, metadata)\u001b[0m\n\u001b[1;32m    810\u001b[0m \u001b[0;34m\u001b[0m\u001b[0m\n\u001b[1;32m    811\u001b[0m         \u001b[0;31m# Send the request.\u001b[0m\u001b[0;34m\u001b[0m\u001b[0;34m\u001b[0m\u001b[0m\n\u001b[0;32m--> 812\u001b[0;31m         response = rpc(\n\u001b[0m\u001b[1;32m    813\u001b[0m             \u001b[0mrequest\u001b[0m\u001b[0;34m,\u001b[0m\u001b[0;34m\u001b[0m\u001b[0;34m\u001b[0m\u001b[0m\n\u001b[1;32m    814\u001b[0m             \u001b[0mretry\u001b[0m\u001b[0;34m=\u001b[0m\u001b[0mretry\u001b[0m\u001b[0;34m,\u001b[0m\u001b[0;34m\u001b[0m\u001b[0;34m\u001b[0m\u001b[0m\n",
            "\u001b[0;32m/usr/local/lib/python3.10/dist-packages/google/api_core/gapic_v1/method.py\u001b[0m in \u001b[0;36m__call__\u001b[0;34m(self, timeout, retry, *args, **kwargs)\u001b[0m\n\u001b[1;32m    111\u001b[0m             \u001b[0mkwargs\u001b[0m\u001b[0;34m[\u001b[0m\u001b[0;34m\"metadata\"\u001b[0m\u001b[0;34m]\u001b[0m \u001b[0;34m=\u001b[0m \u001b[0mmetadata\u001b[0m\u001b[0;34m\u001b[0m\u001b[0;34m\u001b[0m\u001b[0m\n\u001b[1;32m    112\u001b[0m \u001b[0;34m\u001b[0m\u001b[0m\n\u001b[0;32m--> 113\u001b[0;31m         \u001b[0;32mreturn\u001b[0m \u001b[0mwrapped_func\u001b[0m\u001b[0;34m(\u001b[0m\u001b[0;34m*\u001b[0m\u001b[0margs\u001b[0m\u001b[0;34m,\u001b[0m \u001b[0;34m**\u001b[0m\u001b[0mkwargs\u001b[0m\u001b[0;34m)\u001b[0m\u001b[0;34m\u001b[0m\u001b[0;34m\u001b[0m\u001b[0m\n\u001b[0m\u001b[1;32m    114\u001b[0m \u001b[0;34m\u001b[0m\u001b[0m\n\u001b[1;32m    115\u001b[0m \u001b[0;34m\u001b[0m\u001b[0m\n",
            "\u001b[0;32m/usr/local/lib/python3.10/dist-packages/google/api_core/retry.py\u001b[0m in \u001b[0;36mretry_wrapped_func\u001b[0;34m(*args, **kwargs)\u001b[0m\n\u001b[1;32m    347\u001b[0m                 \u001b[0mself\u001b[0m\u001b[0;34m.\u001b[0m\u001b[0m_initial\u001b[0m\u001b[0;34m,\u001b[0m \u001b[0mself\u001b[0m\u001b[0;34m.\u001b[0m\u001b[0m_maximum\u001b[0m\u001b[0;34m,\u001b[0m \u001b[0mmultiplier\u001b[0m\u001b[0;34m=\u001b[0m\u001b[0mself\u001b[0m\u001b[0;34m.\u001b[0m\u001b[0m_multiplier\u001b[0m\u001b[0;34m\u001b[0m\u001b[0;34m\u001b[0m\u001b[0m\n\u001b[1;32m    348\u001b[0m             )\n\u001b[0;32m--> 349\u001b[0;31m             return retry_target(\n\u001b[0m\u001b[1;32m    350\u001b[0m                 \u001b[0mtarget\u001b[0m\u001b[0;34m,\u001b[0m\u001b[0;34m\u001b[0m\u001b[0;34m\u001b[0m\u001b[0m\n\u001b[1;32m    351\u001b[0m                 \u001b[0mself\u001b[0m\u001b[0;34m.\u001b[0m\u001b[0m_predicate\u001b[0m\u001b[0;34m,\u001b[0m\u001b[0;34m\u001b[0m\u001b[0;34m\u001b[0m\u001b[0m\n",
            "\u001b[0;32m/usr/local/lib/python3.10/dist-packages/google/api_core/retry.py\u001b[0m in \u001b[0;36mretry_target\u001b[0;34m(target, predicate, sleep_generator, timeout, on_error, **kwargs)\u001b[0m\n\u001b[1;32m    189\u001b[0m     \u001b[0;32mfor\u001b[0m \u001b[0msleep\u001b[0m \u001b[0;32min\u001b[0m \u001b[0msleep_generator\u001b[0m\u001b[0;34m:\u001b[0m\u001b[0;34m\u001b[0m\u001b[0;34m\u001b[0m\u001b[0m\n\u001b[1;32m    190\u001b[0m         \u001b[0;32mtry\u001b[0m\u001b[0;34m:\u001b[0m\u001b[0;34m\u001b[0m\u001b[0;34m\u001b[0m\u001b[0m\n\u001b[0;32m--> 191\u001b[0;31m             \u001b[0;32mreturn\u001b[0m \u001b[0mtarget\u001b[0m\u001b[0;34m(\u001b[0m\u001b[0;34m)\u001b[0m\u001b[0;34m\u001b[0m\u001b[0;34m\u001b[0m\u001b[0m\n\u001b[0m\u001b[1;32m    192\u001b[0m \u001b[0;34m\u001b[0m\u001b[0m\n\u001b[1;32m    193\u001b[0m         \u001b[0;31m# pylint: disable=broad-except\u001b[0m\u001b[0;34m\u001b[0m\u001b[0;34m\u001b[0m\u001b[0m\n",
            "\u001b[0;32m/usr/local/lib/python3.10/dist-packages/google/api_core/timeout.py\u001b[0m in \u001b[0;36mfunc_with_timeout\u001b[0;34m(*args, **kwargs)\u001b[0m\n\u001b[1;32m    118\u001b[0m                 \u001b[0mkwargs\u001b[0m\u001b[0;34m[\u001b[0m\u001b[0;34m\"timeout\"\u001b[0m\u001b[0;34m]\u001b[0m \u001b[0;34m=\u001b[0m \u001b[0mmax\u001b[0m\u001b[0;34m(\u001b[0m\u001b[0;36m0\u001b[0m\u001b[0;34m,\u001b[0m \u001b[0mself\u001b[0m\u001b[0;34m.\u001b[0m\u001b[0m_timeout\u001b[0m \u001b[0;34m-\u001b[0m \u001b[0mtime_since_first_attempt\u001b[0m\u001b[0;34m)\u001b[0m\u001b[0;34m\u001b[0m\u001b[0;34m\u001b[0m\u001b[0m\n\u001b[1;32m    119\u001b[0m \u001b[0;34m\u001b[0m\u001b[0m\n\u001b[0;32m--> 120\u001b[0;31m             \u001b[0;32mreturn\u001b[0m \u001b[0mfunc\u001b[0m\u001b[0;34m(\u001b[0m\u001b[0;34m*\u001b[0m\u001b[0margs\u001b[0m\u001b[0;34m,\u001b[0m \u001b[0;34m**\u001b[0m\u001b[0mkwargs\u001b[0m\u001b[0;34m)\u001b[0m\u001b[0;34m\u001b[0m\u001b[0;34m\u001b[0m\u001b[0m\n\u001b[0m\u001b[1;32m    121\u001b[0m \u001b[0;34m\u001b[0m\u001b[0m\n\u001b[1;32m    122\u001b[0m         \u001b[0;32mreturn\u001b[0m \u001b[0mfunc_with_timeout\u001b[0m\u001b[0;34m\u001b[0m\u001b[0;34m\u001b[0m\u001b[0m\n",
            "\u001b[0;32m/usr/local/lib/python3.10/dist-packages/google/api_core/grpc_helpers.py\u001b[0m in \u001b[0;36merror_remapped_callable\u001b[0;34m(*args, **kwargs)\u001b[0m\n\u001b[1;32m     70\u001b[0m     \u001b[0;32mdef\u001b[0m \u001b[0merror_remapped_callable\u001b[0m\u001b[0;34m(\u001b[0m\u001b[0;34m*\u001b[0m\u001b[0margs\u001b[0m\u001b[0;34m,\u001b[0m \u001b[0;34m**\u001b[0m\u001b[0mkwargs\u001b[0m\u001b[0;34m)\u001b[0m\u001b[0;34m:\u001b[0m\u001b[0;34m\u001b[0m\u001b[0;34m\u001b[0m\u001b[0m\n\u001b[1;32m     71\u001b[0m         \u001b[0;32mtry\u001b[0m\u001b[0;34m:\u001b[0m\u001b[0;34m\u001b[0m\u001b[0;34m\u001b[0m\u001b[0m\n\u001b[0;32m---> 72\u001b[0;31m             \u001b[0;32mreturn\u001b[0m \u001b[0mcallable_\u001b[0m\u001b[0;34m(\u001b[0m\u001b[0;34m*\u001b[0m\u001b[0margs\u001b[0m\u001b[0;34m,\u001b[0m \u001b[0;34m**\u001b[0m\u001b[0mkwargs\u001b[0m\u001b[0;34m)\u001b[0m\u001b[0;34m\u001b[0m\u001b[0;34m\u001b[0m\u001b[0m\n\u001b[0m\u001b[1;32m     73\u001b[0m         \u001b[0;32mexcept\u001b[0m \u001b[0mgrpc\u001b[0m\u001b[0;34m.\u001b[0m\u001b[0mRpcError\u001b[0m \u001b[0;32mas\u001b[0m \u001b[0mexc\u001b[0m\u001b[0;34m:\u001b[0m\u001b[0;34m\u001b[0m\u001b[0;34m\u001b[0m\u001b[0m\n\u001b[1;32m     74\u001b[0m             \u001b[0;32mraise\u001b[0m \u001b[0mexceptions\u001b[0m\u001b[0;34m.\u001b[0m\u001b[0mfrom_grpc_error\u001b[0m\u001b[0;34m(\u001b[0m\u001b[0mexc\u001b[0m\u001b[0;34m)\u001b[0m \u001b[0;32mfrom\u001b[0m \u001b[0mexc\u001b[0m\u001b[0;34m\u001b[0m\u001b[0;34m\u001b[0m\u001b[0m\n",
            "\u001b[0;32m/usr/local/lib/python3.10/dist-packages/google/ai/generativelanguage_v1beta/services/generative_service/transports/rest.py\u001b[0m in \u001b[0;36m__call__\u001b[0;34m(self, request, retry, timeout, metadata)\u001b[0m\n\u001b[1;32m    844\u001b[0m             \u001b[0;31m# subclass.\u001b[0m\u001b[0;34m\u001b[0m\u001b[0;34m\u001b[0m\u001b[0m\n\u001b[1;32m    845\u001b[0m             \u001b[0;32mif\u001b[0m \u001b[0mresponse\u001b[0m\u001b[0;34m.\u001b[0m\u001b[0mstatus_code\u001b[0m \u001b[0;34m>=\u001b[0m \u001b[0;36m400\u001b[0m\u001b[0;34m:\u001b[0m\u001b[0;34m\u001b[0m\u001b[0;34m\u001b[0m\u001b[0m\n\u001b[0;32m--> 846\u001b[0;31m                 \u001b[0;32mraise\u001b[0m \u001b[0mcore_exceptions\u001b[0m\u001b[0;34m.\u001b[0m\u001b[0mfrom_http_response\u001b[0m\u001b[0;34m(\u001b[0m\u001b[0mresponse\u001b[0m\u001b[0;34m)\u001b[0m\u001b[0;34m\u001b[0m\u001b[0;34m\u001b[0m\u001b[0m\n\u001b[0m\u001b[1;32m    847\u001b[0m \u001b[0;34m\u001b[0m\u001b[0m\n\u001b[1;32m    848\u001b[0m             \u001b[0;31m# Return the response\u001b[0m\u001b[0;34m\u001b[0m\u001b[0;34m\u001b[0m\u001b[0m\n",
            "\u001b[0;31mBadRequest\u001b[0m: 400 POST https://generativelanguage.googleapis.com/v1beta/models/gemini-pro:generateContent?%24alt=json%3Benum-encoding%3Dint: API Key not found. Please pass a valid API key."
          ]
        }
      ]
    },
    {
      "cell_type": "code",
      "source": [
        "for m in genai.list_models():\n",
        "  if 'generateContent' in m.supported_generation_methods:\n",
        "    print(m.name)\n"
      ],
      "metadata": {
        "colab": {
          "base_uri": "https://localhost:8080/",
          "height": 178
        },
        "id": "47ReISbklgww",
        "outputId": "93ac55ca-c1ae-4f21-f2ee-989beb6f03b4"
      },
      "execution_count": null,
      "outputs": [
        {
          "output_type": "stream",
          "name": "stdout",
          "text": [
            "models/gemini-1.0-pro\n",
            "models/gemini-1.0-pro-001\n",
            "models/gemini-1.0-pro-latest\n",
            "models/gemini-1.0-pro-vision-latest\n",
            "models/gemini-1.5-flash-latest\n",
            "models/gemini-1.5-pro-latest\n",
            "models/gemini-pro\n",
            "models/gemini-pro-vision\n"
          ]
        }
      ]
    },
    {
      "cell_type": "code",
      "source": [
        "from IPython.display import display\n",
        "from IPython.display import Markdown\n",
        "import textwrap\n",
        "\n",
        "def to_markdown(text):\n",
        "  text = text.replace('•', '  *')\n",
        "  return Markdown(textwrap.indent(text, '> ', predicate=lambda _: True))"
      ],
      "metadata": {
        "id": "WLhA8QFOwOD7"
      },
      "execution_count": null,
      "outputs": []
    },
    {
      "cell_type": "code",
      "source": [
        "to_markdown(response.text)\n"
      ],
      "metadata": {
        "colab": {
          "base_uri": "https://localhost:8080/",
          "height": 448
        },
        "id": "J8L8e_w-waGt",
        "outputId": "1729e90a-7a48-43ac-a173-b1807ae3d447"
      },
      "execution_count": null,
      "outputs": [
        {
          "output_type": "execute_result",
          "data": {
            "text/plain": [
              "<IPython.core.display.Markdown object>"
            ],
            "text/markdown": "> **Global Stock Market Performance (Past Week)**\n> \n> * **Overall:** Global stock markets experienced a week of mixed performances, with some major indices posting gains while others declined.\n> \n> * **United States:** The S&P 500 and Dow Jones Industrial Average closed slightly higher, buoyed by strong earnings reports and positive economic data. The Nasdaq Composite ended the week lower due to concerns over tech valuations.\n> \n> * **Europe:** The Euro Stoxx 50 index edged up on optimism about the European economy and the potential lifting of COVID-19 restrictions.\n> \n> * **Asia:** Major Asian indices were mixed. The Nikkei 225 in Japan fell due to concerns over the yen's strength. The Hang Seng Index in Hong Kong rose slightly, while the Shanghai Composite Index in China was flat.\n> \n> * **Emerging Markets:** The MSCI Emerging Markets Index declined over the week, pressured by concerns over inflation and rising interest rates.\n> \n> **Notable Movers:**\n> \n> * **AstraZeneca (AZN):** Shares jumped after the pharmaceutical giant announced positive results from its clinical trials for a breast cancer treatment.\n> * **Netflix (NFLX):** The streaming giant's stock fell sharply after it unveiled disappointing subscriber growth figures.\n> * **Tesla (TSLA):** Elon Musk's electric vehicle company saw its shares rise on news of a potential stock split.\n> * **Saudi Aramco (2222):** The Saudi oil giant's shares declined due to lower oil prices.\n> \n> Overall, the global stock market outlook remains cautiously optimistic, with investors balancing positive economic data with concerns over inflation and geopolitical tensions."
          },
          "metadata": {},
          "execution_count": 11
        }
      ]
    },
    {
      "cell_type": "code",
      "source": [
        "%%time\n",
        "response = model.generate_content(\"How did the world stock market perform this week . \", stream=True)\n",
        "\n",
        "for chunk in response:\n",
        "  print(chunk.text)\n",
        "  print(\"_\"*80)\n"
      ],
      "metadata": {
        "colab": {
          "base_uri": "https://localhost:8080/",
          "height": 829
        },
        "id": "_dK29DpqwjqM",
        "outputId": "dafa8d46-a393-4d30-d191-8a5c0eb3f2db"
      },
      "execution_count": null,
      "outputs": [
        {
          "output_type": "stream",
          "name": "stdout",
          "text": [
            "**Global Stock Market Performance This Week (February 27 - March 3\n",
            "________________________________________________________________________________\n",
            ", 2023)**\n",
            "\n",
            "The global stock market saw a mixed performance this week, with major indices showing both gains and losses.\n",
            "\n",
            "**Major Indices\n",
            "________________________________________________________________________________\n",
            "**\n",
            "\n",
            "* **S&P 500 (US):** -0.28%\n",
            "* **Dow Jones Industrial Average (US):** -0.88%\n",
            "* **Nasdaq Composite (US):** -0.61%\n",
            "* **FTSE 100 (\n",
            "________________________________________________________________________________\n",
            "UK):** +0.82%\n",
            "* **DAX 40 (Germany):** +1.69%\n",
            "* **CAC 40 (France):** +1.40%\n",
            "* **Hang Seng Index (Hong Kong):** -1.05%\n",
            "* **Shanghai Composite (China):** -0.84%\n",
            "* **Nikkei 225 (Japan):** -0.54%\n",
            "\n",
            "**Key Factors Influencing Market Performance**\n",
            "\n",
            "* **Interest rate expectations:** Investors were digesting comments from Federal Reserve Chair Jerome Powell, who suggested that the central\n",
            "________________________________________________________________________________\n",
            " bank may continue raising interest rates to combat inflation.\n",
            "* **Economic data:** Economic data released this week, such as consumer confidence and job creation in the US, showed mixed signals about the strength of the economy.\n",
            "* **Geopolitical tensions:** The ongoing war in Ukraine and tensions between the US and China over Taiwan continued to weigh on market sentiment.\n",
            "* **Earnings season:** Companies began reporting their financial results for the fourth quarter of 2022. Some notable companies, such as Apple, Alphabet, and Amazon, reported mixed earnings.\n",
            "\n",
            "**Sector Performance**\n",
            "\n",
            "* **Energy:** Strong gains, driven by rising oil prices.\n",
            "* **Technology:** Mixed performance, with some companies reporting strong earnings while others faced headwinds.\n",
            "* **Financials:** Declined as investors adjusted to higher interest rate expectations.\n",
            "* **Consumer staples:** Defended as investors sought safer assets.\n",
            "* **Consumer discretionary:** Underperformed due to concerns about inflation and slowing consumer spending.\n",
            "\n",
            "**Outlook**\n",
            "\n",
            "Analysts anticipate further volatility in the global stock market in the coming week. Investors will be monitoring interest rate decisions from central banks, economic data, and geopolitical developments. The earnings season will also continue, with more companies reporting their financial results.\n",
            "________________________________________________________________________________\n",
            "CPU times: user 86.7 ms, sys: 7.7 ms, total: 94.4 ms\n",
            "Wall time: 8.98 s\n"
          ]
        }
      ]
    },
    {
      "cell_type": "code",
      "source": [
        "import PIL.Image\n",
        "\n",
        "img = PIL.Image.open('sample_data/sample.jpg')\n",
        "img\n",
        "\n",
        "\n",
        "model = genai.GenerativeModel('gemini-pro-vision')\n",
        "\n",
        "\n",
        "response = model.generate_content(img)"
      ],
      "metadata": {
        "id": "sC1dV-d_w_DY"
      },
      "execution_count": null,
      "outputs": []
    },
    {
      "cell_type": "code",
      "source": [
        "to_markdown(response.text)\n"
      ],
      "metadata": {
        "colab": {
          "base_uri": "https://localhost:8080/",
          "height": 83
        },
        "id": "7i96ZGfix1xO",
        "outputId": "3f5a7592-f8b3-4fed-e308-29fd5a66aacc"
      },
      "execution_count": null,
      "outputs": [
        {
          "output_type": "execute_result",
          "data": {
            "text/plain": [
              "<IPython.core.display.Markdown object>"
            ],
            "text/markdown": ">  A large group of wicker baskets with handles."
          },
          "metadata": {},
          "execution_count": 18
        }
      ]
    },
    {
      "cell_type": "code",
      "source": [
        "response = model.generate_content([\"Write a blog on the image\", img], stream=True)\n",
        "response.resolve()"
      ],
      "metadata": {
        "id": "npfbNTHNx9po"
      },
      "execution_count": null,
      "outputs": []
    },
    {
      "cell_type": "code",
      "source": [
        "to_markdown(response.text)"
      ],
      "metadata": {
        "colab": {
          "base_uri": "https://localhost:8080/",
          "height": 460
        },
        "id": "2i08m7i5ygpw",
        "outputId": "ff287a08-ed29-4bf2-f3d5-b9f1509deec9"
      },
      "execution_count": null,
      "outputs": [
        {
          "output_type": "execute_result",
          "data": {
            "text/plain": [
              "<IPython.core.display.Markdown object>"
            ],
            "text/markdown": ">  Wicker baskets are a popular choice for a variety of reasons. They are lightweight and durable, making them easy to carry and use. They are also versatile, and can be used for a variety of purposes, such as storing food, carrying laundry, or even as a planter for plants.\n> \n> Wicker baskets are made from a variety of materials, including willow, rattan, and bamboo. The type of material used will determine the strength and durability of the basket. Willow baskets are the most common type of wicker basket, and they are known for their strength and durability. Rattan baskets are also strong and durable, but they are lighter than willow baskets. Bamboo baskets are the lightest type of wicker basket, but they are also the least durable.\n> \n> Wicker baskets can be purchased in a variety of shapes and sizes. They can be found in round, oval, and rectangular shapes. They can also be found in a variety of colors, including natural, brown, and black.\n> \n> Wicker baskets are a versatile and stylish way to add storage to your home. They can be used in a variety of rooms, including the kitchen, bathroom, and bedroom. They can also be used outdoors, on the patio or in the garden.\n> \n> If you are looking for a lightweight, durable, and versatile storage solution, wicker baskets are a great option. They are available in a variety of shapes, sizes, and colors, so you can find the perfect basket for your needs.\n> \n> Here are some tips for caring for your wicker basket:\n> \n> * Store your basket in a cool, dry place.\n> * Avoid exposing your basket to direct sunlight.\n> * If your basket gets wet, dry it off immediately.\n> * To clean your basket, wipe it down with a damp cloth.\n> * Avoid using harsh chemicals or cleaners.\n> \n> With proper care, your wicker basket will last for many years."
          },
          "metadata": {},
          "execution_count": 20
        }
      ]
    },
    {
      "cell_type": "code",
      "source": [
        "model = genai.GenerativeModel('gemini-pro')\n",
        "chat = model.start_chat(history=[])\n",
        "chat\n"
      ],
      "metadata": {
        "colab": {
          "base_uri": "https://localhost:8080/"
        },
        "id": "oAwUEWwXyray",
        "outputId": "35059159-a867-431c-a867-84a2f3f750e7"
      },
      "execution_count": null,
      "outputs": [
        {
          "output_type": "execute_result",
          "data": {
            "text/plain": [
              "ChatSession(\n",
              "    model=genai.GenerativeModel(\n",
              "        model_name='models/gemini-pro',\n",
              "        generation_config={},\n",
              "        safety_settings={},\n",
              "        tools=None,\n",
              "        system_instruction=None,\n",
              "    ),\n",
              "    history=[]\n",
              ")"
            ]
          },
          "metadata": {},
          "execution_count": 21
        }
      ]
    },
    {
      "cell_type": "code",
      "source": [
        "response = chat.send_message(\"In one sentence, explain stock market\")\n",
        "to_markdown(response.text)"
      ],
      "metadata": {
        "colab": {
          "base_uri": "https://localhost:8080/",
          "height": 100
        },
        "id": "IMW4FWXUyzn-",
        "outputId": "80cdc1e7-deb1-4149-c8cb-9abe7f2a1c29"
      },
      "execution_count": null,
      "outputs": [
        {
          "output_type": "execute_result",
          "data": {
            "text/plain": [
              "<IPython.core.display.Markdown object>"
            ],
            "text/markdown": "> The stock market is a marketplace where buyers and sellers can trade company shares, allowing companies to raise capital and investors to potentially profit from their investments."
          },
          "metadata": {},
          "execution_count": 22
        }
      ]
    },
    {
      "cell_type": "code",
      "source": [
        "chat.history\n"
      ],
      "metadata": {
        "colab": {
          "base_uri": "https://localhost:8080/"
        },
        "id": "3DFKQlLoy-NV",
        "outputId": "934ab630-8e52-4432-d196-1c9315e5af8a"
      },
      "execution_count": null,
      "outputs": [
        {
          "output_type": "execute_result",
          "data": {
            "text/plain": [
              "[parts {\n",
              "   text: \"In one sentence, explain stock market\"\n",
              " }\n",
              " role: \"user\",\n",
              " parts {\n",
              "   text: \"The stock market is a marketplace where buyers and sellers can trade company shares, allowing companies to raise capital and investors to potentially profit from their investments.\"\n",
              " }\n",
              " role: \"model\"]"
            ]
          },
          "metadata": {},
          "execution_count": 23
        }
      ]
    },
    {
      "cell_type": "code",
      "source": [
        "response = chat.send_message(\"what is primary and secondary market\")\n",
        "to_markdown(response.text)"
      ],
      "metadata": {
        "colab": {
          "base_uri": "https://localhost:8080/",
          "height": 183
        },
        "id": "9MyPqho5zFwy",
        "outputId": "7b869035-c99c-43f5-ca4e-bd8ae1effc4c"
      },
      "execution_count": null,
      "outputs": [
        {
          "output_type": "execute_result",
          "data": {
            "text/plain": [
              "<IPython.core.display.Markdown object>"
            ],
            "text/markdown": "> **Primary market:** The primary market is where new securities are issued and sold to investors for the first time. This is where companies raise capital by selling stocks or bonds to the public.\n> \n> **Secondary market:** The secondary market is where previously issued securities are traded between investors. This is where investors can buy and sell stocks or bonds that have already been issued.\n> \n> The primary market is important for companies to raise capital, while the secondary market provides liquidity for investors and allows them to trade their securities.\n"
          },
          "metadata": {},
          "execution_count": 24
        }
      ]
    },
    {
      "cell_type": "code",
      "source": [
        "chat.history\n"
      ],
      "metadata": {
        "colab": {
          "base_uri": "https://localhost:8080/"
        },
        "id": "vARdcx5gzMMu",
        "outputId": "b9a0a85c-d2cb-4397-a255-dd6ddb1f6076"
      },
      "execution_count": null,
      "outputs": [
        {
          "output_type": "execute_result",
          "data": {
            "text/plain": [
              "[parts {\n",
              "   text: \"In one sentence, explain stock market\"\n",
              " }\n",
              " role: \"user\",\n",
              " parts {\n",
              "   text: \"The stock market is a marketplace where buyers and sellers can trade company shares, allowing companies to raise capital and investors to potentially profit from their investments.\"\n",
              " }\n",
              " role: \"model\",\n",
              " parts {\n",
              "   text: \"what is primary and secondary market\"\n",
              " }\n",
              " role: \"user\",\n",
              " parts {\n",
              "   text: \"**Primary market:** The primary market is where new securities are issued and sold to investors for the first time. This is where companies raise capital by selling stocks or bonds to the public.\\n\\n**Secondary market:** The secondary market is where previously issued securities are traded between investors. This is where investors can buy and sell stocks or bonds that have already been issued.\\n\\nThe primary market is important for companies to raise capital, while the secondary market provides liquidity for investors and allows them to trade their securities.\\n\"\n",
              " }\n",
              " role: \"model\"]"
            ]
          },
          "metadata": {},
          "execution_count": 25
        }
      ]
    },
    {
      "cell_type": "code",
      "source": [
        "response = chat.send_message(\"Okay, how about a more detailed explanation to a finance student\", stream=True)\n",
        "\n",
        "for chunk in response:\n",
        "  print(chunk.text)\n",
        "  print(\"_\"*80)"
      ],
      "metadata": {
        "colab": {
          "base_uri": "https://localhost:8080/",
          "height": 688
        },
        "id": "ZC_Y25YkzPHh",
        "outputId": "05f0e65b-b3db-4730-bdd4-5d0bb4e7ca97"
      },
      "execution_count": null,
      "outputs": [
        {
          "output_type": "stream",
          "name": "stdout",
          "text": [
            "**Primary market**\n",
            "\n",
            "The primary market is the market where new securities are issued\n",
            "________________________________________________________________________________\n",
            " and sold to investors for the first time. This is where companies raise capital by selling stocks or bonds to the public. The primary market is also known as the\n",
            "________________________________________________________________________________\n",
            " new issue market.\n",
            "\n",
            "**Issuers** in the primary market include governments, corporations, and municipalities. They sell new securities to raise funds for a variety of purposes, such as:\n",
            "\n",
            "* Funding new projects or acquisitions\n",
            "* Expanding operations\n",
            "* Refinancing existing debt\n",
            "* Providing a return to shareholders\n",
            "\n",
            "**Investors\n",
            "________________________________________________________________________________\n",
            "** in the primary market include institutional investors (such as pension funds and mutual funds), individual investors, and investment banks. They purchase new securities in the hope of making a profit from the investment.\n",
            "\n",
            "The primary market is regulated by the Securities and Exchange Commission (SEC) in the United States. The SEC requires issuers to register their securities with the SEC before they can be sold to the public. The SEC also reviews the financial statements of issuers to ensure that they are accurate and complete.\n",
            "\n",
            "**Secondary market**\n",
            "\n",
            "The secondary market is the market where previously issued securities are traded between investors. This is where investors can buy and sell\n",
            "________________________________________________________________________________\n",
            " stocks or bonds that have already been issued. The secondary market is also known as the aftermarket.\n",
            "\n",
            "**Participants** in the secondary market include:\n",
            "\n",
            "* **Brokers:** Brokers are licensed professionals who facilitate the trading of securities. They match buyers and sellers and execute trades on behalf of their clients.\n",
            "* **Dealers:** Dealers are firms that buy and sell securities for their own account. They make a profit by buying securities at a lower price and selling them at a higher price.\n",
            "* **Investors:** Investors are individuals or institutions that buy and sell securities in the secondary market. They may be investing for a variety of reasons, such as to generate income, grow their wealth, or hedge against risk.\n",
            "\n",
            "The secondary market is regulated by the SEC and the Financial Industry Regulatory Authority (FINRA). The SEC and FINRA oversee the activities of brokers and dealers to ensure that they are operating in a fair and orderly manner.\n",
            "\n",
            "The primary and secondary markets are essential components of the financial system. The primary market allows companies to raise capital, while the secondary market provides liquidity for investors and allows them to trade their securities.\n",
            "________________________________________________________________________________\n"
          ]
        }
      ]
    },
    {
      "cell_type": "code",
      "source": [
        "model.count_tokens(\"What is stock market\")\n"
      ],
      "metadata": {
        "colab": {
          "base_uri": "https://localhost:8080/",
          "height": 55
        },
        "id": "Hap6bdRozeZG",
        "outputId": "58d735fa-d8f0-4967-ce09-813d4303880f"
      },
      "execution_count": null,
      "outputs": [
        {
          "output_type": "execute_result",
          "data": {
            "text/plain": [
              "total_tokens: 4"
            ]
          },
          "metadata": {},
          "execution_count": 27
        }
      ]
    },
    {
      "cell_type": "code",
      "source": [
        "model.count_tokens(chat.history)\n"
      ],
      "metadata": {
        "colab": {
          "base_uri": "https://localhost:8080/",
          "height": 55
        },
        "id": "V0ESRvZNzs4J",
        "outputId": "2d44d998-f811-4d52-dfac-151db21e0bab"
      },
      "execution_count": null,
      "outputs": [
        {
          "output_type": "execute_result",
          "data": {
            "text/plain": [
              "total_tokens: 627"
            ]
          },
          "metadata": {},
          "execution_count": 28
        }
      ]
    },
    {
      "cell_type": "code",
      "source": [],
      "metadata": {
        "id": "doLIbpPGz0m-"
      },
      "execution_count": null,
      "outputs": []
    }
  ]
}