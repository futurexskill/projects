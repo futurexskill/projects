{
  "nbformat": 4,
  "nbformat_minor": 0,
  "metadata": {
    "colab": {
      "provenance": []
    },
    "kernelspec": {
      "name": "python3",
      "display_name": "Python 3"
    },
    "language_info": {
      "name": "python"
    }
  },
  "cells": [
    {
      "cell_type": "code",
      "execution_count": null,
      "metadata": {
        "id": "NCs5ocNpbkwt"
      },
      "outputs": [],
      "source": [
        "# variables\n",
        "name = \"John\"\n",
        "age = 25"
      ]
    },
    {
      "cell_type": "code",
      "source": [
        "name"
      ],
      "metadata": {
        "colab": {
          "base_uri": "https://localhost:8080/",
          "height": 35
        },
        "id": "8Eu1StO3cpZ2",
        "outputId": "2fca39b7-938c-4d59-b7db-caf466dde8ad"
      },
      "execution_count": null,
      "outputs": [
        {
          "output_type": "execute_result",
          "data": {
            "text/plain": [
              "'John'"
            ],
            "application/vnd.google.colaboratory.intrinsic+json": {
              "type": "string"
            }
          },
          "metadata": {},
          "execution_count": 4
        }
      ]
    },
    {
      "cell_type": "code",
      "source": [
        "age"
      ],
      "metadata": {
        "colab": {
          "base_uri": "https://localhost:8080/"
        },
        "id": "i21V2gXXc5xh",
        "outputId": "b5596023-3aeb-40dc-f7e5-334447dfdcfe"
      },
      "execution_count": null,
      "outputs": [
        {
          "output_type": "execute_result",
          "data": {
            "text/plain": [
              "25"
            ]
          },
          "metadata": {},
          "execution_count": 5
        }
      ]
    },
    {
      "cell_type": "code",
      "source": [
        "print(name)\n",
        "age\n",
        "3+5"
      ],
      "metadata": {
        "colab": {
          "base_uri": "https://localhost:8080/"
        },
        "id": "2sw2NOXkc6bY",
        "outputId": "b22dec09-501e-4651-a93b-5ae5a5c9962f"
      },
      "execution_count": null,
      "outputs": [
        {
          "output_type": "stream",
          "name": "stdout",
          "text": [
            "John\n"
          ]
        },
        {
          "output_type": "execute_result",
          "data": {
            "text/plain": [
              "8"
            ]
          },
          "metadata": {},
          "execution_count": 8
        }
      ]
    },
    {
      "cell_type": "code",
      "source": [
        "print(name)\n",
        "print(age)\n",
        "3+5"
      ],
      "metadata": {
        "colab": {
          "base_uri": "https://localhost:8080/"
        },
        "id": "BKPt2A0jdP9v",
        "outputId": "114b01e5-01d8-4996-8ba2-42c0330b6522"
      },
      "execution_count": null,
      "outputs": [
        {
          "output_type": "stream",
          "name": "stdout",
          "text": [
            "John\n",
            "25\n"
          ]
        },
        {
          "output_type": "execute_result",
          "data": {
            "text/plain": [
              "8"
            ]
          },
          "metadata": {},
          "execution_count": 11
        }
      ]
    },
    {
      "cell_type": "code",
      "source": [
        "# Data Types\n",
        "a = 10            # integer\n",
        "b = 2.5           # float\n",
        "c = \"Hello\"       # string\n",
        "d = True          # boolean"
      ],
      "metadata": {
        "id": "wjUod9xWdWPV"
      },
      "execution_count": null,
      "outputs": []
    },
    {
      "cell_type": "code",
      "source": [
        "# Arithmetic Operators\n",
        "x = 10\n",
        "y = 5\n",
        "print(x + y)      # 15\n",
        "print(x - y)      # 5\n",
        "print(x * y)      # 50\n",
        "print(x / y)      # 2.0\n",
        "print(x % y)      # 0\n",
        "print(x ** y)     # 100000"
      ],
      "metadata": {
        "colab": {
          "base_uri": "https://localhost:8080/"
        },
        "id": "F3zySNIsdvNG",
        "outputId": "383f81e6-bbee-4967-81b3-4ac92d9b509e"
      },
      "execution_count": null,
      "outputs": [
        {
          "output_type": "stream",
          "name": "stdout",
          "text": [
            "15\n",
            "5\n",
            "50\n",
            "2.0\n",
            "0\n",
            "100000\n"
          ]
        }
      ]
    },
    {
      "cell_type": "code",
      "source": [
        "# Comparison Operators\n",
        "a = 10\n",
        "b = 20\n",
        "print(a == b)     # False\n",
        "print(a != b)     # True\n",
        "print(a > b)      # False\n",
        "print(a < b)      # True\n",
        "print(a >= b)     # False\n",
        "print(a <= b)     # True\n",
        "\n",
        "# Logical Operators\n",
        "p = True\n",
        "q = False\n",
        "print(p and q)    # False\n",
        "print(p or q)     # True\n",
        "print(not p)      # False"
      ],
      "metadata": {
        "colab": {
          "base_uri": "https://localhost:8080/"
        },
        "id": "QwKKijOref31",
        "outputId": "94a7d1c0-5a2f-4b06-eb93-cb28fb9106be"
      },
      "execution_count": null,
      "outputs": [
        {
          "output_type": "stream",
          "name": "stdout",
          "text": [
            "False\n",
            "True\n",
            "False\n",
            "True\n",
            "False\n",
            "True\n",
            "False\n",
            "True\n",
            "False\n"
          ]
        }
      ]
    },
    {
      "cell_type": "code",
      "source": [
        "# If/Else Statements\n",
        "x = 10\n",
        "y = 5\n",
        "if x > y:\n",
        "    print(\"x is greater than y\")\n",
        "else:\n",
        "    print(\"y is greater than x\")\n",
        "\n",
        "# Loops\n",
        "for i in range(5):\n",
        "    print(i)\n",
        "\n",
        "# While Loop\n",
        "i = 0\n",
        "while i < 5:\n",
        "    print(i)\n",
        "    i += 1\n"
      ],
      "metadata": {
        "colab": {
          "base_uri": "https://localhost:8080/"
        },
        "id": "t3zoUK8ZfCx9",
        "outputId": "62021d4a-5aec-403a-f450-9aa28751e20c"
      },
      "execution_count": null,
      "outputs": [
        {
          "output_type": "stream",
          "name": "stdout",
          "text": [
            "x is greater than y\n",
            "0\n",
            "1\n",
            "2\n",
            "3\n",
            "4\n",
            "0\n",
            "1\n",
            "2\n",
            "3\n",
            "4\n"
          ]
        }
      ]
    },
    {
      "cell_type": "code",
      "source": [
        "# Creating a List\n",
        "my_list = [1, 2, 3, \"four\", 5.0]\n",
        "\n",
        "# Accessing Elements\n",
        "print(my_list[0])           # 1\n",
        "print(my_list[-1])          # 5.0\n",
        "print(my_list[2:4])         # [3, \"four\"]"
      ],
      "metadata": {
        "colab": {
          "base_uri": "https://localhost:8080/"
        },
        "id": "QihOct9Rfasu",
        "outputId": "13b54d50-e859-49bc-b450-62a201ed1cb1"
      },
      "execution_count": null,
      "outputs": [
        {
          "output_type": "stream",
          "name": "stdout",
          "text": [
            "1\n",
            "5.0\n",
            "[3, 'four']\n"
          ]
        }
      ]
    },
    {
      "cell_type": "code",
      "source": [
        "# Modifying Elements\n",
        "my_list[0] = 100\n",
        "print(my_list)              # [100, 2, 3, \"four\", 5.0]\n",
        "\n",
        "# Adding Elements\n",
        "my_list.append(\"six\")\n",
        "print(my_list)              # [100, 2, 3, \"four\", 5.0, \"six\"]\n",
        "\n",
        "# Removing Elements\n",
        "my_list.remove(2)\n",
        "print(my_list)              # [100, 3, \"four\", 5.0, \"six\"]"
      ],
      "metadata": {
        "colab": {
          "base_uri": "https://localhost:8080/"
        },
        "id": "v3ykd9f1pnRI",
        "outputId": "fc5239a2-6806-48dd-87d2-74bda423e290"
      },
      "execution_count": null,
      "outputs": [
        {
          "output_type": "stream",
          "name": "stdout",
          "text": [
            "[100, 2, 3, 'four', 5.0]\n",
            "[100, 2, 3, 'four', 5.0, 'six']\n",
            "[100, 3, 'four', 5.0, 'six']\n"
          ]
        }
      ]
    },
    {
      "cell_type": "code",
      "source": [
        "# Creating a Dictionary\n",
        "my_dict = {\"name\": \"John\", \"age\": 25, \"city\": \"New York\"}\n",
        "\n",
        "# Accessing Elements\n",
        "print(my_dict[\"name\"])      # John\n",
        "print(my_dict.get(\"age\"))   # 25\n",
        "print(my_dict.keys())      # [\"name\", \"age\", \"city\"]\n",
        "print(my_dict.values())    # [\"John\", 25, \"New York\"]\n",
        "\n",
        "# Modifying Elements\n",
        "my_dict[\"name\"] = \"Jane\"\n",
        "print(my_dict)             # {\"name\": \"Jane\", \"age\": 25, \"city\": \"New York\"}\n",
        "\n",
        "# Adding Elements\n",
        "my_dict[\"country\"] = \"USA\"\n",
        "print(my_dict)             # {\"name\": \"Jane\", \"age\": 25, \"city\": \"New York\", \"country\": \"USA\"}\n",
        "\n",
        "# Removing Elements\n",
        "my_dict.pop(\"age\")\n",
        "print(my_dict)             # {\"name\": \"Jane\", \"city\": \"New York\", \"country\": \"USA\"}\n"
      ],
      "metadata": {
        "colab": {
          "base_uri": "https://localhost:8080/"
        },
        "id": "q3fVzn1Mp0oF",
        "outputId": "8b7cd0cc-501b-46f0-834a-5337b2a1ee81"
      },
      "execution_count": null,
      "outputs": [
        {
          "output_type": "stream",
          "name": "stdout",
          "text": [
            "John\n",
            "25\n",
            "dict_keys(['name', 'age', 'city'])\n",
            "dict_values(['John', 25, 'New York'])\n",
            "{'name': 'Jane', 'age': 25, 'city': 'New York'}\n",
            "{'name': 'Jane', 'age': 25, 'city': 'New York', 'country': 'USA'}\n",
            "{'name': 'Jane', 'city': 'New York', 'country': 'USA'}\n"
          ]
        }
      ]
    },
    {
      "cell_type": "code",
      "source": [
        "# Creating a Function\n",
        "def greet(name):\n",
        "    print(\"Hello, \" + name + \"!\")\n",
        "\n",
        "# Calling a Function\n",
        "greet(\"John\")              # Hello, John!\n",
        "\n",
        "# Returning a Value\n",
        "def square(x):\n",
        "    return x ** 2\n",
        "\n",
        "result = square(5)\n",
        "print(result)              # 25\n",
        "\n",
        "# Default Parameters\n",
        "def repeat(message, times=2):\n",
        "    print(message * times)\n",
        "\n",
        "repeat(\"Hello\")            # HelloHello\n",
        "repeat(\"Hello\", 3)         # HelloHelloHello\n"
      ],
      "metadata": {
        "colab": {
          "base_uri": "https://localhost:8080/"
        },
        "id": "J6stRDDhqF7w",
        "outputId": "9eb049ad-4ffd-4462-e6c6-22ca8156f765"
      },
      "execution_count": null,
      "outputs": [
        {
          "output_type": "stream",
          "name": "stdout",
          "text": [
            "Hello, John!\n",
            "25\n",
            "HelloHello\n",
            "HelloHelloHello\n"
          ]
        }
      ]
    },
    {
      "cell_type": "code",
      "source": [
        "# Importing NumPy\n",
        "import numpy as np\n",
        "\n",
        "# Creating an Array\n",
        "my_array = np.array([1, 2, 3, 4, 5])\n",
        "\n",
        "# Performing Operations\n",
        "print(my_array * 2)         # [2 4 6 8 10]\n",
        "print(np.sin(my_array))     # [ 0.84147098  0.90929743  0.14112001 -0.7568025  -0.95892427]\n",
        "\n",
        "# Indexing and Slicing\n",
        "print(my_array[2])          # 3\n",
        "print(my_array[1:4])        # [2 3 4]\n"
      ],
      "metadata": {
        "colab": {
          "base_uri": "https://localhost:8080/"
        },
        "id": "f5CFvAbkqMmi",
        "outputId": "e6775d09-b1d8-4798-9508-3ff4ab27616c"
      },
      "execution_count": null,
      "outputs": [
        {
          "output_type": "stream",
          "name": "stdout",
          "text": [
            "[ 2  4  6  8 10]\n",
            "[ 0.84147098  0.90929743  0.14112001 -0.7568025  -0.95892427]\n",
            "3\n",
            "[2 3 4]\n"
          ]
        }
      ]
    },
    {
      "cell_type": "code",
      "source": [
        "# Importing Pandas\n",
        "import pandas as pd\n",
        "\n",
        "# Creating a DataFrame\n",
        "data = {\n",
        "    'Name': ['John', 'Jane', 'Mike', 'Emily'],\n",
        "    'Age': [25, 30, 35, 40],\n",
        "    'City': ['New York', 'Paris', 'London', 'Sydney']\n",
        "}\n",
        "\n",
        "df = pd.DataFrame(data)\n",
        "\n",
        "# Displaying Data\n",
        "print(df)\n",
        "\n",
        "# Selecting Data\n",
        "print(df['Name'])          # Selecting a column\n",
        "print(df.loc[1])           # Selecting a row by label\n",
        "print(df.iloc[2])          # Selecting a row by index\n",
        "\n",
        "# Filtering Data\n",
        "print(df[df['Age'] > 30])  # Selecting rows based on a condition\n"
      ],
      "metadata": {
        "colab": {
          "base_uri": "https://localhost:8080/"
        },
        "id": "aFRvWT5Pqf9n",
        "outputId": "6147443f-0966-4dce-87cd-bf4740b75a3a"
      },
      "execution_count": null,
      "outputs": [
        {
          "output_type": "stream",
          "name": "stdout",
          "text": [
            "    Name  Age      City\n",
            "0   John   25  New York\n",
            "1   Jane   30     Paris\n",
            "2   Mike   35    London\n",
            "3  Emily   40    Sydney\n",
            "0     John\n",
            "1     Jane\n",
            "2     Mike\n",
            "3    Emily\n",
            "Name: Name, dtype: object\n",
            "Name     Jane\n",
            "Age        30\n",
            "City    Paris\n",
            "Name: 1, dtype: object\n",
            "Name      Mike\n",
            "Age         35\n",
            "City    London\n",
            "Name: 2, dtype: object\n",
            "    Name  Age    City\n",
            "2   Mike   35  London\n",
            "3  Emily   40  Sydney\n"
          ]
        }
      ]
    },
    {
      "cell_type": "code",
      "source": [
        "import matplotlib.pyplot as plt\n",
        "import numpy as np\n",
        "\n",
        "# Create some data points\n",
        "x = np.linspace(0, 10, 100)\n",
        "y = np.sin(x)\n",
        "\n",
        "# Create a plot object\n",
        "plt.plot(x, y, label='sin(x)')\n",
        "\n",
        "# Customize the plot\n",
        "plt.title('Sine Function')\n",
        "plt.xlabel('x-axis')\n",
        "plt.ylabel('y-axis')\n",
        "plt.legend()\n",
        "\n",
        "# Show the plot\n",
        "plt.show()\n"
      ],
      "metadata": {
        "colab": {
          "base_uri": "https://localhost:8080/",
          "height": 295
        },
        "id": "rE0lit4Sq_BU",
        "outputId": "5743d099-0832-43fb-839d-d84ab2055b70"
      },
      "execution_count": null,
      "outputs": [
        {
          "output_type": "display_data",
          "data": {
            "text/plain": [
              "<Figure size 432x288 with 1 Axes>"
            ],
            "image/png": "[encoded data removed]"
          },
          "metadata": {
            "needs_background": "light"
          }
        }
      ]
    },
    {
      "cell_type": "code",
      "source": [
        "import matplotlib.pyplot as plt\n",
        "import numpy as np\n",
        "\n",
        "x = np.random.rand(50)\n",
        "y = np.random.rand(50)\n",
        "\n",
        "plt.scatter(x, y)\n",
        "plt.show()\n"
      ],
      "metadata": {
        "colab": {
          "base_uri": "https://localhost:8080/",
          "height": 265
        },
        "id": "b1JPD53eraNw",
        "outputId": "608a5d89-3273-4cdf-eb40-2b98333d2599"
      },
      "execution_count": null,
      "outputs": [
        {
          "output_type": "display_data",
          "data": {
            "text/plain": [
              "<Figure size 432x288 with 1 Axes>"
            ],
            "image/png": "[encoded data removed]"
          },
          "metadata": {
            "needs_background": "light"
          }
        }
      ]
    },
    {
      "cell_type": "code",
      "source": [
        "import matplotlib.pyplot as plt\n",
        "\n",
        "languages = ['Python', 'Java', 'C++', 'JavaScript', 'Ruby']\n",
        "users = [100, 70, 50, 30, 20]\n",
        "\n",
        "plt.bar(languages, users)\n",
        "plt.title('Programming Language Popularity')\n",
        "plt.xlabel('Languages')\n",
        "plt.ylabel('Number of Users')\n",
        "plt.show()\n"
      ],
      "metadata": {
        "colab": {
          "base_uri": "https://localhost:8080/",
          "height": 295
        },
        "id": "6f0vXxpGsG46",
        "outputId": "0ff1c6cf-bda3-4532-c47a-e4ebff48a9a8"
      },
      "execution_count": null,
      "outputs": [
        {
          "output_type": "display_data",
          "data": {
            "text/plain": [
              "<Figure size 432x288 with 1 Axes>"
            ],
            "image/png": "[encoded data removed]"
          },
          "metadata": {
            "needs_background": "light"
          }
        }
      ]
    },
    {
      "cell_type": "code",
      "source": [
        "import matplotlib.pyplot as plt\n",
        "import numpy as np\n",
        "\n",
        "data = np.random.randn(1000)\n",
        "\n",
        "plt.hist(data, bins=30)\n",
        "plt.title('Histogram of Random Data')\n",
        "plt.xlabel('Values')\n",
        "plt.ylabel('Frequency')\n",
        "plt.show()\n"
      ],
      "metadata": {
        "colab": {
          "base_uri": "https://localhost:8080/",
          "height": 295
        },
        "id": "1TeQC7AdsSi8",
        "outputId": "a1348b0c-ecaa-4c79-e1cc-d56eb9dadedc"
      },
      "execution_count": null,
      "outputs": [
        {
          "output_type": "display_data",
          "data": {
            "text/plain": [
              "<Figure size 432x288 with 1 Axes>"
            ],
            "image/png": "[encoded data removed]"
          },
          "metadata": {
            "needs_background": "light"
          }
        }
      ]
    },
    {
      "cell_type": "code",
      "source": [],
      "metadata": {
        "id": "hmC9EGalsdgh"
      },
      "execution_count": null,
      "outputs": []
    }
  ]
}