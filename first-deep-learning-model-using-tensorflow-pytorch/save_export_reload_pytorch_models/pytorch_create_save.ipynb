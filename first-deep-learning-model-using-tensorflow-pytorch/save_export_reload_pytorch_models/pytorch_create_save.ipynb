{
  "nbformat": 4,
  "nbformat_minor": 0,
  "metadata": {
    "colab": {
      "name": "pytorch_create_save.ipynb",
      "provenance": [],
      "collapsed_sections": []
    },
    "kernelspec": {
      "name": "python3",
      "display_name": "Python 3"
    }
  },
  "cells": [
    {
      "cell_type": "code",
      "metadata": {
        "id": "tSidl29aiT2W"
      },
      "source": [
        "import torch\n",
        "import torch.nn as nn\n",
        "from torch.nn import functional as F\n",
        "\n",
        "import pandas as pd\n",
        "import numpy as np"
      ],
      "execution_count": 1,
      "outputs": []
    },
    {
      "cell_type": "code",
      "metadata": {
        "id": "z1YFLFLgii4H"
      },
      "source": [
        "dataset = pd.read_csv('https://raw.githubusercontent.com/futurexskill/ml-model-deployment/main/storepurchasedata_large.csv')"
      ],
      "execution_count": 2,
      "outputs": []
    },
    {
      "cell_type": "code",
      "metadata": {
        "id": "hWHnGlrrinev",
        "outputId": "5de2d3e0-fdf1-450c-a628-189feb9132cc",
        "colab": {
          "base_uri": "https://localhost:8080/",
          "height": 295
        }
      },
      "source": [
        "dataset.describe()"
      ],
      "execution_count": 3,
      "outputs": [
        {
          "output_type": "execute_result",
          "data": {
            "text/html": [
              "<div>\n",
              "<style scoped>\n",
              "    .dataframe tbody tr th:only-of-type {\n",
              "        vertical-align: middle;\n",
              "    }\n",
              "\n",
              "    .dataframe tbody tr th {\n",
              "        vertical-align: top;\n",
              "    }\n",
              "\n",
              "    .dataframe thead th {\n",
              "        text-align: right;\n",
              "    }\n",
              "</style>\n",
              "<table border=\"1\" class=\"dataframe\">\n",
              "  <thead>\n",
              "    <tr style=\"text-align: right;\">\n",
              "      <th></th>\n",
              "      <th>Age</th>\n",
              "      <th>Salary</th>\n",
              "      <th>Purchased</th>\n",
              "    </tr>\n",
              "  </thead>\n",
              "  <tbody>\n",
              "    <tr>\n",
              "      <th>count</th>\n",
              "      <td>1554.000000</td>\n",
              "      <td>1554.000000</td>\n",
              "      <td>1554.000000</td>\n",
              "    </tr>\n",
              "    <tr>\n",
              "      <th>mean</th>\n",
              "      <td>44.296010</td>\n",
              "      <td>57042.471042</td>\n",
              "      <td>0.694981</td>\n",
              "    </tr>\n",
              "    <tr>\n",
              "      <th>std</th>\n",
              "      <td>17.462458</td>\n",
              "      <td>21209.244800</td>\n",
              "      <td>0.460564</td>\n",
              "    </tr>\n",
              "    <tr>\n",
              "      <th>min</th>\n",
              "      <td>18.000000</td>\n",
              "      <td>20000.000000</td>\n",
              "      <td>0.000000</td>\n",
              "    </tr>\n",
              "    <tr>\n",
              "      <th>25%</th>\n",
              "      <td>27.000000</td>\n",
              "      <td>46000.000000</td>\n",
              "      <td>0.000000</td>\n",
              "    </tr>\n",
              "    <tr>\n",
              "      <th>50%</th>\n",
              "      <td>43.000000</td>\n",
              "      <td>60000.000000</td>\n",
              "      <td>1.000000</td>\n",
              "    </tr>\n",
              "    <tr>\n",
              "      <th>75%</th>\n",
              "      <td>62.000000</td>\n",
              "      <td>66000.000000</td>\n",
              "      <td>1.000000</td>\n",
              "    </tr>\n",
              "    <tr>\n",
              "      <th>max</th>\n",
              "      <td>69.000000</td>\n",
              "      <td>96000.000000</td>\n",
              "      <td>1.000000</td>\n",
              "    </tr>\n",
              "  </tbody>\n",
              "</table>\n",
              "</div>"
            ],
            "text/plain": [
              "               Age        Salary    Purchased\n",
              "count  1554.000000   1554.000000  1554.000000\n",
              "mean     44.296010  57042.471042     0.694981\n",
              "std      17.462458  21209.244800     0.460564\n",
              "min      18.000000  20000.000000     0.000000\n",
              "25%      27.000000  46000.000000     0.000000\n",
              "50%      43.000000  60000.000000     1.000000\n",
              "75%      62.000000  66000.000000     1.000000\n",
              "max      69.000000  96000.000000     1.000000"
            ]
          },
          "metadata": {
            "tags": []
          },
          "execution_count": 3
        }
      ]
    },
    {
      "cell_type": "code",
      "metadata": {
        "id": "8wRc98iJirF6",
        "outputId": "ef4ec792-d3b1-41bd-a3ed-30a78dc5a89a",
        "colab": {
          "base_uri": "https://localhost:8080/",
          "height": 203
        }
      },
      "source": [
        "dataset.head()"
      ],
      "execution_count": 4,
      "outputs": [
        {
          "output_type": "execute_result",
          "data": {
            "text/html": [
              "<div>\n",
              "<style scoped>\n",
              "    .dataframe tbody tr th:only-of-type {\n",
              "        vertical-align: middle;\n",
              "    }\n",
              "\n",
              "    .dataframe tbody tr th {\n",
              "        vertical-align: top;\n",
              "    }\n",
              "\n",
              "    .dataframe thead th {\n",
              "        text-align: right;\n",
              "    }\n",
              "</style>\n",
              "<table border=\"1\" class=\"dataframe\">\n",
              "  <thead>\n",
              "    <tr style=\"text-align: right;\">\n",
              "      <th></th>\n",
              "      <th>Age</th>\n",
              "      <th>Salary</th>\n",
              "      <th>Purchased</th>\n",
              "    </tr>\n",
              "  </thead>\n",
              "  <tbody>\n",
              "    <tr>\n",
              "      <th>0</th>\n",
              "      <td>18</td>\n",
              "      <td>20000</td>\n",
              "      <td>0</td>\n",
              "    </tr>\n",
              "    <tr>\n",
              "      <th>1</th>\n",
              "      <td>19</td>\n",
              "      <td>22000</td>\n",
              "      <td>0</td>\n",
              "    </tr>\n",
              "    <tr>\n",
              "      <th>2</th>\n",
              "      <td>20</td>\n",
              "      <td>24000</td>\n",
              "      <td>0</td>\n",
              "    </tr>\n",
              "    <tr>\n",
              "      <th>3</th>\n",
              "      <td>21</td>\n",
              "      <td>28000</td>\n",
              "      <td>0</td>\n",
              "    </tr>\n",
              "    <tr>\n",
              "      <th>4</th>\n",
              "      <td>22</td>\n",
              "      <td>60000</td>\n",
              "      <td>1</td>\n",
              "    </tr>\n",
              "  </tbody>\n",
              "</table>\n",
              "</div>"
            ],
            "text/plain": [
              "   Age  Salary  Purchased\n",
              "0   18   20000          0\n",
              "1   19   22000          0\n",
              "2   20   24000          0\n",
              "3   21   28000          0\n",
              "4   22   60000          1"
            ]
          },
          "metadata": {
            "tags": []
          },
          "execution_count": 4
        }
      ]
    },
    {
      "cell_type": "code",
      "metadata": {
        "id": "lGW-UkoEiu1k"
      },
      "source": [
        "X = dataset.iloc[:, :-1].values\n",
        "y = dataset.iloc[:,-1].values"
      ],
      "execution_count": 5,
      "outputs": []
    },
    {
      "cell_type": "code",
      "metadata": {
        "id": "WwqBbDl-izXb"
      },
      "source": [
        "from sklearn.model_selection import train_test_split\n",
        "X_train, X_test, y_train, y_test = train_test_split(X, y, test_size =.20,random_state=0)"
      ],
      "execution_count": 6,
      "outputs": []
    },
    {
      "cell_type": "code",
      "metadata": {
        "id": "tt_zXndVi9s7"
      },
      "source": [
        "from sklearn.preprocessing import StandardScaler\n",
        "sc = StandardScaler()\n",
        "X_train = sc.fit_transform(X_train)\n",
        "X_test = sc.transform(X_test)"
      ],
      "execution_count": 7,
      "outputs": []
    },
    {
      "cell_type": "code",
      "metadata": {
        "id": "nUPzbcxnjCdW"
      },
      "source": [
        "Xtrain_ = torch.from_numpy(X_train).float()\n",
        "Xtest_ = torch.from_numpy(X_test).float()"
      ],
      "execution_count": 8,
      "outputs": []
    },
    {
      "cell_type": "code",
      "metadata": {
        "id": "DchzoXyEjNzU",
        "outputId": "086ac078-16ab-49f5-f37d-31feb417b7f0",
        "colab": {
          "base_uri": "https://localhost:8080/"
        }
      },
      "source": [
        "Xtrain_"
      ],
      "execution_count": 9,
      "outputs": [
        {
          "output_type": "execute_result",
          "data": {
            "text/plain": [
              "tensor([[-0.0935,  0.2215],\n",
              "        [ 1.2217, -0.5342],\n",
              "        [-1.0655,  0.4104],\n",
              "        ...,\n",
              "        [ 1.2789,  0.4104],\n",
              "        [-0.9512,  0.2215],\n",
              "        [-1.2943, -1.4316]])"
            ]
          },
          "metadata": {
            "tags": []
          },
          "execution_count": 9
        }
      ]
    },
    {
      "cell_type": "code",
      "metadata": {
        "id": "EX0_BrxojP7k"
      },
      "source": [
        "ytrain_ = torch.from_numpy(y_train)\n",
        "ytest_ = torch.from_numpy(y_test)"
      ],
      "execution_count": 10,
      "outputs": []
    },
    {
      "cell_type": "code",
      "metadata": {
        "id": "zzOAG9QQjU1e",
        "outputId": "21b2a480-0228-4f17-dab8-0349a90ab446",
        "colab": {
          "base_uri": "https://localhost:8080/"
        }
      },
      "source": [
        "ytrain_"
      ],
      "execution_count": 11,
      "outputs": [
        {
          "output_type": "execute_result",
          "data": {
            "text/plain": [
              "tensor([1, 1, 1,  ..., 1, 1, 0])"
            ]
          },
          "metadata": {
            "tags": []
          },
          "execution_count": 11
        }
      ]
    },
    {
      "cell_type": "code",
      "metadata": {
        "id": "TTw284qajWim",
        "outputId": "9d74ad9b-1b57-4a77-8829-c28ffe76c978",
        "colab": {
          "base_uri": "https://localhost:8080/"
        }
      },
      "source": [
        "Xtrain_.shape, ytrain_.shape"
      ],
      "execution_count": 12,
      "outputs": [
        {
          "output_type": "execute_result",
          "data": {
            "text/plain": [
              "(torch.Size([1243, 2]), torch.Size([1243]))"
            ]
          },
          "metadata": {
            "tags": []
          },
          "execution_count": 12
        }
      ]
    },
    {
      "cell_type": "code",
      "metadata": {
        "id": "ZD4SHx5ujaS-",
        "outputId": "10246eea-e95e-4af1-ccb5-d3b3350e3d74",
        "colab": {
          "base_uri": "https://localhost:8080/"
        }
      },
      "source": [
        "Xtest_.shape, ytest_.shape"
      ],
      "execution_count": 13,
      "outputs": [
        {
          "output_type": "execute_result",
          "data": {
            "text/plain": [
              "(torch.Size([311, 2]), torch.Size([311]))"
            ]
          },
          "metadata": {
            "tags": []
          },
          "execution_count": 13
        }
      ]
    },
    {
      "cell_type": "code",
      "metadata": {
        "id": "vrLRbXL0jeJp"
      },
      "source": [
        "input_size=2\n",
        "output_size=2\n",
        "hidden_size=10"
      ],
      "execution_count": 14,
      "outputs": []
    },
    {
      "cell_type": "code",
      "metadata": {
        "id": "sHLzhDGQj1IU"
      },
      "source": [
        "class Net(nn.Module):\n",
        "   def __init__(self):\n",
        "       super(Net, self).__init__()\n",
        "       self.fc1 = torch.nn.Linear(input_size, hidden_size)\n",
        "       self.fc2 = torch.nn.Linear(hidden_size, hidden_size)\n",
        "       self.fc3 = torch.nn.Linear(hidden_size, output_size)\n",
        "\n",
        "\n",
        "   def forward(self, X):\n",
        "       X = torch.relu((self.fc1(X)))\n",
        "       X = torch.relu((self.fc2(X)))\n",
        "       X = self.fc3(X)\n",
        "\n",
        "       return F.log_softmax(X,dim=1)"
      ],
      "execution_count": 15,
      "outputs": []
    },
    {
      "cell_type": "code",
      "metadata": {
        "id": "BmtsSyOakHMi"
      },
      "source": [
        "model = Net()\n",
        "\n"
      ],
      "execution_count": 16,
      "outputs": []
    },
    {
      "cell_type": "code",
      "metadata": {
        "id": "Y1hD_xJakMWR"
      },
      "source": [
        "import torch.optim as optim\n",
        "optimizer = torch.optim.Adam(model.parameters(), lr=0.01)\n",
        "loss_fn = nn.NLLLoss()"
      ],
      "execution_count": 17,
      "outputs": []
    },
    {
      "cell_type": "code",
      "metadata": {
        "id": "4dUAOz5SkVwc"
      },
      "source": [
        "epochs = 100\n"
      ],
      "execution_count": 18,
      "outputs": []
    },
    {
      "cell_type": "code",
      "metadata": {
        "id": "n7A3HMbbkZ6s",
        "outputId": "4cfeca58-1727-4701-e08f-cf4a85d81965",
        "colab": {
          "base_uri": "https://localhost:8080/"
        }
      },
      "source": [
        "for epoch in range(epochs):\n",
        "  optimizer.zero_grad()\n",
        "  Ypred = model(Xtrain_)\n",
        "  loss = loss_fn(Ypred,  ytrain_)\n",
        "  loss.backward()\n",
        "  optimizer.step()\n",
        "  print('Epoch',epoch, 'loss',loss.item())"
      ],
      "execution_count": 19,
      "outputs": [
        {
          "output_type": "stream",
          "text": [
            "Epoch 0 loss 0.7977757453918457\n",
            "Epoch 1 loss 0.7583175897598267\n",
            "Epoch 2 loss 0.7241986393928528\n",
            "Epoch 3 loss 0.6962988972663879\n",
            "Epoch 4 loss 0.67305988073349\n",
            "Epoch 5 loss 0.6516295671463013\n",
            "Epoch 6 loss 0.6316030621528625\n",
            "Epoch 7 loss 0.612375020980835\n",
            "Epoch 8 loss 0.5939561128616333\n",
            "Epoch 9 loss 0.5765038728713989\n",
            "Epoch 10 loss 0.558681070804596\n",
            "Epoch 11 loss 0.5401478409767151\n",
            "Epoch 12 loss 0.5201534628868103\n",
            "Epoch 13 loss 0.49849650263786316\n",
            "Epoch 14 loss 0.4755703806877136\n",
            "Epoch 15 loss 0.45163261890411377\n",
            "Epoch 16 loss 0.42660951614379883\n",
            "Epoch 17 loss 0.4015096127986908\n",
            "Epoch 18 loss 0.37676313519477844\n",
            "Epoch 19 loss 0.3525939881801605\n",
            "Epoch 20 loss 0.3294699192047119\n",
            "Epoch 21 loss 0.30786263942718506\n",
            "Epoch 22 loss 0.28793075680732727\n",
            "Epoch 23 loss 0.26976385712623596\n",
            "Epoch 24 loss 0.25348860025405884\n",
            "Epoch 25 loss 0.23911052942276\n",
            "Epoch 26 loss 0.2264137864112854\n",
            "Epoch 27 loss 0.21513520181179047\n",
            "Epoch 28 loss 0.20509260892868042\n",
            "Epoch 29 loss 0.19615420699119568\n",
            "Epoch 30 loss 0.18827208876609802\n",
            "Epoch 31 loss 0.1813323199748993\n",
            "Epoch 32 loss 0.1753220558166504\n",
            "Epoch 33 loss 0.17016151547431946\n",
            "Epoch 34 loss 0.16584745049476624\n",
            "Epoch 35 loss 0.16228263080120087\n",
            "Epoch 36 loss 0.15924321115016937\n",
            "Epoch 37 loss 0.15635281801223755\n",
            "Epoch 38 loss 0.15359140932559967\n",
            "Epoch 39 loss 0.15091942250728607\n",
            "Epoch 40 loss 0.14826622605323792\n",
            "Epoch 41 loss 0.1457376927137375\n",
            "Epoch 42 loss 0.1433759480714798\n",
            "Epoch 43 loss 0.14122220873832703\n",
            "Epoch 44 loss 0.13938486576080322\n",
            "Epoch 45 loss 0.13770222663879395\n",
            "Epoch 46 loss 0.1361922174692154\n",
            "Epoch 47 loss 0.13487489521503448\n",
            "Epoch 48 loss 0.13357609510421753\n",
            "Epoch 49 loss 0.13232950866222382\n",
            "Epoch 50 loss 0.13116808235645294\n",
            "Epoch 51 loss 0.13012577593326569\n",
            "Epoch 52 loss 0.1291908472776413\n",
            "Epoch 53 loss 0.12834912538528442\n",
            "Epoch 54 loss 0.12754389643669128\n",
            "Epoch 55 loss 0.12672625482082367\n",
            "Epoch 56 loss 0.12589411437511444\n",
            "Epoch 57 loss 0.12507522106170654\n",
            "Epoch 58 loss 0.12431195378303528\n",
            "Epoch 59 loss 0.12361118942499161\n",
            "Epoch 60 loss 0.12295890599489212\n",
            "Epoch 61 loss 0.12233101576566696\n",
            "Epoch 62 loss 0.12171156704425812\n",
            "Epoch 63 loss 0.12109917402267456\n",
            "Epoch 64 loss 0.120501309633255\n",
            "Epoch 65 loss 0.11992918699979782\n",
            "Epoch 66 loss 0.1193915382027626\n",
            "Epoch 67 loss 0.11889925599098206\n",
            "Epoch 68 loss 0.11843352764844894\n",
            "Epoch 69 loss 0.11797743290662766\n",
            "Epoch 70 loss 0.11752569675445557\n",
            "Epoch 71 loss 0.11708374321460724\n",
            "Epoch 72 loss 0.11665677279233932\n",
            "Epoch 73 loss 0.11624398082494736\n",
            "Epoch 74 loss 0.11589460074901581\n",
            "Epoch 75 loss 0.11554955691099167\n",
            "Epoch 76 loss 0.11516786366701126\n",
            "Epoch 77 loss 0.11494939029216766\n",
            "Epoch 78 loss 0.11481234431266785\n",
            "Epoch 79 loss 0.11466983705759048\n",
            "Epoch 80 loss 0.11452197283506393\n",
            "Epoch 81 loss 0.11436285823583603\n",
            "Epoch 82 loss 0.11417341977357864\n",
            "Epoch 83 loss 0.11397068202495575\n",
            "Epoch 84 loss 0.1137646734714508\n",
            "Epoch 85 loss 0.1135675460100174\n",
            "Epoch 86 loss 0.11340352892875671\n",
            "Epoch 87 loss 0.11322791129350662\n",
            "Epoch 88 loss 0.11303813010454178\n",
            "Epoch 89 loss 0.11301273107528687\n",
            "Epoch 90 loss 0.11295267939567566\n",
            "Epoch 91 loss 0.11285849660634995\n",
            "Epoch 92 loss 0.11274495720863342\n",
            "Epoch 93 loss 0.11262311786413193\n",
            "Epoch 94 loss 0.11249175667762756\n",
            "Epoch 95 loss 0.11234864592552185\n",
            "Epoch 96 loss 0.11221929639577866\n",
            "Epoch 97 loss 0.11207745969295502\n",
            "Epoch 98 loss 0.11190856993198395\n",
            "Epoch 99 loss 0.11179067939519882\n"
          ],
          "name": "stdout"
        }
      ]
    },
    {
      "cell_type": "code",
      "metadata": {
        "id": "8tCbFPQekqD7",
        "outputId": "eebfcbba-992a-48da-964e-5df7a9581424",
        "colab": {
          "base_uri": "https://localhost:8080/"
        }
      },
      "source": [
        "list(model.parameters())"
      ],
      "execution_count": 20,
      "outputs": [
        {
          "output_type": "execute_result",
          "data": {
            "text/plain": [
              "[Parameter containing:\n",
              " tensor([[-3.8818e-04, -8.0533e-03],\n",
              "         [ 1.4851e-01, -4.0265e-03],\n",
              "         [-8.0533e-02, -1.1202e+00],\n",
              "         [ 1.1377e+00, -1.4474e-01],\n",
              "         [ 3.7951e-01,  3.5863e-01],\n",
              "         [ 3.2903e-01,  8.3079e-01],\n",
              "         [-1.2451e+00,  2.6485e-03],\n",
              "         [ 4.9578e-01,  2.7482e-01],\n",
              "         [-5.7161e-01, -9.1517e-01],\n",
              "         [-5.3357e-01, -8.6224e-01]], requires_grad=True),\n",
              " Parameter containing:\n",
              " tensor([ 0.6489, -0.4428,  0.3464,  0.0952,  0.0265,  0.3300,  0.9591,  0.7827,\n",
              "          0.1555, -0.0011], requires_grad=True),\n",
              " Parameter containing:\n",
              " tensor([[ 1.1917e-01,  2.6128e-02,  3.2271e-01,  7.4611e-01,  9.6748e-02,\n",
              "           1.9217e-01, -6.9655e-01,  4.6731e-01, -4.0125e-01,  1.1068e-01],\n",
              "         [-2.4070e-01, -1.7209e-01, -4.5660e-02, -6.7476e-02, -1.1687e-01,\n",
              "          -3.0379e-01, -4.1392e-02,  1.1405e-01, -1.7160e-01,  1.2158e-01],\n",
              "         [-1.7269e-01, -7.9161e-03,  3.1154e-01, -1.7067e-01, -1.9979e-01,\n",
              "          -7.2368e-02,  1.3492e-01, -2.5515e-01,  2.3710e-01,  3.7978e-01],\n",
              "         [ 2.0090e-01, -1.9970e-01,  3.4527e-01,  4.6873e-01,  2.1148e-01,\n",
              "           5.5690e-01, -7.6992e-01,  4.7374e-01, -3.6055e-01, -1.7336e-01],\n",
              "         [ 2.5680e-01,  1.7664e-01,  3.7627e-01, -1.3114e+00, -4.1504e-01,\n",
              "          -6.6218e-01,  3.2473e-01, -4.2694e-01,  3.7965e-01,  5.8715e-01],\n",
              "         [ 4.7465e-01, -1.8860e-01, -8.4405e-01,  2.2885e-01,  1.7143e-01,\n",
              "           1.0501e-01,  5.4007e-01,  3.3772e-01, -6.2130e-01, -1.1305e-01],\n",
              "         [ 1.1425e-01, -2.0660e-01,  2.4887e-01, -1.7463e-01, -1.7079e-01,\n",
              "          -2.4442e-01,  3.7751e-01,  4.1013e-02,  3.1528e-01,  3.3878e-01],\n",
              "         [ 2.5322e-01,  1.9287e-01, -4.7353e-01,  5.6580e-01,  1.3520e-01,\n",
              "           1.1556e-01,  5.0494e-01,  1.8237e-01, -5.3030e-01, -4.4836e-01],\n",
              "         [ 1.4683e-01,  1.6411e-02, -2.4847e-01,  1.9747e-01, -3.3268e-01,\n",
              "           5.6104e-04, -2.2478e-01, -2.3798e-01,  7.3824e-02,  2.8680e-02],\n",
              "         [-3.2130e-01, -3.9151e-02,  1.6696e-01, -2.7139e-01, -2.8200e-01,\n",
              "           2.3041e-03, -1.7876e-01, -3.2771e-01, -1.7152e-01,  1.4832e-01]],\n",
              "        requires_grad=True),\n",
              " Parameter containing:\n",
              " tensor([ 0.3797, -0.0241,  0.1818,  0.5290,  0.0199,  0.2980, -0.1779,  0.4993,\n",
              "         -0.1744, -0.0981], requires_grad=True),\n",
              " Parameter containing:\n",
              " tensor([[-0.3323,  0.2206,  0.2364, -0.4935,  0.7347, -0.7264,  0.1723, -0.8018,\n",
              "           0.1084, -0.2188],\n",
              "         [ 0.4361, -0.1113, -0.2989,  0.7925, -0.4107,  0.7238, -0.2587,  0.6716,\n",
              "          -0.0700, -0.0161]], requires_grad=True),\n",
              " Parameter containing:\n",
              " tensor([-0.3075,  0.2041], requires_grad=True)]"
            ]
          },
          "metadata": {
            "tags": []
          },
          "execution_count": 20
        }
      ]
    },
    {
      "cell_type": "code",
      "metadata": {
        "id": "HbTrVKqSkx7d",
        "outputId": "9da1fe6a-f8b6-47a5-d6ae-7ccb2d8a6beb",
        "colab": {
          "base_uri": "https://localhost:8080/"
        }
      },
      "source": [
        "torch.from_numpy(sc.transform(np.array([[40,20000]]))).float()"
      ],
      "execution_count": 21,
      "outputs": [
        {
          "output_type": "execute_result",
          "data": {
            "text/plain": [
              "tensor([[-0.2650, -1.7622]])"
            ]
          },
          "metadata": {
            "tags": []
          },
          "execution_count": 21
        }
      ]
    },
    {
      "cell_type": "code",
      "metadata": {
        "id": "G5uCfbcjk8Ul",
        "outputId": "6a7f2d88-4fd7-4553-e6d9-a670557e066d",
        "colab": {
          "base_uri": "https://localhost:8080/"
        }
      },
      "source": [
        "y_cust_20_40000 = model(torch.from_numpy(sc.transform(np.array([[40,20000]]))).float())\n",
        "y_cust_20_40000"
      ],
      "execution_count": 22,
      "outputs": [
        {
          "output_type": "execute_result",
          "data": {
            "text/plain": [
              "tensor([[-0.0068, -4.9884]], grad_fn=<LogSoftmaxBackward>)"
            ]
          },
          "metadata": {
            "tags": []
          },
          "execution_count": 22
        }
      ]
    },
    {
      "cell_type": "code",
      "metadata": {
        "id": "ai8UmN6elEws",
        "outputId": "08fb3dba-2b2b-4b82-dc69-e8cc27b4ad2b",
        "colab": {
          "base_uri": "https://localhost:8080/"
        }
      },
      "source": [
        "_, predicted_20_40000 = torch.max(y_cust_20_40000.data,-1)\n",
        "predicted_20_40000"
      ],
      "execution_count": 23,
      "outputs": [
        {
          "output_type": "execute_result",
          "data": {
            "text/plain": [
              "tensor([0])"
            ]
          },
          "metadata": {
            "tags": []
          },
          "execution_count": 23
        }
      ]
    },
    {
      "cell_type": "code",
      "metadata": {
        "id": "V4EcicUzlNLL",
        "outputId": "6dfca378-cf57-45a1-ac5e-c07044fb5fa8",
        "colab": {
          "base_uri": "https://localhost:8080/"
        }
      },
      "source": [
        "y_cust_42_50000 = model(torch.from_numpy(sc.transform(np.array([[42,50000]]))).float())\n",
        "y_cust_42_50000"
      ],
      "execution_count": 24,
      "outputs": [
        {
          "output_type": "execute_result",
          "data": {
            "text/plain": [
              "tensor([[-0.7735, -0.6188]], grad_fn=<LogSoftmaxBackward>)"
            ]
          },
          "metadata": {
            "tags": []
          },
          "execution_count": 24
        }
      ]
    },
    {
      "cell_type": "code",
      "metadata": {
        "id": "BsCTqgcUlSMj",
        "outputId": "bbe972cf-1b18-4b15-f667-d83041fbd4e5",
        "colab": {
          "base_uri": "https://localhost:8080/"
        }
      },
      "source": [
        "_, predicted_42_50000 = torch.max(y_cust_42_50000.data,-1)\n",
        "predicted_42_50000"
      ],
      "execution_count": 25,
      "outputs": [
        {
          "output_type": "execute_result",
          "data": {
            "text/plain": [
              "tensor([1])"
            ]
          },
          "metadata": {
            "tags": []
          },
          "execution_count": 25
        }
      ]
    },
    {
      "cell_type": "code",
      "metadata": {
        "id": "VwpCd3vRlXWk"
      },
      "source": [
        "torch.save(model,'customer_buy.pt')"
      ],
      "execution_count": 26,
      "outputs": []
    },
    {
      "cell_type": "code",
      "metadata": {
        "id": "wcrKfl8kljs2",
        "outputId": "ab0e08d5-e904-4eea-dab2-aba40dfb066e",
        "colab": {
          "base_uri": "https://localhost:8080/"
        }
      },
      "source": [
        "!ls"
      ],
      "execution_count": 27,
      "outputs": [
        {
          "output_type": "stream",
          "text": [
            "customer_buy.pt  sample_data\n"
          ],
          "name": "stdout"
        }
      ]
    },
    {
      "cell_type": "code",
      "metadata": {
        "id": "VwbReEK7lnmQ"
      },
      "source": [
        "restored_model = torch.load('customer_buy.pt')"
      ],
      "execution_count": 28,
      "outputs": []
    },
    {
      "cell_type": "code",
      "metadata": {
        "id": "5j_iiPwVlsVm",
        "outputId": "38368a8f-dd90-4ed4-cd0d-96d48fbb3596",
        "colab": {
          "base_uri": "https://localhost:8080/"
        }
      },
      "source": [
        "y_cust_20_40000 = restored_model(torch.from_numpy(sc.transform(np.array([[40,20000]]))).float())\n",
        "y_cust_20_40000"
      ],
      "execution_count": 29,
      "outputs": [
        {
          "output_type": "execute_result",
          "data": {
            "text/plain": [
              "tensor([[-0.0068, -4.9884]], grad_fn=<LogSoftmaxBackward>)"
            ]
          },
          "metadata": {
            "tags": []
          },
          "execution_count": 29
        }
      ]
    },
    {
      "cell_type": "code",
      "metadata": {
        "id": "JWDR8djBlv5P",
        "outputId": "5d0a7a82-dfbf-47a2-8f37-5365bdc44e95",
        "colab": {
          "base_uri": "https://localhost:8080/"
        }
      },
      "source": [
        "_, predicted_20_40000 = torch.max(y_cust_20_40000.data,-1)\n",
        "predicted_20_40000"
      ],
      "execution_count": 30,
      "outputs": [
        {
          "output_type": "execute_result",
          "data": {
            "text/plain": [
              "tensor([0])"
            ]
          },
          "metadata": {
            "tags": []
          },
          "execution_count": 30
        }
      ]
    },
    {
      "cell_type": "code",
      "metadata": {
        "id": "ikQlQwQtl1o1",
        "outputId": "edef9f43-6b40-439a-956d-875b72aeb882",
        "colab": {
          "base_uri": "https://localhost:8080/"
        }
      },
      "source": [
        "model.state_dict()"
      ],
      "execution_count": 31,
      "outputs": [
        {
          "output_type": "execute_result",
          "data": {
            "text/plain": [
              "OrderedDict([('fc1.weight', tensor([[-3.8818e-04, -8.0533e-03],\n",
              "                      [ 1.4851e-01, -4.0265e-03],\n",
              "                      [-8.0533e-02, -1.1202e+00],\n",
              "                      [ 1.1377e+00, -1.4474e-01],\n",
              "                      [ 3.7951e-01,  3.5863e-01],\n",
              "                      [ 3.2903e-01,  8.3079e-01],\n",
              "                      [-1.2451e+00,  2.6485e-03],\n",
              "                      [ 4.9578e-01,  2.7482e-01],\n",
              "                      [-5.7161e-01, -9.1517e-01],\n",
              "                      [-5.3357e-01, -8.6224e-01]])),\n",
              "             ('fc1.bias',\n",
              "              tensor([ 0.6489, -0.4428,  0.3464,  0.0952,  0.0265,  0.3300,  0.9591,  0.7827,\n",
              "                       0.1555, -0.0011])),\n",
              "             ('fc2.weight',\n",
              "              tensor([[ 1.1917e-01,  2.6128e-02,  3.2271e-01,  7.4611e-01,  9.6748e-02,\n",
              "                        1.9217e-01, -6.9655e-01,  4.6731e-01, -4.0125e-01,  1.1068e-01],\n",
              "                      [-2.4070e-01, -1.7209e-01, -4.5660e-02, -6.7476e-02, -1.1687e-01,\n",
              "                       -3.0379e-01, -4.1392e-02,  1.1405e-01, -1.7160e-01,  1.2158e-01],\n",
              "                      [-1.7269e-01, -7.9161e-03,  3.1154e-01, -1.7067e-01, -1.9979e-01,\n",
              "                       -7.2368e-02,  1.3492e-01, -2.5515e-01,  2.3710e-01,  3.7978e-01],\n",
              "                      [ 2.0090e-01, -1.9970e-01,  3.4527e-01,  4.6873e-01,  2.1148e-01,\n",
              "                        5.5690e-01, -7.6992e-01,  4.7374e-01, -3.6055e-01, -1.7336e-01],\n",
              "                      [ 2.5680e-01,  1.7664e-01,  3.7627e-01, -1.3114e+00, -4.1504e-01,\n",
              "                       -6.6218e-01,  3.2473e-01, -4.2694e-01,  3.7965e-01,  5.8715e-01],\n",
              "                      [ 4.7465e-01, -1.8860e-01, -8.4405e-01,  2.2885e-01,  1.7143e-01,\n",
              "                        1.0501e-01,  5.4007e-01,  3.3772e-01, -6.2130e-01, -1.1305e-01],\n",
              "                      [ 1.1425e-01, -2.0660e-01,  2.4887e-01, -1.7463e-01, -1.7079e-01,\n",
              "                       -2.4442e-01,  3.7751e-01,  4.1013e-02,  3.1528e-01,  3.3878e-01],\n",
              "                      [ 2.5322e-01,  1.9287e-01, -4.7353e-01,  5.6580e-01,  1.3520e-01,\n",
              "                        1.1556e-01,  5.0494e-01,  1.8237e-01, -5.3030e-01, -4.4836e-01],\n",
              "                      [ 1.4683e-01,  1.6411e-02, -2.4847e-01,  1.9747e-01, -3.3268e-01,\n",
              "                        5.6104e-04, -2.2478e-01, -2.3798e-01,  7.3824e-02,  2.8680e-02],\n",
              "                      [-3.2130e-01, -3.9151e-02,  1.6696e-01, -2.7139e-01, -2.8200e-01,\n",
              "                        2.3041e-03, -1.7876e-01, -3.2771e-01, -1.7152e-01,  1.4832e-01]])),\n",
              "             ('fc2.bias',\n",
              "              tensor([ 0.3797, -0.0241,  0.1818,  0.5290,  0.0199,  0.2980, -0.1779,  0.4993,\n",
              "                      -0.1744, -0.0981])),\n",
              "             ('fc3.weight',\n",
              "              tensor([[-0.3323,  0.2206,  0.2364, -0.4935,  0.7347, -0.7264,  0.1723, -0.8018,\n",
              "                        0.1084, -0.2188],\n",
              "                      [ 0.4361, -0.1113, -0.2989,  0.7925, -0.4107,  0.7238, -0.2587,  0.6716,\n",
              "                       -0.0700, -0.0161]])),\n",
              "             ('fc3.bias', tensor([-0.3075,  0.2041]))])"
            ]
          },
          "metadata": {
            "tags": []
          },
          "execution_count": 31
        }
      ]
    },
    {
      "cell_type": "code",
      "metadata": {
        "id": "t8XHBuj3mAXx"
      },
      "source": [
        "torch.save(model.state_dict(),'customer_buy_state_dict')"
      ],
      "execution_count": 32,
      "outputs": []
    },
    {
      "cell_type": "code",
      "metadata": {
        "id": "dhKlDAtLmPZG",
        "outputId": "ae98e01a-793d-4e7e-9a80-3e948225faee",
        "colab": {
          "base_uri": "https://localhost:8080/"
        }
      },
      "source": [
        "!ls"
      ],
      "execution_count": 33,
      "outputs": [
        {
          "output_type": "stream",
          "text": [
            "customer_buy.pt  customer_buy_state_dict  sample_data\n"
          ],
          "name": "stdout"
        }
      ]
    },
    {
      "cell_type": "code",
      "metadata": {
        "id": "RWrbBfLlma-j"
      },
      "source": [
        "new_predictor = Net()"
      ],
      "execution_count": 35,
      "outputs": []
    },
    {
      "cell_type": "code",
      "metadata": {
        "id": "6c29JI0AmfSc",
        "outputId": "3c0ada18-1770-4d20-fad3-8ec7bb7b9d95",
        "colab": {
          "base_uri": "https://localhost:8080/"
        }
      },
      "source": [
        "y_cust_20_40000 = new_predictor(torch.from_numpy(sc.transform(np.array([[40,20000]]))).float())\n",
        "y_cust_20_40000"
      ],
      "execution_count": 36,
      "outputs": [
        {
          "output_type": "execute_result",
          "data": {
            "text/plain": [
              "tensor([[-0.6662, -0.7208]], grad_fn=<LogSoftmaxBackward>)"
            ]
          },
          "metadata": {
            "tags": []
          },
          "execution_count": 36
        }
      ]
    },
    {
      "cell_type": "code",
      "metadata": {
        "id": "IXghzRixmTfR",
        "outputId": "f6e66840-527b-42db-90fc-72ca14d7bd1c",
        "colab": {
          "base_uri": "https://localhost:8080/"
        }
      },
      "source": [
        "!zip -r customer_buy_state_dict.zip customer_buy_state_dict"
      ],
      "execution_count": 34,
      "outputs": [
        {
          "output_type": "stream",
          "text": [
            "  adding: customer_buy_state_dict (deflated 47%)\n"
          ],
          "name": "stdout"
        }
      ]
    },
    {
      "cell_type": "code",
      "metadata": {
        "id": "Pjeh8t5pmZMv",
        "outputId": "82b7a29f-63f5-4a04-cf88-f7e87f97069b",
        "colab": {
          "base_uri": "https://localhost:8080/"
        }
      },
      "source": [
        "!ls"
      ],
      "execution_count": 37,
      "outputs": [
        {
          "output_type": "stream",
          "text": [
            "customer_buy.pt\t\t customer_buy_state_dict.zip\n",
            "customer_buy_state_dict  sample_data\n"
          ],
          "name": "stdout"
        }
      ]
    },
    {
      "cell_type": "code",
      "metadata": {
        "id": "UlPL_x6QmlRI"
      },
      "source": [
        "from google.colab import files\n"
      ],
      "execution_count": 38,
      "outputs": []
    },
    {
      "cell_type": "code",
      "metadata": {
        "id": "Aukqgbnqmpjm",
        "outputId": "f40b8b7f-654b-4860-eae6-6cee2326f8c7",
        "colab": {
          "base_uri": "https://localhost:8080/",
          "height": 17
        }
      },
      "source": [
        "files.download('customer_buy_state_dict.zip')"
      ],
      "execution_count": 39,
      "outputs": [
        {
          "output_type": "display_data",
          "data": {
            "application/javascript": [
              "\n",
              "    async function download(id, filename, size) {\n",
              "      if (!google.colab.kernel.accessAllowed) {\n",
              "        return;\n",
              "      }\n",
              "      const div = document.createElement('div');\n",
              "      const label = document.createElement('label');\n",
              "      label.textContent = `Downloading \"${filename}\": `;\n",
              "      div.appendChild(label);\n",
              "      const progress = document.createElement('progress');\n",
              "      progress.max = size;\n",
              "      div.appendChild(progress);\n",
              "      document.body.appendChild(div);\n",
              "\n",
              "      const buffers = [];\n",
              "      let downloaded = 0;\n",
              "\n",
              "      const channel = await google.colab.kernel.comms.open(id);\n",
              "      // Send a message to notify the kernel that we're ready.\n",
              "      channel.send({})\n",
              "\n",
              "      for await (const message of channel.messages) {\n",
              "        // Send a message to notify the kernel that we're ready.\n",
              "        channel.send({})\n",
              "        if (message.buffers) {\n",
              "          for (const buffer of message.buffers) {\n",
              "            buffers.push(buffer);\n",
              "            downloaded += buffer.byteLength;\n",
              "            progress.value = downloaded;\n",
              "          }\n",
              "        }\n",
              "      }\n",
              "      const blob = new Blob(buffers, {type: 'application/binary'});\n",
              "      const a = document.createElement('a');\n",
              "      a.href = window.URL.createObjectURL(blob);\n",
              "      a.download = filename;\n",
              "      div.appendChild(a);\n",
              "      a.click();\n",
              "      div.remove();\n",
              "    }\n",
              "  "
            ],
            "text/plain": [
              "<IPython.core.display.Javascript object>"
            ]
          },
          "metadata": {
            "tags": []
          }
        },
        {
          "output_type": "display_data",
          "data": {
            "application/javascript": [
              "download(\"download_7a6ea00c-c74c-4a47-a4d4-c75684d02cf3\", \"customer_buy_state_dict.zip\", 1660)"
            ],
            "text/plain": [
              "<IPython.core.display.Javascript object>"
            ]
          },
          "metadata": {
            "tags": []
          }
        }
      ]
    },
    {
      "cell_type": "code",
      "metadata": {
        "id": "aCkgk2WEmrsX"
      },
      "source": [
        ""
      ],
      "execution_count": null,
      "outputs": []
    }
  ]
}