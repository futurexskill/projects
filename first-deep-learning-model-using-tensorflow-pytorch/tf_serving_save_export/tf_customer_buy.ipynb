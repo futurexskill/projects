{
  "nbformat": 4,
  "nbformat_minor": 0,
  "metadata": {
    "colab": {
      "name": "tf_customer_buy.ipynb",
      "provenance": [],
      "collapsed_sections": []
    },
    "kernelspec": {
      "name": "python3",
      "display_name": "Python 3"
    }
  },
  "cells": [
    {
      "cell_type": "code",
      "metadata": {
        "id": "dSaPTXcIUfBf"
      },
      "source": [
        "import numpy as np\n",
        "import pandas as pd\n",
        "import tensorflow as tf"
      ],
      "execution_count": 1,
      "outputs": []
    },
    {
      "cell_type": "code",
      "metadata": {
        "id": "7w7NHWcVVUfk"
      },
      "source": [
        "dataset = pd.read_csv('https://raw.githubusercontent.com/futurexskill/ml-model-deployment/main/storepurchasedata_large.csv')\n"
      ],
      "execution_count": 2,
      "outputs": []
    },
    {
      "cell_type": "code",
      "metadata": {
        "id": "GWwCUeVGVZSS",
        "outputId": "47249053-8c77-48b7-fb68-d685260c57f0",
        "colab": {
          "base_uri": "https://localhost:8080/",
          "height": 295
        }
      },
      "source": [
        "dataset.describe()"
      ],
      "execution_count": 3,
      "outputs": [
        {
          "output_type": "execute_result",
          "data": {
            "text/html": [
              "<div>\n",
              "<style scoped>\n",
              "    .dataframe tbody tr th:only-of-type {\n",
              "        vertical-align: middle;\n",
              "    }\n",
              "\n",
              "    .dataframe tbody tr th {\n",
              "        vertical-align: top;\n",
              "    }\n",
              "\n",
              "    .dataframe thead th {\n",
              "        text-align: right;\n",
              "    }\n",
              "</style>\n",
              "<table border=\"1\" class=\"dataframe\">\n",
              "  <thead>\n",
              "    <tr style=\"text-align: right;\">\n",
              "      <th></th>\n",
              "      <th>Age</th>\n",
              "      <th>Salary</th>\n",
              "      <th>Purchased</th>\n",
              "    </tr>\n",
              "  </thead>\n",
              "  <tbody>\n",
              "    <tr>\n",
              "      <th>count</th>\n",
              "      <td>1554.000000</td>\n",
              "      <td>1554.000000</td>\n",
              "      <td>1554.000000</td>\n",
              "    </tr>\n",
              "    <tr>\n",
              "      <th>mean</th>\n",
              "      <td>44.296010</td>\n",
              "      <td>57042.471042</td>\n",
              "      <td>0.694981</td>\n",
              "    </tr>\n",
              "    <tr>\n",
              "      <th>std</th>\n",
              "      <td>17.462458</td>\n",
              "      <td>21209.244800</td>\n",
              "      <td>0.460564</td>\n",
              "    </tr>\n",
              "    <tr>\n",
              "      <th>min</th>\n",
              "      <td>18.000000</td>\n",
              "      <td>20000.000000</td>\n",
              "      <td>0.000000</td>\n",
              "    </tr>\n",
              "    <tr>\n",
              "      <th>25%</th>\n",
              "      <td>27.000000</td>\n",
              "      <td>46000.000000</td>\n",
              "      <td>0.000000</td>\n",
              "    </tr>\n",
              "    <tr>\n",
              "      <th>50%</th>\n",
              "      <td>43.000000</td>\n",
              "      <td>60000.000000</td>\n",
              "      <td>1.000000</td>\n",
              "    </tr>\n",
              "    <tr>\n",
              "      <th>75%</th>\n",
              "      <td>62.000000</td>\n",
              "      <td>66000.000000</td>\n",
              "      <td>1.000000</td>\n",
              "    </tr>\n",
              "    <tr>\n",
              "      <th>max</th>\n",
              "      <td>69.000000</td>\n",
              "      <td>96000.000000</td>\n",
              "      <td>1.000000</td>\n",
              "    </tr>\n",
              "  </tbody>\n",
              "</table>\n",
              "</div>"
            ],
            "text/plain": [
              "               Age        Salary    Purchased\n",
              "count  1554.000000   1554.000000  1554.000000\n",
              "mean     44.296010  57042.471042     0.694981\n",
              "std      17.462458  21209.244800     0.460564\n",
              "min      18.000000  20000.000000     0.000000\n",
              "25%      27.000000  46000.000000     0.000000\n",
              "50%      43.000000  60000.000000     1.000000\n",
              "75%      62.000000  66000.000000     1.000000\n",
              "max      69.000000  96000.000000     1.000000"
            ]
          },
          "metadata": {
            "tags": []
          },
          "execution_count": 3
        }
      ]
    },
    {
      "cell_type": "code",
      "metadata": {
        "id": "o6aj3fdnVdGy",
        "outputId": "4fc3aa02-b2e3-4f73-9e9b-1aea2be8f9bb",
        "colab": {
          "base_uri": "https://localhost:8080/",
          "height": 203
        }
      },
      "source": [
        "dataset.head()"
      ],
      "execution_count": 4,
      "outputs": [
        {
          "output_type": "execute_result",
          "data": {
            "text/html": [
              "<div>\n",
              "<style scoped>\n",
              "    .dataframe tbody tr th:only-of-type {\n",
              "        vertical-align: middle;\n",
              "    }\n",
              "\n",
              "    .dataframe tbody tr th {\n",
              "        vertical-align: top;\n",
              "    }\n",
              "\n",
              "    .dataframe thead th {\n",
              "        text-align: right;\n",
              "    }\n",
              "</style>\n",
              "<table border=\"1\" class=\"dataframe\">\n",
              "  <thead>\n",
              "    <tr style=\"text-align: right;\">\n",
              "      <th></th>\n",
              "      <th>Age</th>\n",
              "      <th>Salary</th>\n",
              "      <th>Purchased</th>\n",
              "    </tr>\n",
              "  </thead>\n",
              "  <tbody>\n",
              "    <tr>\n",
              "      <th>0</th>\n",
              "      <td>18</td>\n",
              "      <td>20000</td>\n",
              "      <td>0</td>\n",
              "    </tr>\n",
              "    <tr>\n",
              "      <th>1</th>\n",
              "      <td>19</td>\n",
              "      <td>22000</td>\n",
              "      <td>0</td>\n",
              "    </tr>\n",
              "    <tr>\n",
              "      <th>2</th>\n",
              "      <td>20</td>\n",
              "      <td>24000</td>\n",
              "      <td>0</td>\n",
              "    </tr>\n",
              "    <tr>\n",
              "      <th>3</th>\n",
              "      <td>21</td>\n",
              "      <td>28000</td>\n",
              "      <td>0</td>\n",
              "    </tr>\n",
              "    <tr>\n",
              "      <th>4</th>\n",
              "      <td>22</td>\n",
              "      <td>60000</td>\n",
              "      <td>1</td>\n",
              "    </tr>\n",
              "  </tbody>\n",
              "</table>\n",
              "</div>"
            ],
            "text/plain": [
              "   Age  Salary  Purchased\n",
              "0   18   20000          0\n",
              "1   19   22000          0\n",
              "2   20   24000          0\n",
              "3   21   28000          0\n",
              "4   22   60000          1"
            ]
          },
          "metadata": {
            "tags": []
          },
          "execution_count": 4
        }
      ]
    },
    {
      "cell_type": "code",
      "metadata": {
        "id": "0Y7Vq5UfVm6M"
      },
      "source": [
        "\n",
        "X = dataset.iloc[:, :-1].values\n",
        "y = dataset.iloc[:,-1].values"
      ],
      "execution_count": 5,
      "outputs": []
    },
    {
      "cell_type": "code",
      "metadata": {
        "id": "PeogSuUhVsSu"
      },
      "source": [
        "from sklearn.model_selection import train_test_split\n",
        "X_train, X_test, y_train, y_test = train_test_split(X, y, test_size =.20,random_state=0)"
      ],
      "execution_count": 6,
      "outputs": []
    },
    {
      "cell_type": "code",
      "metadata": {
        "id": "6EDOMEk0VvK2"
      },
      "source": [
        "from sklearn.preprocessing import StandardScaler\n",
        "sc = StandardScaler()\n",
        "X_train = sc.fit_transform(X_train)\n",
        "X_test = sc.transform(X_test)"
      ],
      "execution_count": 7,
      "outputs": []
    },
    {
      "cell_type": "code",
      "metadata": {
        "id": "FrG0-gwKVyIf"
      },
      "source": [
        "model = tf.keras.models.Sequential([\n",
        "  tf.keras.layers.Dense(10, activation='relu'),\n",
        "  tf.keras.layers.Dense(10, activation='relu'),\n",
        "  tf.keras.layers.Dense(2, activation='softmax')\n",
        "])"
      ],
      "execution_count": 8,
      "outputs": []
    },
    {
      "cell_type": "code",
      "metadata": {
        "id": "oB5VAZ6fWCNA"
      },
      "source": [
        "model.compile(optimizer='adam',\n",
        "              loss='sparse_categorical_crossentropy',\n",
        "              metrics=['accuracy'])"
      ],
      "execution_count": 9,
      "outputs": []
    },
    {
      "cell_type": "code",
      "metadata": {
        "id": "uXMXl6SPWG2j",
        "outputId": "6f7b3144-513b-4e4b-f680-29af89a587d1",
        "colab": {
          "base_uri": "https://localhost:8080/"
        }
      },
      "source": [
        "model.fit(X_train, y_train, epochs=50)\n"
      ],
      "execution_count": 10,
      "outputs": [
        {
          "output_type": "stream",
          "text": [
            "Epoch 1/50\n",
            "39/39 [==============================] - 0s 1ms/step - loss: 0.6066 - accuracy: 0.7940\n",
            "Epoch 2/50\n",
            "39/39 [==============================] - 0s 978us/step - loss: 0.5066 - accuracy: 0.8962\n",
            "Epoch 3/50\n",
            "39/39 [==============================] - 0s 997us/step - loss: 0.4019 - accuracy: 0.9509\n",
            "Epoch 4/50\n",
            "39/39 [==============================] - 0s 1ms/step - loss: 0.3035 - accuracy: 0.9533\n",
            "Epoch 5/50\n",
            "39/39 [==============================] - 0s 1ms/step - loss: 0.2297 - accuracy: 0.9533\n",
            "Epoch 6/50\n",
            "39/39 [==============================] - 0s 1ms/step - loss: 0.1818 - accuracy: 0.9541\n",
            "Epoch 7/50\n",
            "39/39 [==============================] - 0s 1ms/step - loss: 0.1560 - accuracy: 0.9558\n",
            "Epoch 8/50\n",
            "39/39 [==============================] - 0s 1ms/step - loss: 0.1412 - accuracy: 0.9558\n",
            "Epoch 9/50\n",
            "39/39 [==============================] - 0s 995us/step - loss: 0.1322 - accuracy: 0.9558\n",
            "Epoch 10/50\n",
            "39/39 [==============================] - 0s 987us/step - loss: 0.1267 - accuracy: 0.9549\n",
            "Epoch 11/50\n",
            "39/39 [==============================] - 0s 1ms/step - loss: 0.1231 - accuracy: 0.9533\n",
            "Epoch 12/50\n",
            "39/39 [==============================] - 0s 971us/step - loss: 0.1213 - accuracy: 0.9533\n",
            "Epoch 13/50\n",
            "39/39 [==============================] - 0s 995us/step - loss: 0.1194 - accuracy: 0.9525\n",
            "Epoch 14/50\n",
            "39/39 [==============================] - 0s 2ms/step - loss: 0.1176 - accuracy: 0.9525\n",
            "Epoch 15/50\n",
            "39/39 [==============================] - 0s 1ms/step - loss: 0.1166 - accuracy: 0.9517\n",
            "Epoch 16/50\n",
            "39/39 [==============================] - 0s 1ms/step - loss: 0.1158 - accuracy: 0.9517\n",
            "Epoch 17/50\n",
            "39/39 [==============================] - 0s 977us/step - loss: 0.1153 - accuracy: 0.9517\n",
            "Epoch 18/50\n",
            "39/39 [==============================] - 0s 1ms/step - loss: 0.1155 - accuracy: 0.9517\n",
            "Epoch 19/50\n",
            "39/39 [==============================] - 0s 970us/step - loss: 0.1145 - accuracy: 0.9517\n",
            "Epoch 20/50\n",
            "39/39 [==============================] - 0s 996us/step - loss: 0.1137 - accuracy: 0.9517\n",
            "Epoch 21/50\n",
            "39/39 [==============================] - 0s 1ms/step - loss: 0.1137 - accuracy: 0.9517\n",
            "Epoch 22/50\n",
            "39/39 [==============================] - 0s 1ms/step - loss: 0.1132 - accuracy: 0.9517\n",
            "Epoch 23/50\n",
            "39/39 [==============================] - 0s 1ms/step - loss: 0.1127 - accuracy: 0.9525\n",
            "Epoch 24/50\n",
            "39/39 [==============================] - 0s 1ms/step - loss: 0.1126 - accuracy: 0.9517\n",
            "Epoch 25/50\n",
            "39/39 [==============================] - 0s 991us/step - loss: 0.1119 - accuracy: 0.9525\n",
            "Epoch 26/50\n",
            "39/39 [==============================] - 0s 990us/step - loss: 0.1120 - accuracy: 0.9517\n",
            "Epoch 27/50\n",
            "39/39 [==============================] - 0s 1ms/step - loss: 0.1115 - accuracy: 0.9517\n",
            "Epoch 28/50\n",
            "39/39 [==============================] - 0s 1ms/step - loss: 0.1109 - accuracy: 0.9525\n",
            "Epoch 29/50\n",
            "39/39 [==============================] - 0s 1ms/step - loss: 0.1115 - accuracy: 0.9517\n",
            "Epoch 30/50\n",
            "39/39 [==============================] - 0s 954us/step - loss: 0.1102 - accuracy: 0.9517\n",
            "Epoch 31/50\n",
            "39/39 [==============================] - 0s 1ms/step - loss: 0.1102 - accuracy: 0.9517\n",
            "Epoch 32/50\n",
            "39/39 [==============================] - 0s 970us/step - loss: 0.1103 - accuracy: 0.9517\n",
            "Epoch 33/50\n",
            "39/39 [==============================] - 0s 965us/step - loss: 0.1107 - accuracy: 0.9525\n",
            "Epoch 34/50\n",
            "39/39 [==============================] - 0s 1ms/step - loss: 0.1100 - accuracy: 0.9517\n",
            "Epoch 35/50\n",
            "39/39 [==============================] - 0s 1ms/step - loss: 0.1098 - accuracy: 0.9525\n",
            "Epoch 36/50\n",
            "39/39 [==============================] - 0s 1ms/step - loss: 0.1089 - accuracy: 0.9517\n",
            "Epoch 37/50\n",
            "39/39 [==============================] - 0s 1ms/step - loss: 0.1094 - accuracy: 0.9517\n",
            "Epoch 38/50\n",
            "39/39 [==============================] - 0s 1ms/step - loss: 0.1083 - accuracy: 0.9517\n",
            "Epoch 39/50\n",
            "39/39 [==============================] - 0s 1ms/step - loss: 0.1085 - accuracy: 0.9525\n",
            "Epoch 40/50\n",
            "39/39 [==============================] - 0s 1ms/step - loss: 0.1078 - accuracy: 0.9517\n",
            "Epoch 41/50\n",
            "39/39 [==============================] - 0s 1ms/step - loss: 0.1081 - accuracy: 0.9517\n",
            "Epoch 42/50\n",
            "39/39 [==============================] - 0s 1ms/step - loss: 0.1074 - accuracy: 0.9533\n",
            "Epoch 43/50\n",
            "39/39 [==============================] - 0s 2ms/step - loss: 0.1073 - accuracy: 0.9517\n",
            "Epoch 44/50\n",
            "39/39 [==============================] - 0s 1ms/step - loss: 0.1071 - accuracy: 0.9517\n",
            "Epoch 45/50\n",
            "39/39 [==============================] - 0s 1ms/step - loss: 0.1074 - accuracy: 0.9549\n",
            "Epoch 46/50\n",
            "39/39 [==============================] - 0s 1ms/step - loss: 0.1073 - accuracy: 0.9517\n",
            "Epoch 47/50\n",
            "39/39 [==============================] - 0s 1ms/step - loss: 0.1078 - accuracy: 0.9517\n",
            "Epoch 48/50\n",
            "39/39 [==============================] - 0s 1ms/step - loss: 0.1065 - accuracy: 0.9558\n",
            "Epoch 49/50\n",
            "39/39 [==============================] - 0s 1ms/step - loss: 0.1063 - accuracy: 0.9517\n",
            "Epoch 50/50\n",
            "39/39 [==============================] - 0s 1ms/step - loss: 0.1066 - accuracy: 0.9533\n"
          ],
          "name": "stdout"
        },
        {
          "output_type": "execute_result",
          "data": {
            "text/plain": [
              "<tensorflow.python.keras.callbacks.History at 0x7f57a2ad46d8>"
            ]
          },
          "metadata": {
            "tags": []
          },
          "execution_count": 10
        }
      ]
    },
    {
      "cell_type": "code",
      "metadata": {
        "id": "VqGZYTKDWMZW",
        "outputId": "492fe58f-1621-4a06-e67c-f66300c43445",
        "colab": {
          "base_uri": "https://localhost:8080/"
        }
      },
      "source": [
        "loss, accuracy =model.evaluate(X_test, y_test)\n"
      ],
      "execution_count": 11,
      "outputs": [
        {
          "output_type": "stream",
          "text": [
            "10/10 [==============================] - 0s 1ms/step - loss: 0.1088 - accuracy: 0.9550\n"
          ],
          "name": "stdout"
        }
      ]
    },
    {
      "cell_type": "code",
      "metadata": {
        "id": "10TeeyfvWVuV",
        "outputId": "844b59c8-4198-4bde-a0fe-850b26ba9cf6",
        "colab": {
          "base_uri": "https://localhost:8080/"
        }
      },
      "source": [
        "loss"
      ],
      "execution_count": 12,
      "outputs": [
        {
          "output_type": "execute_result",
          "data": {
            "text/plain": [
              "0.1088424026966095"
            ]
          },
          "metadata": {
            "tags": []
          },
          "execution_count": 12
        }
      ]
    },
    {
      "cell_type": "code",
      "metadata": {
        "id": "5aoZSvJVWXLQ",
        "outputId": "246f350c-97a1-47e7-cc0f-57cdbfc81a4d",
        "colab": {
          "base_uri": "https://localhost:8080/"
        }
      },
      "source": [
        "accuracy"
      ],
      "execution_count": 13,
      "outputs": [
        {
          "output_type": "execute_result",
          "data": {
            "text/plain": [
              "0.9549839496612549"
            ]
          },
          "metadata": {
            "tags": []
          },
          "execution_count": 13
        }
      ]
    },
    {
      "cell_type": "code",
      "metadata": {
        "id": "IWamKyjmWYxd",
        "outputId": "a012d2a8-c48f-4c94-a3a0-914d7110b0bf",
        "colab": {
          "base_uri": "https://localhost:8080/"
        }
      },
      "source": [
        "model.summary()\n"
      ],
      "execution_count": 14,
      "outputs": [
        {
          "output_type": "stream",
          "text": [
            "Model: \"sequential\"\n",
            "_________________________________________________________________\n",
            "Layer (type)                 Output Shape              Param #   \n",
            "=================================================================\n",
            "dense (Dense)                (None, 10)                30        \n",
            "_________________________________________________________________\n",
            "dense_1 (Dense)              (None, 10)                110       \n",
            "_________________________________________________________________\n",
            "dense_2 (Dense)              (None, 2)                 22        \n",
            "=================================================================\n",
            "Total params: 162\n",
            "Trainable params: 162\n",
            "Non-trainable params: 0\n",
            "_________________________________________________________________\n"
          ],
          "name": "stdout"
        }
      ]
    },
    {
      "cell_type": "code",
      "metadata": {
        "id": "SSsa834JWb8m",
        "outputId": "2303cdd3-183a-4eba-ddfa-3eb0a6ef79a6",
        "colab": {
          "base_uri": "https://localhost:8080/"
        }
      },
      "source": [
        " prediction1 = model.predict(sc.transform(np.array([[42,50000]])))[:,1]\n",
        " prediction1"
      ],
      "execution_count": 15,
      "outputs": [
        {
          "output_type": "execute_result",
          "data": {
            "text/plain": [
              "array([0.64286834], dtype=float32)"
            ]
          },
          "metadata": {
            "tags": []
          },
          "execution_count": 15
        }
      ]
    },
    {
      "cell_type": "code",
      "metadata": {
        "id": "pS1vMI0uWg6p",
        "outputId": "1b02226d-cf65-4774-a2ab-e51252ecb4c7",
        "colab": {
          "base_uri": "https://localhost:8080/"
        }
      },
      "source": [
        "predict2 = model.predict(sc.transform(np.array([[20,40000]])))[:,1]\n",
        "predict2"
      ],
      "execution_count": 16,
      "outputs": [
        {
          "output_type": "execute_result",
          "data": {
            "text/plain": [
              "array([0.00796465], dtype=float32)"
            ]
          },
          "metadata": {
            "tags": []
          },
          "execution_count": 16
        }
      ]
    },
    {
      "cell_type": "code",
      "metadata": {
        "id": "mlrlaz9oWlzG",
        "outputId": "f46169e1-9b20-4493-da9a-1d5c9b1761c2",
        "colab": {
          "base_uri": "https://localhost:8080/"
        }
      },
      "source": [
        "model.save('customer_behavior_model/1')\n"
      ],
      "execution_count": 17,
      "outputs": [
        {
          "output_type": "stream",
          "text": [
            "WARNING:tensorflow:From /usr/local/lib/python3.6/dist-packages/tensorflow/python/training/tracking/tracking.py:111: Model.state_updates (from tensorflow.python.keras.engine.training) is deprecated and will be removed in a future version.\n",
            "Instructions for updating:\n",
            "This property should not be used in TensorFlow 2.0, as updates are applied automatically.\n",
            "WARNING:tensorflow:From /usr/local/lib/python3.6/dist-packages/tensorflow/python/training/tracking/tracking.py:111: Layer.updates (from tensorflow.python.keras.engine.base_layer) is deprecated and will be removed in a future version.\n",
            "Instructions for updating:\n",
            "This property should not be used in TensorFlow 2.0, as updates are applied automatically.\n",
            "INFO:tensorflow:Assets written to: customer_behavior_model/1/assets\n"
          ],
          "name": "stdout"
        }
      ]
    },
    {
      "cell_type": "code",
      "metadata": {
        "id": "uwAQ3xy0WssK",
        "outputId": "c6694aac-3760-4be5-86f2-062575561cb9",
        "colab": {
          "base_uri": "https://localhost:8080/"
        }
      },
      "source": [
        "!ls"
      ],
      "execution_count": 18,
      "outputs": [
        {
          "output_type": "stream",
          "text": [
            "customer_behavior_model  sample_data\n"
          ],
          "name": "stdout"
        }
      ]
    },
    {
      "cell_type": "code",
      "metadata": {
        "id": "DitNGJxKWuvC",
        "outputId": "8a2253f3-4726-439b-fef2-4606e420a0fd",
        "colab": {
          "base_uri": "https://localhost:8080/"
        }
      },
      "source": [
        "!ls customer_behavior_model  "
      ],
      "execution_count": 19,
      "outputs": [
        {
          "output_type": "stream",
          "text": [
            "1\n"
          ],
          "name": "stdout"
        }
      ]
    },
    {
      "cell_type": "code",
      "metadata": {
        "id": "AdwMYytCWwr2",
        "outputId": "e9550928-882b-4a22-a468-21316eec83e3",
        "colab": {
          "base_uri": "https://localhost:8080/"
        }
      },
      "source": [
        "!ls customer_behavior_model/1"
      ],
      "execution_count": 20,
      "outputs": [
        {
          "output_type": "stream",
          "text": [
            "assets\tsaved_model.pb\tvariables\n"
          ],
          "name": "stdout"
        }
      ]
    },
    {
      "cell_type": "code",
      "metadata": {
        "id": "8BrGOyCnWzBC"
      },
      "source": [
        "from tensorflow.keras.models import load_model\n"
      ],
      "execution_count": 21,
      "outputs": []
    },
    {
      "cell_type": "code",
      "metadata": {
        "id": "ROXzTo3IXFWC"
      },
      "source": [
        "cust_model = load_model('customer_behavior_model/1/')"
      ],
      "execution_count": 22,
      "outputs": []
    },
    {
      "cell_type": "code",
      "metadata": {
        "id": "RYF6OFNVXKJ5",
        "outputId": "15f9c238-c107-41c0-b772-ae35dbdad313",
        "colab": {
          "base_uri": "https://localhost:8080/"
        }
      },
      "source": [
        " prediction3 = cust_model.predict(sc.transform(np.array([[42,50000]])))[:,1]\n",
        " prediction3"
      ],
      "execution_count": 23,
      "outputs": [
        {
          "output_type": "execute_result",
          "data": {
            "text/plain": [
              "array([0.64286834], dtype=float32)"
            ]
          },
          "metadata": {
            "tags": []
          },
          "execution_count": 23
        }
      ]
    },
    {
      "cell_type": "code",
      "metadata": {
        "id": "E2u1uX5hXNnE",
        "outputId": "fd839981-f6a9-4c51-f708-662f4e800ccb",
        "colab": {
          "base_uri": "https://localhost:8080/"
        }
      },
      "source": [
        "predict4 = model.predict(sc.transform(np.array([[20,40000]])))[:,1]\n",
        "predict4"
      ],
      "execution_count": 24,
      "outputs": [
        {
          "output_type": "execute_result",
          "data": {
            "text/plain": [
              "array([0.00796465], dtype=float32)"
            ]
          },
          "metadata": {
            "tags": []
          },
          "execution_count": 24
        }
      ]
    },
    {
      "cell_type": "code",
      "metadata": {
        "id": "jbOirnHMXQOp"
      },
      "source": [
        "from tensorflow.keras.models import load_model\n"
      ],
      "execution_count": 25,
      "outputs": []
    },
    {
      "cell_type": "code",
      "metadata": {
        "id": "qOK6-FAoXx05"
      },
      "source": [
        "cust_model = load_model('customer_behavior_model/1/')"
      ],
      "execution_count": 26,
      "outputs": []
    },
    {
      "cell_type": "code",
      "metadata": {
        "id": "E2PiWiwqX19g",
        "outputId": "00676c26-9774-43e9-9d8d-757dcedb2498",
        "colab": {
          "base_uri": "https://localhost:8080/"
        }
      },
      "source": [
        " prediction3 = cust_model.predict(sc.transform(np.array([[42,50000]])))[:,1]\n",
        " prediction3"
      ],
      "execution_count": 27,
      "outputs": [
        {
          "output_type": "execute_result",
          "data": {
            "text/plain": [
              "array([0.64286834], dtype=float32)"
            ]
          },
          "metadata": {
            "tags": []
          },
          "execution_count": 27
        }
      ]
    },
    {
      "cell_type": "code",
      "metadata": {
        "id": "2Z85SY3JX4Qq",
        "outputId": "e4983565-4cbe-47f1-91de-fb815b15e885",
        "colab": {
          "base_uri": "https://localhost:8080/"
        }
      },
      "source": [
        "predict4 = model.predict(sc.transform(np.array([[20,40000]])))[:,1]\n",
        "predict4"
      ],
      "execution_count": 28,
      "outputs": [
        {
          "output_type": "execute_result",
          "data": {
            "text/plain": [
              "array([0.00796465], dtype=float32)"
            ]
          },
          "metadata": {
            "tags": []
          },
          "execution_count": 28
        }
      ]
    },
    {
      "cell_type": "code",
      "metadata": {
        "id": "8mHJFYXHX7cC",
        "outputId": "1b2ecfe0-787e-4775-d4ca-854b41a608af",
        "colab": {
          "base_uri": "https://localhost:8080/"
        }
      },
      "source": [
        "!zip -r customermodel.zip customer_behavior_model  "
      ],
      "execution_count": 29,
      "outputs": [
        {
          "output_type": "stream",
          "text": [
            "  adding: customer_behavior_model/ (stored 0%)\n",
            "  adding: customer_behavior_model/1/ (stored 0%)\n",
            "  adding: customer_behavior_model/1/variables/ (stored 0%)\n",
            "  adding: customer_behavior_model/1/variables/variables.data-00000-of-00001 (deflated 55%)\n",
            "  adding: customer_behavior_model/1/variables/variables.index (deflated 64%)\n",
            "  adding: customer_behavior_model/1/saved_model.pb (deflated 88%)\n",
            "  adding: customer_behavior_model/1/assets/ (stored 0%)\n"
          ],
          "name": "stdout"
        }
      ]
    },
    {
      "cell_type": "code",
      "metadata": {
        "id": "_3K9r1vAX_jM"
      },
      "source": [
        "from google.colab import files"
      ],
      "execution_count": 30,
      "outputs": []
    },
    {
      "cell_type": "code",
      "metadata": {
        "id": "H0dAxkicYGWU",
        "outputId": "08e407d1-0f3a-4479-f2ba-9591723090f9",
        "colab": {
          "base_uri": "https://localhost:8080/"
        }
      },
      "source": [
        "!ls"
      ],
      "execution_count": 31,
      "outputs": [
        {
          "output_type": "stream",
          "text": [
            "customer_behavior_model  customermodel.zip  sample_data\n"
          ],
          "name": "stdout"
        }
      ]
    },
    {
      "cell_type": "code",
      "metadata": {
        "id": "khhxwCa4YHHl",
        "outputId": "6b4f7440-9028-4063-f342-e76b25e26456",
        "colab": {
          "base_uri": "https://localhost:8080/",
          "height": 17
        }
      },
      "source": [
        "files.download('customermodel.zip')"
      ],
      "execution_count": 33,
      "outputs": [
        {
          "output_type": "display_data",
          "data": {
            "application/javascript": [
              "\n",
              "    async function download(id, filename, size) {\n",
              "      if (!google.colab.kernel.accessAllowed) {\n",
              "        return;\n",
              "      }\n",
              "      const div = document.createElement('div');\n",
              "      const label = document.createElement('label');\n",
              "      label.textContent = `Downloading \"${filename}\": `;\n",
              "      div.appendChild(label);\n",
              "      const progress = document.createElement('progress');\n",
              "      progress.max = size;\n",
              "      div.appendChild(progress);\n",
              "      document.body.appendChild(div);\n",
              "\n",
              "      const buffers = [];\n",
              "      let downloaded = 0;\n",
              "\n",
              "      const channel = await google.colab.kernel.comms.open(id);\n",
              "      // Send a message to notify the kernel that we're ready.\n",
              "      channel.send({})\n",
              "\n",
              "      for await (const message of channel.messages) {\n",
              "        // Send a message to notify the kernel that we're ready.\n",
              "        channel.send({})\n",
              "        if (message.buffers) {\n",
              "          for (const buffer of message.buffers) {\n",
              "            buffers.push(buffer);\n",
              "            downloaded += buffer.byteLength;\n",
              "            progress.value = downloaded;\n",
              "          }\n",
              "        }\n",
              "      }\n",
              "      const blob = new Blob(buffers, {type: 'application/binary'});\n",
              "      const a = document.createElement('a');\n",
              "      a.href = window.URL.createObjectURL(blob);\n",
              "      a.download = filename;\n",
              "      div.appendChild(a);\n",
              "      a.click();\n",
              "      div.remove();\n",
              "    }\n",
              "  "
            ],
            "text/plain": [
              "<IPython.core.display.Javascript object>"
            ]
          },
          "metadata": {
            "tags": []
          }
        },
        {
          "output_type": "display_data",
          "data": {
            "application/javascript": [
              "download(\"download_67bbc5d9-601c-4d1d-89a6-779c538abc9a\", \"customermodel.zip\", 15725)"
            ],
            "text/plain": [
              "<IPython.core.display.Javascript object>"
            ]
          },
          "metadata": {
            "tags": []
          }
        }
      ]
    },
    {
      "cell_type": "code",
      "metadata": {
        "id": "VbNIEfH8YLqz"
      },
      "source": [
        ""
      ],
      "execution_count": null,
      "outputs": []
    }
  ]
}