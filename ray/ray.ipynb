{
  "nbformat": 4,
  "nbformat_minor": 0,
  "metadata": {
    "colab": {
      "provenance": []
    },
    "kernelspec": {
      "name": "python3",
      "display_name": "Python 3"
    },
    "language_info": {
      "name": "python"
    }
  },
  "cells": [
    {
      "cell_type": "code",
      "source": [
        "!pip install ray"
      ],
      "metadata": {
        "colab": {
          "base_uri": "https://localhost:8080/"
        },
        "id": "LR2f2VcW2jzY",
        "outputId": "1a98c11d-aa8c-408e-c4c2-48f96d85f41f"
      },
      "execution_count": null,
      "outputs": [
        {
          "output_type": "stream",
          "name": "stdout",
          "text": [
            "Requirement already satisfied: ray in /usr/local/lib/python3.10/dist-packages (2.10.0)\n",
            "Requirement already satisfied: click>=7.0 in /usr/local/lib/python3.10/dist-packages (from ray) (8.1.7)\n",
            "Requirement already satisfied: filelock in /usr/local/lib/python3.10/dist-packages (from ray) (3.13.3)\n",
            "Requirement already satisfied: jsonschema in /usr/local/lib/python3.10/dist-packages (from ray) (4.19.2)\n",
            "Requirement already satisfied: msgpack<2.0.0,>=1.0.0 in /usr/local/lib/python3.10/dist-packages (from ray) (1.0.8)\n",
            "Requirement already satisfied: packaging in /usr/local/lib/python3.10/dist-packages (from ray) (24.0)\n",
            "Requirement already satisfied: protobuf!=3.19.5,>=3.15.3 in /usr/local/lib/python3.10/dist-packages (from ray) (3.20.3)\n",
            "Requirement already satisfied: pyyaml in /usr/local/lib/python3.10/dist-packages (from ray) (6.0.1)\n",
            "Requirement already satisfied: aiosignal in /usr/local/lib/python3.10/dist-packages (from ray) (1.3.1)\n",
            "Requirement already satisfied: frozenlist in /usr/local/lib/python3.10/dist-packages (from ray) (1.4.1)\n",
            "Requirement already satisfied: requests in /usr/local/lib/python3.10/dist-packages (from ray) (2.31.0)\n",
            "Requirement already satisfied: attrs>=22.2.0 in /usr/local/lib/python3.10/dist-packages (from jsonschema->ray) (23.2.0)\n",
            "Requirement already satisfied: jsonschema-specifications>=2023.03.6 in /usr/local/lib/python3.10/dist-packages (from jsonschema->ray) (2023.12.1)\n",
            "Requirement already satisfied: referencing>=0.28.4 in /usr/local/lib/python3.10/dist-packages (from jsonschema->ray) (0.34.0)\n",
            "Requirement already satisfied: rpds-py>=0.7.1 in /usr/local/lib/python3.10/dist-packages (from jsonschema->ray) (0.18.0)\n",
            "Requirement already satisfied: charset-normalizer<4,>=2 in /usr/local/lib/python3.10/dist-packages (from requests->ray) (3.3.2)\n",
            "Requirement already satisfied: idna<4,>=2.5 in /usr/local/lib/python3.10/dist-packages (from requests->ray) (3.6)\n",
            "Requirement already satisfied: urllib3<3,>=1.21.1 in /usr/local/lib/python3.10/dist-packages (from requests->ray) (2.0.7)\n",
            "Requirement already satisfied: certifi>=2017.4.17 in /usr/local/lib/python3.10/dist-packages (from requests->ray) (2024.2.2)\n"
          ]
        }
      ]
    },
    {
      "cell_type": "code",
      "source": [
        "import time\n",
        "\n",
        "# Define a complex mathematical operation\n",
        "def complex_operation(n):\n",
        "    result = 0\n",
        "    for i in range(n):\n",
        "        result += (i ** 2) + (i // 2) + (i % 3)  # Simulating a complex operation\n",
        "    return result\n",
        "\n",
        "# Parameters\n",
        "n = 10000000  # Performing the complex operation 10,000,000 times\n",
        "\n",
        "# Sequential computation\n",
        "start_time = time.time()\n",
        "result_seq = complex_operation(n)\n",
        "total_time_seq = time.time() - start_time\n",
        "\n",
        "# Output the results\n",
        "print(f\"Without Ray: {result_seq}\\nTotal time: {total_time_seq} seconds\")\n"
      ],
      "metadata": {
        "id": "NKAgpaQG8iIq",
        "colab": {
          "base_uri": "https://localhost:8080/"
        },
        "outputId": "4476ad5b-bbeb-4b40-b89d-4237f97a56a3"
      },
      "execution_count": null,
      "outputs": [
        {
          "output_type": "stream",
          "name": "stdout",
          "text": [
            "Sequential result: 333333308333339999999\n",
            "Total time: 5.447381019592285 seconds\n"
          ]
        }
      ]
    },
    {
      "cell_type": "code",
      "source": [
        "ray.shutdown()\n"
      ],
      "metadata": {
        "id": "jH2lH-kJTEBV"
      },
      "execution_count": null,
      "outputs": []
    },
    {
      "cell_type": "code",
      "source": [
        "import time\n",
        "import ray\n",
        "\n",
        "# Define a complex mathematical operation\n",
        "@ray.remote\n",
        "def complex_operation(n):\n",
        "    result = 0\n",
        "    for i in range(n):\n",
        "        result += (i ** 2) + (i // 2) + (i % 3)  # Simulating a complex operation\n",
        "    return result\n",
        "\n",
        "# Parameters\n",
        "n = 10000000  # Performing the complex operation 10,000,000 times\n",
        "\n",
        "# Parallel computation using Ray\n",
        "ray.init()\n",
        "start_time = time.time()\n",
        "result_ray = ray.get(complex_operation.remote(n))\n",
        "total_time_ray = time.time() - start_time\n",
        "\n",
        "# Output the results\n",
        "print(f\"Ray result: {result_ray}\\nTotal time: {total_time_ray} seconds\")\n",
        "ray.shutdown()\n"
      ],
      "metadata": {
        "colab": {
          "base_uri": "https://localhost:8080/"
        },
        "id": "J0zTE4ZJNp7D",
        "outputId": "89a57739-e0e6-4f56-f93e-66db0ab0d486"
      },
      "execution_count": null,
      "outputs": [
        {
          "output_type": "stream",
          "name": "stderr",
          "text": [
            "2024-03-29 17:40:35,825\tINFO worker.py:1752 -- Started a local Ray instance.\n"
          ]
        },
        {
          "output_type": "stream",
          "name": "stdout",
          "text": [
            "Ray result: 333333308333339999999\n",
            "Total time: 5.566160678863525 seconds\n"
          ]
        }
      ]
    },
    {
      "cell_type": "code",
      "source": [],
      "metadata": {
        "id": "qWmyjXY_NtHl"
      },
      "execution_count": null,
      "outputs": []
    }
  ]
}